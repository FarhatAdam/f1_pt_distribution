{
 "cells": [
  {
   "cell_type": "code",
   "execution_count": 1,
   "id": "3d8c3168",
   "metadata": {},
   "outputs": [],
   "source": [
    "import pandas as pd\n",
    "import numpy as np"
   ]
  },
  {
   "cell_type": "markdown",
   "id": "660c5b1f",
   "metadata": {},
   "source": [
    "# EDA"
   ]
  },
  {
   "cell_type": "code",
   "execution_count": 2,
   "id": "3daddef3",
   "metadata": {},
   "outputs": [
    {
     "data": {
      "text/html": [
       "<div>\n",
       "<style scoped>\n",
       "    .dataframe tbody tr th:only-of-type {\n",
       "        vertical-align: middle;\n",
       "    }\n",
       "\n",
       "    .dataframe tbody tr th {\n",
       "        vertical-align: top;\n",
       "    }\n",
       "\n",
       "    .dataframe thead th {\n",
       "        text-align: right;\n",
       "    }\n",
       "</style>\n",
       "<table border=\"1\" class=\"dataframe\">\n",
       "  <thead>\n",
       "    <tr style=\"text-align: right;\">\n",
       "      <th></th>\n",
       "      <th>raceId</th>\n",
       "      <th>year</th>\n",
       "      <th>round</th>\n",
       "      <th>circuitId</th>\n",
       "      <th>name</th>\n",
       "      <th>date</th>\n",
       "      <th>time</th>\n",
       "      <th>url</th>\n",
       "      <th>fp1_date</th>\n",
       "      <th>fp1_time</th>\n",
       "      <th>fp2_date</th>\n",
       "      <th>fp2_time</th>\n",
       "      <th>fp3_date</th>\n",
       "      <th>fp3_time</th>\n",
       "      <th>quali_date</th>\n",
       "      <th>quali_time</th>\n",
       "      <th>sprint_date</th>\n",
       "      <th>sprint_time</th>\n",
       "    </tr>\n",
       "  </thead>\n",
       "  <tbody>\n",
       "    <tr>\n",
       "      <th>0</th>\n",
       "      <td>1</td>\n",
       "      <td>2009</td>\n",
       "      <td>1</td>\n",
       "      <td>1</td>\n",
       "      <td>Australian Grand Prix</td>\n",
       "      <td>2009-03-29</td>\n",
       "      <td>06:00:00</td>\n",
       "      <td>http://en.wikipedia.org/wiki/2009_Australian_G...</td>\n",
       "      <td>\\N</td>\n",
       "      <td>\\N</td>\n",
       "      <td>\\N</td>\n",
       "      <td>\\N</td>\n",
       "      <td>\\N</td>\n",
       "      <td>\\N</td>\n",
       "      <td>\\N</td>\n",
       "      <td>\\N</td>\n",
       "      <td>\\N</td>\n",
       "      <td>\\N</td>\n",
       "    </tr>\n",
       "    <tr>\n",
       "      <th>1</th>\n",
       "      <td>2</td>\n",
       "      <td>2009</td>\n",
       "      <td>2</td>\n",
       "      <td>2</td>\n",
       "      <td>Malaysian Grand Prix</td>\n",
       "      <td>2009-04-05</td>\n",
       "      <td>09:00:00</td>\n",
       "      <td>http://en.wikipedia.org/wiki/2009_Malaysian_Gr...</td>\n",
       "      <td>\\N</td>\n",
       "      <td>\\N</td>\n",
       "      <td>\\N</td>\n",
       "      <td>\\N</td>\n",
       "      <td>\\N</td>\n",
       "      <td>\\N</td>\n",
       "      <td>\\N</td>\n",
       "      <td>\\N</td>\n",
       "      <td>\\N</td>\n",
       "      <td>\\N</td>\n",
       "    </tr>\n",
       "    <tr>\n",
       "      <th>2</th>\n",
       "      <td>3</td>\n",
       "      <td>2009</td>\n",
       "      <td>3</td>\n",
       "      <td>17</td>\n",
       "      <td>Chinese Grand Prix</td>\n",
       "      <td>2009-04-19</td>\n",
       "      <td>07:00:00</td>\n",
       "      <td>http://en.wikipedia.org/wiki/2009_Chinese_Gran...</td>\n",
       "      <td>\\N</td>\n",
       "      <td>\\N</td>\n",
       "      <td>\\N</td>\n",
       "      <td>\\N</td>\n",
       "      <td>\\N</td>\n",
       "      <td>\\N</td>\n",
       "      <td>\\N</td>\n",
       "      <td>\\N</td>\n",
       "      <td>\\N</td>\n",
       "      <td>\\N</td>\n",
       "    </tr>\n",
       "    <tr>\n",
       "      <th>3</th>\n",
       "      <td>4</td>\n",
       "      <td>2009</td>\n",
       "      <td>4</td>\n",
       "      <td>3</td>\n",
       "      <td>Bahrain Grand Prix</td>\n",
       "      <td>2009-04-26</td>\n",
       "      <td>12:00:00</td>\n",
       "      <td>http://en.wikipedia.org/wiki/2009_Bahrain_Gran...</td>\n",
       "      <td>\\N</td>\n",
       "      <td>\\N</td>\n",
       "      <td>\\N</td>\n",
       "      <td>\\N</td>\n",
       "      <td>\\N</td>\n",
       "      <td>\\N</td>\n",
       "      <td>\\N</td>\n",
       "      <td>\\N</td>\n",
       "      <td>\\N</td>\n",
       "      <td>\\N</td>\n",
       "    </tr>\n",
       "    <tr>\n",
       "      <th>4</th>\n",
       "      <td>5</td>\n",
       "      <td>2009</td>\n",
       "      <td>5</td>\n",
       "      <td>4</td>\n",
       "      <td>Spanish Grand Prix</td>\n",
       "      <td>2009-05-10</td>\n",
       "      <td>12:00:00</td>\n",
       "      <td>http://en.wikipedia.org/wiki/2009_Spanish_Gran...</td>\n",
       "      <td>\\N</td>\n",
       "      <td>\\N</td>\n",
       "      <td>\\N</td>\n",
       "      <td>\\N</td>\n",
       "      <td>\\N</td>\n",
       "      <td>\\N</td>\n",
       "      <td>\\N</td>\n",
       "      <td>\\N</td>\n",
       "      <td>\\N</td>\n",
       "      <td>\\N</td>\n",
       "    </tr>\n",
       "  </tbody>\n",
       "</table>\n",
       "</div>"
      ],
      "text/plain": [
       "   raceId  year  round  circuitId                   name        date   \n",
       "0       1  2009      1          1  Australian Grand Prix  2009-03-29  \\\n",
       "1       2  2009      2          2   Malaysian Grand Prix  2009-04-05   \n",
       "2       3  2009      3         17     Chinese Grand Prix  2009-04-19   \n",
       "3       4  2009      4          3     Bahrain Grand Prix  2009-04-26   \n",
       "4       5  2009      5          4     Spanish Grand Prix  2009-05-10   \n",
       "\n",
       "       time                                                url fp1_date   \n",
       "0  06:00:00  http://en.wikipedia.org/wiki/2009_Australian_G...       \\N  \\\n",
       "1  09:00:00  http://en.wikipedia.org/wiki/2009_Malaysian_Gr...       \\N   \n",
       "2  07:00:00  http://en.wikipedia.org/wiki/2009_Chinese_Gran...       \\N   \n",
       "3  12:00:00  http://en.wikipedia.org/wiki/2009_Bahrain_Gran...       \\N   \n",
       "4  12:00:00  http://en.wikipedia.org/wiki/2009_Spanish_Gran...       \\N   \n",
       "\n",
       "  fp1_time fp2_date fp2_time fp3_date fp3_time quali_date quali_time   \n",
       "0       \\N       \\N       \\N       \\N       \\N         \\N         \\N  \\\n",
       "1       \\N       \\N       \\N       \\N       \\N         \\N         \\N   \n",
       "2       \\N       \\N       \\N       \\N       \\N         \\N         \\N   \n",
       "3       \\N       \\N       \\N       \\N       \\N         \\N         \\N   \n",
       "4       \\N       \\N       \\N       \\N       \\N         \\N         \\N   \n",
       "\n",
       "  sprint_date sprint_time  \n",
       "0          \\N          \\N  \n",
       "1          \\N          \\N  \n",
       "2          \\N          \\N  \n",
       "3          \\N          \\N  \n",
       "4          \\N          \\N  "
      ]
     },
     "execution_count": 2,
     "metadata": {},
     "output_type": "execute_result"
    }
   ],
   "source": [
    "races_df = pd.read_csv('data/Formula1/races.csv')\n",
    "races_df.head()"
   ]
  },
  {
   "cell_type": "markdown",
   "id": "1356f9e1",
   "metadata": {},
   "source": [
    "## 21st Century Races"
   ]
  },
  {
   "cell_type": "code",
   "execution_count": 3,
   "id": "9db7c5a2",
   "metadata": {},
   "outputs": [
    {
     "data": {
      "text/html": [
       "<div>\n",
       "<style scoped>\n",
       "    .dataframe tbody tr th:only-of-type {\n",
       "        vertical-align: middle;\n",
       "    }\n",
       "\n",
       "    .dataframe tbody tr th {\n",
       "        vertical-align: top;\n",
       "    }\n",
       "\n",
       "    .dataframe thead th {\n",
       "        text-align: right;\n",
       "    }\n",
       "</style>\n",
       "<table border=\"1\" class=\"dataframe\">\n",
       "  <thead>\n",
       "    <tr style=\"text-align: right;\">\n",
       "      <th></th>\n",
       "      <th>year</th>\n",
       "      <th>race_list</th>\n",
       "      <th>num_races</th>\n",
       "    </tr>\n",
       "  </thead>\n",
       "  <tbody>\n",
       "    <tr>\n",
       "      <th>0</th>\n",
       "      <td>1950</td>\n",
       "      <td>[833, 834, 835, 836, 837, 838, 839]</td>\n",
       "      <td>7</td>\n",
       "    </tr>\n",
       "    <tr>\n",
       "      <th>1</th>\n",
       "      <td>1951</td>\n",
       "      <td>[825, 826, 827, 828, 829, 830, 831, 832]</td>\n",
       "      <td>8</td>\n",
       "    </tr>\n",
       "    <tr>\n",
       "      <th>2</th>\n",
       "      <td>1952</td>\n",
       "      <td>[817, 818, 819, 820, 821, 822, 823, 824]</td>\n",
       "      <td>8</td>\n",
       "    </tr>\n",
       "    <tr>\n",
       "      <th>3</th>\n",
       "      <td>1953</td>\n",
       "      <td>[808, 809, 810, 811, 812, 813, 814, 815, 816]</td>\n",
       "      <td>9</td>\n",
       "    </tr>\n",
       "    <tr>\n",
       "      <th>4</th>\n",
       "      <td>1954</td>\n",
       "      <td>[799, 800, 801, 802, 803, 804, 805, 806, 807]</td>\n",
       "      <td>9</td>\n",
       "    </tr>\n",
       "    <tr>\n",
       "      <th>...</th>\n",
       "      <td>...</td>\n",
       "      <td>...</td>\n",
       "      <td>...</td>\n",
       "    </tr>\n",
       "    <tr>\n",
       "      <th>69</th>\n",
       "      <td>2019</td>\n",
       "      <td>[1010, 1011, 1012, 1013, 1014, 1015, 1016, 101...</td>\n",
       "      <td>21</td>\n",
       "    </tr>\n",
       "    <tr>\n",
       "      <th>70</th>\n",
       "      <td>2020</td>\n",
       "      <td>[1031, 1032, 1033, 1034, 1035, 1036, 1037, 103...</td>\n",
       "      <td>17</td>\n",
       "    </tr>\n",
       "    <tr>\n",
       "      <th>71</th>\n",
       "      <td>2021</td>\n",
       "      <td>[1053, 1052, 1051, 1054, 1055, 1056, 1057, 105...</td>\n",
       "      <td>22</td>\n",
       "    </tr>\n",
       "    <tr>\n",
       "      <th>72</th>\n",
       "      <td>2022</td>\n",
       "      <td>[1074, 1075, 1076, 1077, 1078, 1079, 1080, 108...</td>\n",
       "      <td>22</td>\n",
       "    </tr>\n",
       "    <tr>\n",
       "      <th>73</th>\n",
       "      <td>2023</td>\n",
       "      <td>[1098, 1099, 1100, 1101, 1102, 1103, 1104, 110...</td>\n",
       "      <td>23</td>\n",
       "    </tr>\n",
       "  </tbody>\n",
       "</table>\n",
       "<p>74 rows × 3 columns</p>\n",
       "</div>"
      ],
      "text/plain": [
       "    year                                          race_list  num_races\n",
       "0   1950                [833, 834, 835, 836, 837, 838, 839]          7\n",
       "1   1951           [825, 826, 827, 828, 829, 830, 831, 832]          8\n",
       "2   1952           [817, 818, 819, 820, 821, 822, 823, 824]          8\n",
       "3   1953      [808, 809, 810, 811, 812, 813, 814, 815, 816]          9\n",
       "4   1954      [799, 800, 801, 802, 803, 804, 805, 806, 807]          9\n",
       "..   ...                                                ...        ...\n",
       "69  2019  [1010, 1011, 1012, 1013, 1014, 1015, 1016, 101...         21\n",
       "70  2020  [1031, 1032, 1033, 1034, 1035, 1036, 1037, 103...         17\n",
       "71  2021  [1053, 1052, 1051, 1054, 1055, 1056, 1057, 105...         22\n",
       "72  2022  [1074, 1075, 1076, 1077, 1078, 1079, 1080, 108...         22\n",
       "73  2023  [1098, 1099, 1100, 1101, 1102, 1103, 1104, 110...         23\n",
       "\n",
       "[74 rows x 3 columns]"
      ]
     },
     "execution_count": 3,
     "metadata": {},
     "output_type": "execute_result"
    }
   ],
   "source": [
    "races_by_year = races_df.groupby('year')['raceId'].apply(list).reset_index(name='race_list')\n",
    "\n",
    "races_by_year['num_races'] = races_by_year['race_list'].str.len()\n",
    "\n",
    "races_by_year"
   ]
  },
  {
   "cell_type": "code",
   "execution_count": 4,
   "id": "e35e52ea",
   "metadata": {},
   "outputs": [],
   "source": [
    "unnested_races = races_by_year.explode('race_list')\n",
    "\n",
    "#create dict to reference year of race\n",
    "race_year_dict = dict(zip(unnested_races.race_list, unnested_races.year))"
   ]
  },
  {
   "cell_type": "code",
   "execution_count": 5,
   "id": "8c1c3782",
   "metadata": {},
   "outputs": [
    {
     "data": {
      "text/plain": [
       "1102"
      ]
     },
     "execution_count": 5,
     "metadata": {},
     "output_type": "execute_result"
    }
   ],
   "source": [
    "len(race_year_dict)"
   ]
  },
  {
   "cell_type": "code",
   "execution_count": 6,
   "id": "48c265ea",
   "metadata": {},
   "outputs": [],
   "source": [
    "#get a list of all the races from 2000-2022\n",
    "twentyfirst_IDs = races_by_year['race_list'].explode()"
   ]
  },
  {
   "cell_type": "markdown",
   "id": "db3aaf2d",
   "metadata": {},
   "source": [
    "## Adding Year to Constructor Results"
   ]
  },
  {
   "cell_type": "code",
   "execution_count": 7,
   "id": "4483e340",
   "metadata": {
    "scrolled": true
   },
   "outputs": [],
   "source": [
    "#First, narrow down to results after 2000\n",
    "results_df = pd.read_csv('data/Formula1/constructor_results.csv')\n",
    "with_years = results_df[results_df['raceId'].isin(twentyfirst_IDs)].copy()"
   ]
  },
  {
   "cell_type": "code",
   "execution_count": 8,
   "id": "d3b93999",
   "metadata": {
    "scrolled": true
   },
   "outputs": [
    {
     "data": {
      "text/html": [
       "<div>\n",
       "<style scoped>\n",
       "    .dataframe tbody tr th:only-of-type {\n",
       "        vertical-align: middle;\n",
       "    }\n",
       "\n",
       "    .dataframe tbody tr th {\n",
       "        vertical-align: top;\n",
       "    }\n",
       "\n",
       "    .dataframe thead th {\n",
       "        text-align: right;\n",
       "    }\n",
       "</style>\n",
       "<table border=\"1\" class=\"dataframe\">\n",
       "  <thead>\n",
       "    <tr style=\"text-align: right;\">\n",
       "      <th></th>\n",
       "      <th>constructorResultsId</th>\n",
       "      <th>raceId</th>\n",
       "      <th>constructorId</th>\n",
       "      <th>points</th>\n",
       "      <th>status</th>\n",
       "      <th>year</th>\n",
       "    </tr>\n",
       "  </thead>\n",
       "  <tbody>\n",
       "    <tr>\n",
       "      <th>0</th>\n",
       "      <td>1</td>\n",
       "      <td>18</td>\n",
       "      <td>1</td>\n",
       "      <td>14.0</td>\n",
       "      <td>\\N</td>\n",
       "      <td>2008</td>\n",
       "    </tr>\n",
       "    <tr>\n",
       "      <th>1</th>\n",
       "      <td>2</td>\n",
       "      <td>18</td>\n",
       "      <td>2</td>\n",
       "      <td>8.0</td>\n",
       "      <td>\\N</td>\n",
       "      <td>2008</td>\n",
       "    </tr>\n",
       "    <tr>\n",
       "      <th>2</th>\n",
       "      <td>3</td>\n",
       "      <td>18</td>\n",
       "      <td>3</td>\n",
       "      <td>9.0</td>\n",
       "      <td>\\N</td>\n",
       "      <td>2008</td>\n",
       "    </tr>\n",
       "    <tr>\n",
       "      <th>3</th>\n",
       "      <td>4</td>\n",
       "      <td>18</td>\n",
       "      <td>4</td>\n",
       "      <td>5.0</td>\n",
       "      <td>\\N</td>\n",
       "      <td>2008</td>\n",
       "    </tr>\n",
       "    <tr>\n",
       "      <th>4</th>\n",
       "      <td>5</td>\n",
       "      <td>18</td>\n",
       "      <td>5</td>\n",
       "      <td>2.0</td>\n",
       "      <td>\\N</td>\n",
       "      <td>2008</td>\n",
       "    </tr>\n",
       "    <tr>\n",
       "      <th>...</th>\n",
       "      <td>...</td>\n",
       "      <td>...</td>\n",
       "      <td>...</td>\n",
       "      <td>...</td>\n",
       "      <td>...</td>\n",
       "      <td>...</td>\n",
       "    </tr>\n",
       "    <tr>\n",
       "      <th>12165</th>\n",
       "      <td>16665</td>\n",
       "      <td>1096</td>\n",
       "      <td>117</td>\n",
       "      <td>5.0</td>\n",
       "      <td>\\N</td>\n",
       "      <td>2022</td>\n",
       "    </tr>\n",
       "    <tr>\n",
       "      <th>12166</th>\n",
       "      <td>16666</td>\n",
       "      <td>1096</td>\n",
       "      <td>213</td>\n",
       "      <td>0.0</td>\n",
       "      <td>\\N</td>\n",
       "      <td>2022</td>\n",
       "    </tr>\n",
       "    <tr>\n",
       "      <th>12167</th>\n",
       "      <td>16667</td>\n",
       "      <td>1096</td>\n",
       "      <td>51</td>\n",
       "      <td>0.0</td>\n",
       "      <td>\\N</td>\n",
       "      <td>2022</td>\n",
       "    </tr>\n",
       "    <tr>\n",
       "      <th>12168</th>\n",
       "      <td>16668</td>\n",
       "      <td>1096</td>\n",
       "      <td>3</td>\n",
       "      <td>0.0</td>\n",
       "      <td>\\N</td>\n",
       "      <td>2022</td>\n",
       "    </tr>\n",
       "    <tr>\n",
       "      <th>12169</th>\n",
       "      <td>16669</td>\n",
       "      <td>1096</td>\n",
       "      <td>210</td>\n",
       "      <td>0.0</td>\n",
       "      <td>\\N</td>\n",
       "      <td>2022</td>\n",
       "    </tr>\n",
       "  </tbody>\n",
       "</table>\n",
       "<p>12170 rows × 6 columns</p>\n",
       "</div>"
      ],
      "text/plain": [
       "       constructorResultsId  raceId  constructorId  points status  year\n",
       "0                         1      18              1    14.0     \\N  2008\n",
       "1                         2      18              2     8.0     \\N  2008\n",
       "2                         3      18              3     9.0     \\N  2008\n",
       "3                         4      18              4     5.0     \\N  2008\n",
       "4                         5      18              5     2.0     \\N  2008\n",
       "...                     ...     ...            ...     ...    ...   ...\n",
       "12165                 16665    1096            117     5.0     \\N  2022\n",
       "12166                 16666    1096            213     0.0     \\N  2022\n",
       "12167                 16667    1096             51     0.0     \\N  2022\n",
       "12168                 16668    1096              3     0.0     \\N  2022\n",
       "12169                 16669    1096            210     0.0     \\N  2022\n",
       "\n",
       "[12170 rows x 6 columns]"
      ]
     },
     "execution_count": 8,
     "metadata": {},
     "output_type": "execute_result"
    }
   ],
   "source": [
    "with_years['year'] = with_years['raceId'].map(race_year_dict)\n",
    "with_years"
   ]
  },
  {
   "cell_type": "markdown",
   "id": "891d6ea7",
   "metadata": {},
   "source": [
    "## 2000s+ Only"
   ]
  },
  {
   "cell_type": "code",
   "execution_count": 9,
   "id": "aa06e7f5",
   "metadata": {},
   "outputs": [
    {
     "data": {
      "text/html": [
       "<div>\n",
       "<style scoped>\n",
       "    .dataframe tbody tr th:only-of-type {\n",
       "        vertical-align: middle;\n",
       "    }\n",
       "\n",
       "    .dataframe tbody tr th {\n",
       "        vertical-align: top;\n",
       "    }\n",
       "\n",
       "    .dataframe thead th {\n",
       "        text-align: right;\n",
       "    }\n",
       "</style>\n",
       "<table border=\"1\" class=\"dataframe\">\n",
       "  <thead>\n",
       "    <tr style=\"text-align: right;\">\n",
       "      <th></th>\n",
       "      <th>constructorResultsId</th>\n",
       "      <th>raceId</th>\n",
       "      <th>constructorId</th>\n",
       "      <th>points</th>\n",
       "      <th>status</th>\n",
       "      <th>year</th>\n",
       "    </tr>\n",
       "  </thead>\n",
       "  <tbody>\n",
       "    <tr>\n",
       "      <th>0</th>\n",
       "      <td>1</td>\n",
       "      <td>18</td>\n",
       "      <td>1</td>\n",
       "      <td>14.0</td>\n",
       "      <td>\\N</td>\n",
       "      <td>2008</td>\n",
       "    </tr>\n",
       "    <tr>\n",
       "      <th>1</th>\n",
       "      <td>2</td>\n",
       "      <td>18</td>\n",
       "      <td>2</td>\n",
       "      <td>8.0</td>\n",
       "      <td>\\N</td>\n",
       "      <td>2008</td>\n",
       "    </tr>\n",
       "    <tr>\n",
       "      <th>2</th>\n",
       "      <td>3</td>\n",
       "      <td>18</td>\n",
       "      <td>3</td>\n",
       "      <td>9.0</td>\n",
       "      <td>\\N</td>\n",
       "      <td>2008</td>\n",
       "    </tr>\n",
       "    <tr>\n",
       "      <th>3</th>\n",
       "      <td>4</td>\n",
       "      <td>18</td>\n",
       "      <td>4</td>\n",
       "      <td>5.0</td>\n",
       "      <td>\\N</td>\n",
       "      <td>2008</td>\n",
       "    </tr>\n",
       "    <tr>\n",
       "      <th>4</th>\n",
       "      <td>5</td>\n",
       "      <td>18</td>\n",
       "      <td>5</td>\n",
       "      <td>2.0</td>\n",
       "      <td>\\N</td>\n",
       "      <td>2008</td>\n",
       "    </tr>\n",
       "    <tr>\n",
       "      <th>...</th>\n",
       "      <td>...</td>\n",
       "      <td>...</td>\n",
       "      <td>...</td>\n",
       "      <td>...</td>\n",
       "      <td>...</td>\n",
       "      <td>...</td>\n",
       "    </tr>\n",
       "    <tr>\n",
       "      <th>12165</th>\n",
       "      <td>16665</td>\n",
       "      <td>1096</td>\n",
       "      <td>117</td>\n",
       "      <td>5.0</td>\n",
       "      <td>\\N</td>\n",
       "      <td>2022</td>\n",
       "    </tr>\n",
       "    <tr>\n",
       "      <th>12166</th>\n",
       "      <td>16666</td>\n",
       "      <td>1096</td>\n",
       "      <td>213</td>\n",
       "      <td>0.0</td>\n",
       "      <td>\\N</td>\n",
       "      <td>2022</td>\n",
       "    </tr>\n",
       "    <tr>\n",
       "      <th>12167</th>\n",
       "      <td>16667</td>\n",
       "      <td>1096</td>\n",
       "      <td>51</td>\n",
       "      <td>0.0</td>\n",
       "      <td>\\N</td>\n",
       "      <td>2022</td>\n",
       "    </tr>\n",
       "    <tr>\n",
       "      <th>12168</th>\n",
       "      <td>16668</td>\n",
       "      <td>1096</td>\n",
       "      <td>3</td>\n",
       "      <td>0.0</td>\n",
       "      <td>\\N</td>\n",
       "      <td>2022</td>\n",
       "    </tr>\n",
       "    <tr>\n",
       "      <th>12169</th>\n",
       "      <td>16669</td>\n",
       "      <td>1096</td>\n",
       "      <td>210</td>\n",
       "      <td>0.0</td>\n",
       "      <td>\\N</td>\n",
       "      <td>2022</td>\n",
       "    </tr>\n",
       "  </tbody>\n",
       "</table>\n",
       "<p>4586 rows × 6 columns</p>\n",
       "</div>"
      ],
      "text/plain": [
       "       constructorResultsId  raceId  constructorId  points status  year\n",
       "0                         1      18              1    14.0     \\N  2008\n",
       "1                         2      18              2     8.0     \\N  2008\n",
       "2                         3      18              3     9.0     \\N  2008\n",
       "3                         4      18              4     5.0     \\N  2008\n",
       "4                         5      18              5     2.0     \\N  2008\n",
       "...                     ...     ...            ...     ...    ...   ...\n",
       "12165                 16665    1096            117     5.0     \\N  2022\n",
       "12166                 16666    1096            213     0.0     \\N  2022\n",
       "12167                 16667    1096             51     0.0     \\N  2022\n",
       "12168                 16668    1096              3     0.0     \\N  2022\n",
       "12169                 16669    1096            210     0.0     \\N  2022\n",
       "\n",
       "[4586 rows x 6 columns]"
      ]
     },
     "execution_count": 9,
     "metadata": {},
     "output_type": "execute_result"
    }
   ],
   "source": [
    "twentyfirst = with_years[with_years['year'].between(2000,2023)].copy()\n",
    "\n",
    "twentyfirst"
   ]
  },
  {
   "cell_type": "markdown",
   "id": "ee7a518c",
   "metadata": {},
   "source": [
    "## Extract Constructor Names"
   ]
  },
  {
   "cell_type": "code",
   "execution_count": 10,
   "id": "b2390555",
   "metadata": {},
   "outputs": [
    {
     "data": {
      "text/html": [
       "<div>\n",
       "<style scoped>\n",
       "    .dataframe tbody tr th:only-of-type {\n",
       "        vertical-align: middle;\n",
       "    }\n",
       "\n",
       "    .dataframe tbody tr th {\n",
       "        vertical-align: top;\n",
       "    }\n",
       "\n",
       "    .dataframe thead th {\n",
       "        text-align: right;\n",
       "    }\n",
       "</style>\n",
       "<table border=\"1\" class=\"dataframe\">\n",
       "  <thead>\n",
       "    <tr style=\"text-align: right;\">\n",
       "      <th></th>\n",
       "      <th>constructorId</th>\n",
       "      <th>constructorRef</th>\n",
       "      <th>name</th>\n",
       "      <th>nationality</th>\n",
       "      <th>url</th>\n",
       "    </tr>\n",
       "  </thead>\n",
       "  <tbody>\n",
       "    <tr>\n",
       "      <th>0</th>\n",
       "      <td>1</td>\n",
       "      <td>mclaren</td>\n",
       "      <td>McLaren</td>\n",
       "      <td>British</td>\n",
       "      <td>http://en.wikipedia.org/wiki/McLaren</td>\n",
       "    </tr>\n",
       "    <tr>\n",
       "      <th>1</th>\n",
       "      <td>2</td>\n",
       "      <td>bmw_sauber</td>\n",
       "      <td>BMW Sauber</td>\n",
       "      <td>German</td>\n",
       "      <td>http://en.wikipedia.org/wiki/BMW_Sauber</td>\n",
       "    </tr>\n",
       "    <tr>\n",
       "      <th>2</th>\n",
       "      <td>3</td>\n",
       "      <td>williams</td>\n",
       "      <td>Williams</td>\n",
       "      <td>British</td>\n",
       "      <td>http://en.wikipedia.org/wiki/Williams_Grand_Pr...</td>\n",
       "    </tr>\n",
       "    <tr>\n",
       "      <th>3</th>\n",
       "      <td>4</td>\n",
       "      <td>renault</td>\n",
       "      <td>Renault</td>\n",
       "      <td>French</td>\n",
       "      <td>http://en.wikipedia.org/wiki/Renault_in_Formul...</td>\n",
       "    </tr>\n",
       "    <tr>\n",
       "      <th>4</th>\n",
       "      <td>5</td>\n",
       "      <td>toro_rosso</td>\n",
       "      <td>Toro Rosso</td>\n",
       "      <td>Italian</td>\n",
       "      <td>http://en.wikipedia.org/wiki/Scuderia_Toro_Rosso</td>\n",
       "    </tr>\n",
       "    <tr>\n",
       "      <th>...</th>\n",
       "      <td>...</td>\n",
       "      <td>...</td>\n",
       "      <td>...</td>\n",
       "      <td>...</td>\n",
       "      <td>...</td>\n",
       "    </tr>\n",
       "    <tr>\n",
       "      <th>206</th>\n",
       "      <td>209</td>\n",
       "      <td>manor</td>\n",
       "      <td>Manor Marussia</td>\n",
       "      <td>British</td>\n",
       "      <td>http://en.wikipedia.org/wiki/Manor_Motorsport</td>\n",
       "    </tr>\n",
       "    <tr>\n",
       "      <th>207</th>\n",
       "      <td>210</td>\n",
       "      <td>haas</td>\n",
       "      <td>Haas F1 Team</td>\n",
       "      <td>American</td>\n",
       "      <td>http://en.wikipedia.org/wiki/Haas_F1_Team</td>\n",
       "    </tr>\n",
       "    <tr>\n",
       "      <th>208</th>\n",
       "      <td>211</td>\n",
       "      <td>racing_point</td>\n",
       "      <td>Racing Point</td>\n",
       "      <td>British</td>\n",
       "      <td>http://en.wikipedia.org/wiki/Racing_Point_F1_Team</td>\n",
       "    </tr>\n",
       "    <tr>\n",
       "      <th>209</th>\n",
       "      <td>213</td>\n",
       "      <td>alphatauri</td>\n",
       "      <td>AlphaTauri</td>\n",
       "      <td>Italian</td>\n",
       "      <td>http://en.wikipedia.org/wiki/Scuderia_AlphaTauri</td>\n",
       "    </tr>\n",
       "    <tr>\n",
       "      <th>210</th>\n",
       "      <td>214</td>\n",
       "      <td>alpine</td>\n",
       "      <td>Alpine F1 Team</td>\n",
       "      <td>French</td>\n",
       "      <td>http://en.wikipedia.org/wiki/Alpine_F1_Team</td>\n",
       "    </tr>\n",
       "  </tbody>\n",
       "</table>\n",
       "<p>211 rows × 5 columns</p>\n",
       "</div>"
      ],
      "text/plain": [
       "     constructorId constructorRef            name nationality   \n",
       "0                1        mclaren         McLaren     British  \\\n",
       "1                2     bmw_sauber      BMW Sauber      German   \n",
       "2                3       williams        Williams     British   \n",
       "3                4        renault         Renault      French   \n",
       "4                5     toro_rosso      Toro Rosso     Italian   \n",
       "..             ...            ...             ...         ...   \n",
       "206            209          manor  Manor Marussia     British   \n",
       "207            210           haas    Haas F1 Team    American   \n",
       "208            211   racing_point    Racing Point     British   \n",
       "209            213     alphatauri      AlphaTauri     Italian   \n",
       "210            214         alpine  Alpine F1 Team      French   \n",
       "\n",
       "                                                   url  \n",
       "0                 http://en.wikipedia.org/wiki/McLaren  \n",
       "1              http://en.wikipedia.org/wiki/BMW_Sauber  \n",
       "2    http://en.wikipedia.org/wiki/Williams_Grand_Pr...  \n",
       "3    http://en.wikipedia.org/wiki/Renault_in_Formul...  \n",
       "4     http://en.wikipedia.org/wiki/Scuderia_Toro_Rosso  \n",
       "..                                                 ...  \n",
       "206      http://en.wikipedia.org/wiki/Manor_Motorsport  \n",
       "207          http://en.wikipedia.org/wiki/Haas_F1_Team  \n",
       "208  http://en.wikipedia.org/wiki/Racing_Point_F1_Team  \n",
       "209   http://en.wikipedia.org/wiki/Scuderia_AlphaTauri  \n",
       "210        http://en.wikipedia.org/wiki/Alpine_F1_Team  \n",
       "\n",
       "[211 rows x 5 columns]"
      ]
     },
     "execution_count": 10,
     "metadata": {},
     "output_type": "execute_result"
    }
   ],
   "source": [
    "constructors = pd.read_csv('data/Formula1/constructors.csv')\n",
    "constructors"
   ]
  },
  {
   "cell_type": "code",
   "execution_count": 11,
   "id": "66a0ea25",
   "metadata": {},
   "outputs": [],
   "source": [
    "constructor_names = dict(zip(constructors.constructorId, constructors.name))"
   ]
  },
  {
   "cell_type": "markdown",
   "id": "adf8f39e",
   "metadata": {},
   "source": [
    "## Constructor Points Per Year"
   ]
  },
  {
   "cell_type": "code",
   "execution_count": 12,
   "id": "b81ea263",
   "metadata": {},
   "outputs": [
    {
     "data": {
      "text/html": [
       "<div>\n",
       "<style scoped>\n",
       "    .dataframe tbody tr th:only-of-type {\n",
       "        vertical-align: middle;\n",
       "    }\n",
       "\n",
       "    .dataframe tbody tr th {\n",
       "        vertical-align: top;\n",
       "    }\n",
       "\n",
       "    .dataframe thead th {\n",
       "        text-align: right;\n",
       "    }\n",
       "</style>\n",
       "<table border=\"1\" class=\"dataframe\">\n",
       "  <thead>\n",
       "    <tr style=\"text-align: right;\">\n",
       "      <th></th>\n",
       "      <th>year</th>\n",
       "      <th>constructorId</th>\n",
       "      <th>points</th>\n",
       "      <th>constructor_name</th>\n",
       "    </tr>\n",
       "  </thead>\n",
       "  <tbody>\n",
       "    <tr>\n",
       "      <th>0</th>\n",
       "      <td>2000</td>\n",
       "      <td>1</td>\n",
       "      <td>162.0</td>\n",
       "      <td>McLaren</td>\n",
       "    </tr>\n",
       "    <tr>\n",
       "      <th>1</th>\n",
       "      <td>2000</td>\n",
       "      <td>3</td>\n",
       "      <td>36.0</td>\n",
       "      <td>BMW Sauber</td>\n",
       "    </tr>\n",
       "    <tr>\n",
       "      <th>2</th>\n",
       "      <td>2000</td>\n",
       "      <td>6</td>\n",
       "      <td>170.0</td>\n",
       "      <td>Williams</td>\n",
       "    </tr>\n",
       "    <tr>\n",
       "      <th>3</th>\n",
       "      <td>2000</td>\n",
       "      <td>15</td>\n",
       "      <td>6.0</td>\n",
       "      <td>Renault</td>\n",
       "    </tr>\n",
       "    <tr>\n",
       "      <th>4</th>\n",
       "      <td>2000</td>\n",
       "      <td>16</td>\n",
       "      <td>20.0</td>\n",
       "      <td>Toro Rosso</td>\n",
       "    </tr>\n",
       "    <tr>\n",
       "      <th>...</th>\n",
       "      <td>...</td>\n",
       "      <td>...</td>\n",
       "      <td>...</td>\n",
       "      <td>...</td>\n",
       "    </tr>\n",
       "    <tr>\n",
       "      <th>243</th>\n",
       "      <td>2022</td>\n",
       "      <td>117</td>\n",
       "      <td>55.0</td>\n",
       "      <td>Ferrari</td>\n",
       "    </tr>\n",
       "    <tr>\n",
       "      <th>244</th>\n",
       "      <td>2022</td>\n",
       "      <td>131</td>\n",
       "      <td>515.0</td>\n",
       "      <td>Super Aguri</td>\n",
       "    </tr>\n",
       "    <tr>\n",
       "      <th>245</th>\n",
       "      <td>2022</td>\n",
       "      <td>210</td>\n",
       "      <td>37.0</td>\n",
       "      <td>Toyota</td>\n",
       "    </tr>\n",
       "    <tr>\n",
       "      <th>246</th>\n",
       "      <td>2022</td>\n",
       "      <td>213</td>\n",
       "      <td>35.0</td>\n",
       "      <td>Red Bull</td>\n",
       "    </tr>\n",
       "    <tr>\n",
       "      <th>247</th>\n",
       "      <td>2022</td>\n",
       "      <td>214</td>\n",
       "      <td>173.0</td>\n",
       "      <td>Honda</td>\n",
       "    </tr>\n",
       "  </tbody>\n",
       "</table>\n",
       "<p>248 rows × 4 columns</p>\n",
       "</div>"
      ],
      "text/plain": [
       "     year  constructorId  points constructor_name\n",
       "0    2000              1   162.0          McLaren\n",
       "1    2000              3    36.0       BMW Sauber\n",
       "2    2000              6   170.0         Williams\n",
       "3    2000             15     6.0          Renault\n",
       "4    2000             16    20.0       Toro Rosso\n",
       "..    ...            ...     ...              ...\n",
       "243  2022            117    55.0          Ferrari\n",
       "244  2022            131   515.0      Super Aguri\n",
       "245  2022            210    37.0           Toyota\n",
       "246  2022            213    35.0         Red Bull\n",
       "247  2022            214   173.0            Honda\n",
       "\n",
       "[248 rows x 4 columns]"
      ]
     },
     "execution_count": 12,
     "metadata": {},
     "output_type": "execute_result"
    }
   ],
   "source": [
    "constructor_pts_year = pd.DataFrame(twentyfirst.groupby(['year','constructorId'])['points'].sum()).reset_index()\n",
    "\n",
    "constructor_pts_year['constructor_name'] = with_years['constructorId'].map(constructor_names)\n",
    "\n",
    "constructor_pts_year"
   ]
  },
  {
   "cell_type": "code",
   "execution_count": 14,
   "id": "ec6a8cb1",
   "metadata": {},
   "outputs": [
    {
     "data": {
      "application/vnd.plotly.v1+json": {
       "config": {
        "plotlyServerURL": "https://plot.ly"
       },
       "data": [
        {
         "alignmentgroup": "True",
         "hovertemplate": "constructor_name=McLaren<br>year=%{x}<br>points=%{y}<extra></extra>",
         "legendgroup": "McLaren",
         "marker": {
          "color": "#636efa",
          "pattern": {
           "shape": ""
          }
         },
         "name": "McLaren",
         "offsetgroup": "McLaren",
         "orientation": "v",
         "showlegend": true,
         "textposition": "auto",
         "type": "bar",
         "x": [
          2000,
          2001,
          2002,
          2003,
          2004,
          2005,
          2006,
          2007,
          2007,
          2008,
          2009,
          2010,
          2011,
          2012,
          2013,
          2014,
          2014,
          2016,
          2016,
          2017,
          2018,
          2020,
          2021,
          2022
         ],
         "xaxis": "x",
         "y": [
          162,
          179,
          92,
          142,
          88,
          182,
          35,
          218,
          24,
          0,
          59.5,
          44,
          69,
          400,
          33,
          0,
          0,
          76,
          765,
          5,
          93,
          202,
          275,
          8
         ],
         "yaxis": "y"
        },
        {
         "alignmentgroup": "True",
         "hovertemplate": "constructor_name=BMW Sauber<br>year=%{x}<br>points=%{y}<extra></extra>",
         "legendgroup": "BMW Sauber",
         "marker": {
          "color": "#EF553B",
          "pattern": {
           "shape": ""
          }
         },
         "name": "BMW Sauber",
         "offsetgroup": "BMW Sauber",
         "orientation": "v",
         "showlegend": true,
         "textposition": "auto",
         "type": "bar",
         "x": [
          2000,
          2001,
          2002,
          2003,
          2004,
          2005,
          2006,
          2007,
          2007,
          2008,
          2010,
          2010,
          2011,
          2012,
          2013,
          2014,
          2015,
          2016,
          2016,
          2017,
          2019,
          2020,
          2021,
          2022
         ],
         "xaxis": "x",
         "y": [
          36,
          80,
          0,
          144,
          105,
          66,
          110,
          101,
          6,
          14,
          454,
          214,
          650,
          460,
          77,
          181,
          257,
          63,
          1,
          47,
          145,
          0,
          585.5,
          554
         ],
         "yaxis": "y"
        },
        {
         "alignmentgroup": "True",
         "hovertemplate": "constructor_name=Williams<br>year=%{x}<br>points=%{y}<extra></extra>",
         "legendgroup": "Williams",
         "marker": {
          "color": "#00cc96",
          "pattern": {
           "shape": ""
          }
         },
         "name": "Williams",
         "offsetgroup": "Williams",
         "orientation": "v",
         "showlegend": true,
         "textposition": "auto",
         "type": "bar",
         "x": [
          2000,
          2001,
          2002,
          2003,
          2004,
          2005,
          2006,
          2007,
          2008,
          2009,
          2010,
          2010,
          2011,
          2012,
          2013,
          2014,
          2015,
          2016,
          2017,
          2018,
          2019,
          2020,
          2021,
          2022
         ],
         "xaxis": "x",
         "y": [
          170,
          4,
          2,
          16,
          34,
          20,
          0,
          13,
          80,
          34.5,
          13,
          0,
          0,
          0,
          5,
          155,
          36,
          398,
          30,
          122,
          85,
          131,
          13,
          759
         ],
         "yaxis": "y"
        },
        {
         "alignmentgroup": "True",
         "hovertemplate": "constructor_name=Renault<br>year=%{x}<br>points=%{y}<extra></extra>",
         "legendgroup": "Renault",
         "marker": {
          "color": "#ab63fa",
          "pattern": {
           "shape": ""
          }
         },
         "name": "Renault",
         "offsetgroup": "Renault",
         "orientation": "v",
         "showlegend": true,
         "textposition": "auto",
         "type": "bar",
         "x": [
          2000,
          2001,
          2002,
          2003,
          2004,
          2005,
          2006,
          2007,
          2008,
          2008,
          2009,
          2011,
          2011,
          2012,
          2013,
          2013,
          2015,
          2015,
          2016,
          2018,
          2019,
          2020,
          2021,
          2022
         ],
         "xaxis": "x",
         "y": [
          6,
          19,
          11,
          0,
          262,
          38,
          86,
          51,
          135,
          29,
          172,
          497,
          44,
          109,
          122,
          315,
          27,
          78,
          29,
          62,
          91,
          319,
          323.5,
          55
         ],
         "yaxis": "y"
        },
        {
         "alignmentgroup": "True",
         "hovertemplate": "constructor_name=Toro Rosso<br>year=%{x}<br>points=%{y}<extra></extra>",
         "legendgroup": "Toro Rosso",
         "marker": {
          "color": "#FFA15A",
          "pattern": {
           "shape": ""
          }
         },
         "name": "Toro Rosso",
         "offsetgroup": "Toro Rosso",
         "orientation": "v",
         "showlegend": true,
         "textposition": "auto",
         "type": "bar",
         "x": [
          2000,
          2001,
          2002,
          2003,
          2004,
          2005,
          2006,
          2007,
          2008,
          2009,
          2010,
          2010,
          2011,
          2012,
          2013,
          2014,
          2015,
          2015,
          2017,
          2018,
          2019,
          2020,
          2021
         ],
         "xaxis": "x",
         "y": [
          20,
          10,
          2,
          18,
          10,
          88,
          201,
          8,
          172,
          71,
          498,
          0,
          165,
          26,
          596,
          216,
          428,
          0,
          368,
          111,
          28,
          107,
          77
         ],
         "yaxis": "y"
        },
        {
         "alignmentgroup": "True",
         "hovertemplate": "constructor_name=Ferrari<br>year=%{x}<br>points=%{y}<extra></extra>",
         "legendgroup": "Ferrari",
         "marker": {
          "color": "#19d3f3",
          "pattern": {
           "shape": ""
          }
         },
         "name": "Ferrari",
         "offsetgroup": "Ferrari",
         "orientation": "v",
         "showlegend": true,
         "textposition": "auto",
         "type": "bar",
         "x": [
          2000,
          2001,
          2002,
          2002,
          2004,
          2005,
          2006,
          2006,
          2008,
          2008,
          2009,
          2010,
          2011,
          2012,
          2013,
          2014,
          2014,
          2015,
          2016,
          2017,
          2018,
          2019,
          2021,
          2022
         ],
         "xaxis": "x",
         "y": [
          17,
          102,
          65,
          2,
          69,
          191,
          206,
          0,
          151,
          0,
          13,
          68,
          375,
          126,
          0,
          320,
          10,
          0,
          2,
          668,
          655,
          73,
          23,
          55
         ],
         "yaxis": "y"
        },
        {
         "alignmentgroup": "True",
         "hovertemplate": "constructor_name=Toyota<br>year=%{x}<br>points=%{y}<extra></extra>",
         "legendgroup": "Toyota",
         "marker": {
          "color": "#FF6692",
          "pattern": {
           "shape": ""
          }
         },
         "name": "Toyota",
         "offsetgroup": "Toyota",
         "orientation": "v",
         "showlegend": true,
         "textposition": "auto",
         "type": "bar",
         "x": [
          2000,
          2001,
          2002,
          2003,
          2004,
          2005,
          2006,
          2006,
          2008,
          2009,
          2009,
          2010,
          2011,
          2012,
          2013,
          2014,
          2015,
          2016,
          2017,
          2018,
          2019,
          2020,
          2021,
          2022
         ],
         "xaxis": "x",
         "y": [
          0,
          21,
          23,
          19,
          119,
          12,
          11,
          0,
          26,
          36,
          153.5,
          0,
          0,
          0,
          354,
          30,
          67,
          138,
          83,
          7,
          1,
          210,
          142,
          37
         ],
         "yaxis": "y"
        },
        {
         "alignmentgroup": "True",
         "hovertemplate": "constructor_name=Super Aguri<br>year=%{x}<br>points=%{y}<extra></extra>",
         "legendgroup": "Super Aguri",
         "marker": {
          "color": "#B6E880",
          "pattern": {
           "shape": ""
          }
         },
         "name": "Super Aguri",
         "offsetgroup": "Super Aguri",
         "orientation": "v",
         "showlegend": true,
         "textposition": "auto",
         "type": "bar",
         "x": [
          2000,
          2001,
          2002,
          2003,
          2017,
          2018,
          2019,
          2020,
          2021,
          2022
         ],
         "xaxis": "x",
         "y": [
          4,
          1,
          8,
          13,
          53,
          419,
          57,
          8,
          155,
          515
         ],
         "yaxis": "y"
        },
        {
         "alignmentgroup": "True",
         "hovertemplate": "constructor_name=Red Bull<br>year=%{x}<br>points=%{y}<extra></extra>",
         "legendgroup": "Red Bull",
         "marker": {
          "color": "#FF97FF",
          "pattern": {
           "shape": ""
          }
         },
         "name": "Red Bull",
         "offsetgroup": "Red Bull",
         "orientation": "v",
         "showlegend": true,
         "textposition": "auto",
         "type": "bar",
         "x": [
          2000,
          2001,
          2002,
          2003,
          2004,
          2005,
          2006,
          2007,
          2008,
          2009,
          2010,
          2011,
          2011,
          2012,
          2013,
          2014,
          2015,
          2016,
          2017,
          2018,
          2019,
          2020,
          2021,
          2022
         ],
         "xaxis": "x",
         "y": [
          0,
          17,
          221,
          88,
          9,
          100,
          36,
          33,
          39,
          26,
          69,
          5,
          0,
          142,
          57,
          405,
          187,
          8,
          522,
          33,
          739,
          181,
          0,
          35
         ],
         "yaxis": "y"
        },
        {
         "alignmentgroup": "True",
         "hovertemplate": "constructor_name=Force India<br>year=%{x}<br>points=%{y}<extra></extra>",
         "legendgroup": "Force India",
         "marker": {
          "color": "#FECB52",
          "pattern": {
           "shape": ""
          }
         },
         "name": "Force India",
         "offsetgroup": "Force India",
         "orientation": "v",
         "showlegend": true,
         "textposition": "auto",
         "type": "bar",
         "x": [
          2000,
          2001,
          2002,
          2003,
          2004,
          2005,
          2006,
          2007,
          2008,
          2009,
          2010,
          2011,
          2012,
          2012,
          2013,
          2014,
          2015,
          2016
         ],
         "xaxis": "x",
         "y": [
          7,
          9,
          9,
          26,
          1,
          7,
          16,
          4,
          56,
          8,
          396,
          41,
          378,
          303,
          0,
          2,
          703,
          173
         ],
         "yaxis": "y"
        },
        {
         "alignmentgroup": "True",
         "hovertemplate": "constructor_name=Honda<br>year=%{x}<br>points=%{y}<extra></extra>",
         "legendgroup": "Honda",
         "marker": {
          "color": "#636efa",
          "pattern": {
           "shape": ""
          }
         },
         "name": "Honda",
         "offsetgroup": "Honda",
         "orientation": "v",
         "showlegend": true,
         "textposition": "auto",
         "type": "bar",
         "x": [
          2000,
          2001,
          2002,
          2003,
          2004,
          2005,
          2006,
          2007,
          2007,
          2009,
          2010,
          2011,
          2012,
          2012,
          2013,
          2014,
          2015,
          2016,
          2017,
          2018,
          2019,
          2020,
          2021,
          2022
         ],
         "xaxis": "x",
         "y": [
          20,
          0,
          7,
          158,
          5,
          34,
          1,
          204,
          1,
          70,
          163,
          73,
          76,
          0,
          360,
          701,
          136,
          468,
          57,
          571,
          504,
          573,
          613.5,
          173
         ],
         "yaxis": "y"
        },
        {
         "alignmentgroup": "True",
         "hovertemplate": "constructor_name=Spyker<br>year=%{x}<br>points=%{y}<extra></extra>",
         "legendgroup": "Spyker",
         "marker": {
          "color": "#EF553B",
          "pattern": {
           "shape": ""
          }
         },
         "name": "Spyker",
         "offsetgroup": "Spyker",
         "orientation": "v",
         "showlegend": true,
         "textposition": "auto",
         "type": "bar",
         "x": [
          2017,
          2018,
          2019,
          2020,
          2022
         ],
         "xaxis": "x",
         "y": [
          187,
          48,
          417,
          3,
          159
         ],
         "yaxis": "y"
        }
       ],
       "layout": {
        "barmode": "relative",
        "legend": {
         "title": {
          "text": "constructor_name"
         },
         "tracegroupgap": 0
        },
        "margin": {
         "t": 60
        },
        "template": {
         "data": {
          "bar": [
           {
            "error_x": {
             "color": "#2a3f5f"
            },
            "error_y": {
             "color": "#2a3f5f"
            },
            "marker": {
             "line": {
              "color": "#E5ECF6",
              "width": 0.5
             },
             "pattern": {
              "fillmode": "overlay",
              "size": 10,
              "solidity": 0.2
             }
            },
            "type": "bar"
           }
          ],
          "barpolar": [
           {
            "marker": {
             "line": {
              "color": "#E5ECF6",
              "width": 0.5
             },
             "pattern": {
              "fillmode": "overlay",
              "size": 10,
              "solidity": 0.2
             }
            },
            "type": "barpolar"
           }
          ],
          "carpet": [
           {
            "aaxis": {
             "endlinecolor": "#2a3f5f",
             "gridcolor": "white",
             "linecolor": "white",
             "minorgridcolor": "white",
             "startlinecolor": "#2a3f5f"
            },
            "baxis": {
             "endlinecolor": "#2a3f5f",
             "gridcolor": "white",
             "linecolor": "white",
             "minorgridcolor": "white",
             "startlinecolor": "#2a3f5f"
            },
            "type": "carpet"
           }
          ],
          "choropleth": [
           {
            "colorbar": {
             "outlinewidth": 0,
             "ticks": ""
            },
            "type": "choropleth"
           }
          ],
          "contour": [
           {
            "colorbar": {
             "outlinewidth": 0,
             "ticks": ""
            },
            "colorscale": [
             [
              0,
              "#0d0887"
             ],
             [
              0.1111111111111111,
              "#46039f"
             ],
             [
              0.2222222222222222,
              "#7201a8"
             ],
             [
              0.3333333333333333,
              "#9c179e"
             ],
             [
              0.4444444444444444,
              "#bd3786"
             ],
             [
              0.5555555555555556,
              "#d8576b"
             ],
             [
              0.6666666666666666,
              "#ed7953"
             ],
             [
              0.7777777777777778,
              "#fb9f3a"
             ],
             [
              0.8888888888888888,
              "#fdca26"
             ],
             [
              1,
              "#f0f921"
             ]
            ],
            "type": "contour"
           }
          ],
          "contourcarpet": [
           {
            "colorbar": {
             "outlinewidth": 0,
             "ticks": ""
            },
            "type": "contourcarpet"
           }
          ],
          "heatmap": [
           {
            "colorbar": {
             "outlinewidth": 0,
             "ticks": ""
            },
            "colorscale": [
             [
              0,
              "#0d0887"
             ],
             [
              0.1111111111111111,
              "#46039f"
             ],
             [
              0.2222222222222222,
              "#7201a8"
             ],
             [
              0.3333333333333333,
              "#9c179e"
             ],
             [
              0.4444444444444444,
              "#bd3786"
             ],
             [
              0.5555555555555556,
              "#d8576b"
             ],
             [
              0.6666666666666666,
              "#ed7953"
             ],
             [
              0.7777777777777778,
              "#fb9f3a"
             ],
             [
              0.8888888888888888,
              "#fdca26"
             ],
             [
              1,
              "#f0f921"
             ]
            ],
            "type": "heatmap"
           }
          ],
          "heatmapgl": [
           {
            "colorbar": {
             "outlinewidth": 0,
             "ticks": ""
            },
            "colorscale": [
             [
              0,
              "#0d0887"
             ],
             [
              0.1111111111111111,
              "#46039f"
             ],
             [
              0.2222222222222222,
              "#7201a8"
             ],
             [
              0.3333333333333333,
              "#9c179e"
             ],
             [
              0.4444444444444444,
              "#bd3786"
             ],
             [
              0.5555555555555556,
              "#d8576b"
             ],
             [
              0.6666666666666666,
              "#ed7953"
             ],
             [
              0.7777777777777778,
              "#fb9f3a"
             ],
             [
              0.8888888888888888,
              "#fdca26"
             ],
             [
              1,
              "#f0f921"
             ]
            ],
            "type": "heatmapgl"
           }
          ],
          "histogram": [
           {
            "marker": {
             "pattern": {
              "fillmode": "overlay",
              "size": 10,
              "solidity": 0.2
             }
            },
            "type": "histogram"
           }
          ],
          "histogram2d": [
           {
            "colorbar": {
             "outlinewidth": 0,
             "ticks": ""
            },
            "colorscale": [
             [
              0,
              "#0d0887"
             ],
             [
              0.1111111111111111,
              "#46039f"
             ],
             [
              0.2222222222222222,
              "#7201a8"
             ],
             [
              0.3333333333333333,
              "#9c179e"
             ],
             [
              0.4444444444444444,
              "#bd3786"
             ],
             [
              0.5555555555555556,
              "#d8576b"
             ],
             [
              0.6666666666666666,
              "#ed7953"
             ],
             [
              0.7777777777777778,
              "#fb9f3a"
             ],
             [
              0.8888888888888888,
              "#fdca26"
             ],
             [
              1,
              "#f0f921"
             ]
            ],
            "type": "histogram2d"
           }
          ],
          "histogram2dcontour": [
           {
            "colorbar": {
             "outlinewidth": 0,
             "ticks": ""
            },
            "colorscale": [
             [
              0,
              "#0d0887"
             ],
             [
              0.1111111111111111,
              "#46039f"
             ],
             [
              0.2222222222222222,
              "#7201a8"
             ],
             [
              0.3333333333333333,
              "#9c179e"
             ],
             [
              0.4444444444444444,
              "#bd3786"
             ],
             [
              0.5555555555555556,
              "#d8576b"
             ],
             [
              0.6666666666666666,
              "#ed7953"
             ],
             [
              0.7777777777777778,
              "#fb9f3a"
             ],
             [
              0.8888888888888888,
              "#fdca26"
             ],
             [
              1,
              "#f0f921"
             ]
            ],
            "type": "histogram2dcontour"
           }
          ],
          "mesh3d": [
           {
            "colorbar": {
             "outlinewidth": 0,
             "ticks": ""
            },
            "type": "mesh3d"
           }
          ],
          "parcoords": [
           {
            "line": {
             "colorbar": {
              "outlinewidth": 0,
              "ticks": ""
             }
            },
            "type": "parcoords"
           }
          ],
          "pie": [
           {
            "automargin": true,
            "type": "pie"
           }
          ],
          "scatter": [
           {
            "fillpattern": {
             "fillmode": "overlay",
             "size": 10,
             "solidity": 0.2
            },
            "type": "scatter"
           }
          ],
          "scatter3d": [
           {
            "line": {
             "colorbar": {
              "outlinewidth": 0,
              "ticks": ""
             }
            },
            "marker": {
             "colorbar": {
              "outlinewidth": 0,
              "ticks": ""
             }
            },
            "type": "scatter3d"
           }
          ],
          "scattercarpet": [
           {
            "marker": {
             "colorbar": {
              "outlinewidth": 0,
              "ticks": ""
             }
            },
            "type": "scattercarpet"
           }
          ],
          "scattergeo": [
           {
            "marker": {
             "colorbar": {
              "outlinewidth": 0,
              "ticks": ""
             }
            },
            "type": "scattergeo"
           }
          ],
          "scattergl": [
           {
            "marker": {
             "colorbar": {
              "outlinewidth": 0,
              "ticks": ""
             }
            },
            "type": "scattergl"
           }
          ],
          "scattermapbox": [
           {
            "marker": {
             "colorbar": {
              "outlinewidth": 0,
              "ticks": ""
             }
            },
            "type": "scattermapbox"
           }
          ],
          "scatterpolar": [
           {
            "marker": {
             "colorbar": {
              "outlinewidth": 0,
              "ticks": ""
             }
            },
            "type": "scatterpolar"
           }
          ],
          "scatterpolargl": [
           {
            "marker": {
             "colorbar": {
              "outlinewidth": 0,
              "ticks": ""
             }
            },
            "type": "scatterpolargl"
           }
          ],
          "scatterternary": [
           {
            "marker": {
             "colorbar": {
              "outlinewidth": 0,
              "ticks": ""
             }
            },
            "type": "scatterternary"
           }
          ],
          "surface": [
           {
            "colorbar": {
             "outlinewidth": 0,
             "ticks": ""
            },
            "colorscale": [
             [
              0,
              "#0d0887"
             ],
             [
              0.1111111111111111,
              "#46039f"
             ],
             [
              0.2222222222222222,
              "#7201a8"
             ],
             [
              0.3333333333333333,
              "#9c179e"
             ],
             [
              0.4444444444444444,
              "#bd3786"
             ],
             [
              0.5555555555555556,
              "#d8576b"
             ],
             [
              0.6666666666666666,
              "#ed7953"
             ],
             [
              0.7777777777777778,
              "#fb9f3a"
             ],
             [
              0.8888888888888888,
              "#fdca26"
             ],
             [
              1,
              "#f0f921"
             ]
            ],
            "type": "surface"
           }
          ],
          "table": [
           {
            "cells": {
             "fill": {
              "color": "#EBF0F8"
             },
             "line": {
              "color": "white"
             }
            },
            "header": {
             "fill": {
              "color": "#C8D4E3"
             },
             "line": {
              "color": "white"
             }
            },
            "type": "table"
           }
          ]
         },
         "layout": {
          "annotationdefaults": {
           "arrowcolor": "#2a3f5f",
           "arrowhead": 0,
           "arrowwidth": 1
          },
          "autotypenumbers": "strict",
          "coloraxis": {
           "colorbar": {
            "outlinewidth": 0,
            "ticks": ""
           }
          },
          "colorscale": {
           "diverging": [
            [
             0,
             "#8e0152"
            ],
            [
             0.1,
             "#c51b7d"
            ],
            [
             0.2,
             "#de77ae"
            ],
            [
             0.3,
             "#f1b6da"
            ],
            [
             0.4,
             "#fde0ef"
            ],
            [
             0.5,
             "#f7f7f7"
            ],
            [
             0.6,
             "#e6f5d0"
            ],
            [
             0.7,
             "#b8e186"
            ],
            [
             0.8,
             "#7fbc41"
            ],
            [
             0.9,
             "#4d9221"
            ],
            [
             1,
             "#276419"
            ]
           ],
           "sequential": [
            [
             0,
             "#0d0887"
            ],
            [
             0.1111111111111111,
             "#46039f"
            ],
            [
             0.2222222222222222,
             "#7201a8"
            ],
            [
             0.3333333333333333,
             "#9c179e"
            ],
            [
             0.4444444444444444,
             "#bd3786"
            ],
            [
             0.5555555555555556,
             "#d8576b"
            ],
            [
             0.6666666666666666,
             "#ed7953"
            ],
            [
             0.7777777777777778,
             "#fb9f3a"
            ],
            [
             0.8888888888888888,
             "#fdca26"
            ],
            [
             1,
             "#f0f921"
            ]
           ],
           "sequentialminus": [
            [
             0,
             "#0d0887"
            ],
            [
             0.1111111111111111,
             "#46039f"
            ],
            [
             0.2222222222222222,
             "#7201a8"
            ],
            [
             0.3333333333333333,
             "#9c179e"
            ],
            [
             0.4444444444444444,
             "#bd3786"
            ],
            [
             0.5555555555555556,
             "#d8576b"
            ],
            [
             0.6666666666666666,
             "#ed7953"
            ],
            [
             0.7777777777777778,
             "#fb9f3a"
            ],
            [
             0.8888888888888888,
             "#fdca26"
            ],
            [
             1,
             "#f0f921"
            ]
           ]
          },
          "colorway": [
           "#636efa",
           "#EF553B",
           "#00cc96",
           "#ab63fa",
           "#FFA15A",
           "#19d3f3",
           "#FF6692",
           "#B6E880",
           "#FF97FF",
           "#FECB52"
          ],
          "font": {
           "color": "#2a3f5f"
          },
          "geo": {
           "bgcolor": "white",
           "lakecolor": "white",
           "landcolor": "#E5ECF6",
           "showlakes": true,
           "showland": true,
           "subunitcolor": "white"
          },
          "hoverlabel": {
           "align": "left"
          },
          "hovermode": "closest",
          "mapbox": {
           "style": "light"
          },
          "paper_bgcolor": "white",
          "plot_bgcolor": "#E5ECF6",
          "polar": {
           "angularaxis": {
            "gridcolor": "white",
            "linecolor": "white",
            "ticks": ""
           },
           "bgcolor": "#E5ECF6",
           "radialaxis": {
            "gridcolor": "white",
            "linecolor": "white",
            "ticks": ""
           }
          },
          "scene": {
           "xaxis": {
            "backgroundcolor": "#E5ECF6",
            "gridcolor": "white",
            "gridwidth": 2,
            "linecolor": "white",
            "showbackground": true,
            "ticks": "",
            "zerolinecolor": "white"
           },
           "yaxis": {
            "backgroundcolor": "#E5ECF6",
            "gridcolor": "white",
            "gridwidth": 2,
            "linecolor": "white",
            "showbackground": true,
            "ticks": "",
            "zerolinecolor": "white"
           },
           "zaxis": {
            "backgroundcolor": "#E5ECF6",
            "gridcolor": "white",
            "gridwidth": 2,
            "linecolor": "white",
            "showbackground": true,
            "ticks": "",
            "zerolinecolor": "white"
           }
          },
          "shapedefaults": {
           "line": {
            "color": "#2a3f5f"
           }
          },
          "ternary": {
           "aaxis": {
            "gridcolor": "white",
            "linecolor": "white",
            "ticks": ""
           },
           "baxis": {
            "gridcolor": "white",
            "linecolor": "white",
            "ticks": ""
           },
           "bgcolor": "#E5ECF6",
           "caxis": {
            "gridcolor": "white",
            "linecolor": "white",
            "ticks": ""
           }
          },
          "title": {
           "x": 0.05
          },
          "xaxis": {
           "automargin": true,
           "gridcolor": "white",
           "linecolor": "white",
           "ticks": "",
           "title": {
            "standoff": 15
           },
           "zerolinecolor": "white",
           "zerolinewidth": 2
          },
          "yaxis": {
           "automargin": true,
           "gridcolor": "white",
           "linecolor": "white",
           "ticks": "",
           "title": {
            "standoff": 15
           },
           "zerolinecolor": "white",
           "zerolinewidth": 2
          }
         }
        },
        "xaxis": {
         "anchor": "y",
         "domain": [
          0,
          1
         ],
         "title": {
          "text": "year"
         }
        },
        "yaxis": {
         "anchor": "x",
         "domain": [
          0,
          1
         ],
         "title": {
          "text": "points"
         }
        }
       }
      },
      "text/html": [
       "<div>                            <div id=\"a9f2edba-290e-4c80-9777-a0740b7c4313\" class=\"plotly-graph-div\" style=\"height:525px; width:100%;\"></div>            <script type=\"text/javascript\">                require([\"plotly\"], function(Plotly) {                    window.PLOTLYENV=window.PLOTLYENV || {};                                    if (document.getElementById(\"a9f2edba-290e-4c80-9777-a0740b7c4313\")) {                    Plotly.newPlot(                        \"a9f2edba-290e-4c80-9777-a0740b7c4313\",                        [{\"alignmentgroup\":\"True\",\"hovertemplate\":\"constructor_name=McLaren<br>year=%{x}<br>points=%{y}<extra></extra>\",\"legendgroup\":\"McLaren\",\"marker\":{\"color\":\"#636efa\",\"pattern\":{\"shape\":\"\"}},\"name\":\"McLaren\",\"offsetgroup\":\"McLaren\",\"orientation\":\"v\",\"showlegend\":true,\"textposition\":\"auto\",\"x\":[2000,2001,2002,2003,2004,2005,2006,2007,2007,2008,2009,2010,2011,2012,2013,2014,2014,2016,2016,2017,2018,2020,2021,2022],\"xaxis\":\"x\",\"y\":[162.0,179.0,92.0,142.0,88.0,182.0,35.0,218.0,24.0,0.0,59.5,44.0,69.0,400.0,33.0,0.0,0.0,76.0,765.0,5.0,93.0,202.0,275.0,8.0],\"yaxis\":\"y\",\"type\":\"bar\"},{\"alignmentgroup\":\"True\",\"hovertemplate\":\"constructor_name=BMW Sauber<br>year=%{x}<br>points=%{y}<extra></extra>\",\"legendgroup\":\"BMW Sauber\",\"marker\":{\"color\":\"#EF553B\",\"pattern\":{\"shape\":\"\"}},\"name\":\"BMW Sauber\",\"offsetgroup\":\"BMW Sauber\",\"orientation\":\"v\",\"showlegend\":true,\"textposition\":\"auto\",\"x\":[2000,2001,2002,2003,2004,2005,2006,2007,2007,2008,2010,2010,2011,2012,2013,2014,2015,2016,2016,2017,2019,2020,2021,2022],\"xaxis\":\"x\",\"y\":[36.0,80.0,0.0,144.0,105.0,66.0,110.0,101.0,6.0,14.0,454.0,214.0,650.0,460.0,77.0,181.0,257.0,63.0,1.0,47.0,145.0,0.0,585.5,554.0],\"yaxis\":\"y\",\"type\":\"bar\"},{\"alignmentgroup\":\"True\",\"hovertemplate\":\"constructor_name=Williams<br>year=%{x}<br>points=%{y}<extra></extra>\",\"legendgroup\":\"Williams\",\"marker\":{\"color\":\"#00cc96\",\"pattern\":{\"shape\":\"\"}},\"name\":\"Williams\",\"offsetgroup\":\"Williams\",\"orientation\":\"v\",\"showlegend\":true,\"textposition\":\"auto\",\"x\":[2000,2001,2002,2003,2004,2005,2006,2007,2008,2009,2010,2010,2011,2012,2013,2014,2015,2016,2017,2018,2019,2020,2021,2022],\"xaxis\":\"x\",\"y\":[170.0,4.0,2.0,16.0,34.0,20.0,0.0,13.0,80.0,34.5,13.0,0.0,0.0,0.0,5.0,155.0,36.0,398.0,30.0,122.0,85.0,131.0,13.0,759.0],\"yaxis\":\"y\",\"type\":\"bar\"},{\"alignmentgroup\":\"True\",\"hovertemplate\":\"constructor_name=Renault<br>year=%{x}<br>points=%{y}<extra></extra>\",\"legendgroup\":\"Renault\",\"marker\":{\"color\":\"#ab63fa\",\"pattern\":{\"shape\":\"\"}},\"name\":\"Renault\",\"offsetgroup\":\"Renault\",\"orientation\":\"v\",\"showlegend\":true,\"textposition\":\"auto\",\"x\":[2000,2001,2002,2003,2004,2005,2006,2007,2008,2008,2009,2011,2011,2012,2013,2013,2015,2015,2016,2018,2019,2020,2021,2022],\"xaxis\":\"x\",\"y\":[6.0,19.0,11.0,0.0,262.0,38.0,86.0,51.0,135.0,29.0,172.0,497.0,44.0,109.0,122.0,315.0,27.0,78.0,29.0,62.0,91.0,319.0,323.5,55.0],\"yaxis\":\"y\",\"type\":\"bar\"},{\"alignmentgroup\":\"True\",\"hovertemplate\":\"constructor_name=Toro Rosso<br>year=%{x}<br>points=%{y}<extra></extra>\",\"legendgroup\":\"Toro Rosso\",\"marker\":{\"color\":\"#FFA15A\",\"pattern\":{\"shape\":\"\"}},\"name\":\"Toro Rosso\",\"offsetgroup\":\"Toro Rosso\",\"orientation\":\"v\",\"showlegend\":true,\"textposition\":\"auto\",\"x\":[2000,2001,2002,2003,2004,2005,2006,2007,2008,2009,2010,2010,2011,2012,2013,2014,2015,2015,2017,2018,2019,2020,2021],\"xaxis\":\"x\",\"y\":[20.0,10.0,2.0,18.0,10.0,88.0,201.0,8.0,172.0,71.0,498.0,0.0,165.0,26.0,596.0,216.0,428.0,0.0,368.0,111.0,28.0,107.0,77.0],\"yaxis\":\"y\",\"type\":\"bar\"},{\"alignmentgroup\":\"True\",\"hovertemplate\":\"constructor_name=Ferrari<br>year=%{x}<br>points=%{y}<extra></extra>\",\"legendgroup\":\"Ferrari\",\"marker\":{\"color\":\"#19d3f3\",\"pattern\":{\"shape\":\"\"}},\"name\":\"Ferrari\",\"offsetgroup\":\"Ferrari\",\"orientation\":\"v\",\"showlegend\":true,\"textposition\":\"auto\",\"x\":[2000,2001,2002,2002,2004,2005,2006,2006,2008,2008,2009,2010,2011,2012,2013,2014,2014,2015,2016,2017,2018,2019,2021,2022],\"xaxis\":\"x\",\"y\":[17.0,102.0,65.0,2.0,69.0,191.0,206.0,0.0,151.0,0.0,13.0,68.0,375.0,126.0,0.0,320.0,10.0,0.0,2.0,668.0,655.0,73.0,23.0,55.0],\"yaxis\":\"y\",\"type\":\"bar\"},{\"alignmentgroup\":\"True\",\"hovertemplate\":\"constructor_name=Toyota<br>year=%{x}<br>points=%{y}<extra></extra>\",\"legendgroup\":\"Toyota\",\"marker\":{\"color\":\"#FF6692\",\"pattern\":{\"shape\":\"\"}},\"name\":\"Toyota\",\"offsetgroup\":\"Toyota\",\"orientation\":\"v\",\"showlegend\":true,\"textposition\":\"auto\",\"x\":[2000,2001,2002,2003,2004,2005,2006,2006,2008,2009,2009,2010,2011,2012,2013,2014,2015,2016,2017,2018,2019,2020,2021,2022],\"xaxis\":\"x\",\"y\":[0.0,21.0,23.0,19.0,119.0,12.0,11.0,0.0,26.0,36.0,153.5,0.0,0.0,0.0,354.0,30.0,67.0,138.0,83.0,7.0,1.0,210.0,142.0,37.0],\"yaxis\":\"y\",\"type\":\"bar\"},{\"alignmentgroup\":\"True\",\"hovertemplate\":\"constructor_name=Super Aguri<br>year=%{x}<br>points=%{y}<extra></extra>\",\"legendgroup\":\"Super Aguri\",\"marker\":{\"color\":\"#B6E880\",\"pattern\":{\"shape\":\"\"}},\"name\":\"Super Aguri\",\"offsetgroup\":\"Super Aguri\",\"orientation\":\"v\",\"showlegend\":true,\"textposition\":\"auto\",\"x\":[2000,2001,2002,2003,2017,2018,2019,2020,2021,2022],\"xaxis\":\"x\",\"y\":[4.0,1.0,8.0,13.0,53.0,419.0,57.0,8.0,155.0,515.0],\"yaxis\":\"y\",\"type\":\"bar\"},{\"alignmentgroup\":\"True\",\"hovertemplate\":\"constructor_name=Red Bull<br>year=%{x}<br>points=%{y}<extra></extra>\",\"legendgroup\":\"Red Bull\",\"marker\":{\"color\":\"#FF97FF\",\"pattern\":{\"shape\":\"\"}},\"name\":\"Red Bull\",\"offsetgroup\":\"Red Bull\",\"orientation\":\"v\",\"showlegend\":true,\"textposition\":\"auto\",\"x\":[2000,2001,2002,2003,2004,2005,2006,2007,2008,2009,2010,2011,2011,2012,2013,2014,2015,2016,2017,2018,2019,2020,2021,2022],\"xaxis\":\"x\",\"y\":[0.0,17.0,221.0,88.0,9.0,100.0,36.0,33.0,39.0,26.0,69.0,5.0,0.0,142.0,57.0,405.0,187.0,8.0,522.0,33.0,739.0,181.0,0.0,35.0],\"yaxis\":\"y\",\"type\":\"bar\"},{\"alignmentgroup\":\"True\",\"hovertemplate\":\"constructor_name=Force India<br>year=%{x}<br>points=%{y}<extra></extra>\",\"legendgroup\":\"Force India\",\"marker\":{\"color\":\"#FECB52\",\"pattern\":{\"shape\":\"\"}},\"name\":\"Force India\",\"offsetgroup\":\"Force India\",\"orientation\":\"v\",\"showlegend\":true,\"textposition\":\"auto\",\"x\":[2000,2001,2002,2003,2004,2005,2006,2007,2008,2009,2010,2011,2012,2012,2013,2014,2015,2016],\"xaxis\":\"x\",\"y\":[7.0,9.0,9.0,26.0,1.0,7.0,16.0,4.0,56.0,8.0,396.0,41.0,378.0,303.0,0.0,2.0,703.0,173.0],\"yaxis\":\"y\",\"type\":\"bar\"},{\"alignmentgroup\":\"True\",\"hovertemplate\":\"constructor_name=Honda<br>year=%{x}<br>points=%{y}<extra></extra>\",\"legendgroup\":\"Honda\",\"marker\":{\"color\":\"#636efa\",\"pattern\":{\"shape\":\"\"}},\"name\":\"Honda\",\"offsetgroup\":\"Honda\",\"orientation\":\"v\",\"showlegend\":true,\"textposition\":\"auto\",\"x\":[2000,2001,2002,2003,2004,2005,2006,2007,2007,2009,2010,2011,2012,2012,2013,2014,2015,2016,2017,2018,2019,2020,2021,2022],\"xaxis\":\"x\",\"y\":[20.0,0.0,7.0,158.0,5.0,34.0,1.0,204.0,1.0,70.0,163.0,73.0,76.0,0.0,360.0,701.0,136.0,468.0,57.0,571.0,504.0,573.0,613.5,173.0],\"yaxis\":\"y\",\"type\":\"bar\"},{\"alignmentgroup\":\"True\",\"hovertemplate\":\"constructor_name=Spyker<br>year=%{x}<br>points=%{y}<extra></extra>\",\"legendgroup\":\"Spyker\",\"marker\":{\"color\":\"#EF553B\",\"pattern\":{\"shape\":\"\"}},\"name\":\"Spyker\",\"offsetgroup\":\"Spyker\",\"orientation\":\"v\",\"showlegend\":true,\"textposition\":\"auto\",\"x\":[2017,2018,2019,2020,2022],\"xaxis\":\"x\",\"y\":[187.0,48.0,417.0,3.0,159.0],\"yaxis\":\"y\",\"type\":\"bar\"}],                        {\"template\":{\"data\":{\"histogram2dcontour\":[{\"type\":\"histogram2dcontour\",\"colorbar\":{\"outlinewidth\":0,\"ticks\":\"\"},\"colorscale\":[[0.0,\"#0d0887\"],[0.1111111111111111,\"#46039f\"],[0.2222222222222222,\"#7201a8\"],[0.3333333333333333,\"#9c179e\"],[0.4444444444444444,\"#bd3786\"],[0.5555555555555556,\"#d8576b\"],[0.6666666666666666,\"#ed7953\"],[0.7777777777777778,\"#fb9f3a\"],[0.8888888888888888,\"#fdca26\"],[1.0,\"#f0f921\"]]}],\"choropleth\":[{\"type\":\"choropleth\",\"colorbar\":{\"outlinewidth\":0,\"ticks\":\"\"}}],\"histogram2d\":[{\"type\":\"histogram2d\",\"colorbar\":{\"outlinewidth\":0,\"ticks\":\"\"},\"colorscale\":[[0.0,\"#0d0887\"],[0.1111111111111111,\"#46039f\"],[0.2222222222222222,\"#7201a8\"],[0.3333333333333333,\"#9c179e\"],[0.4444444444444444,\"#bd3786\"],[0.5555555555555556,\"#d8576b\"],[0.6666666666666666,\"#ed7953\"],[0.7777777777777778,\"#fb9f3a\"],[0.8888888888888888,\"#fdca26\"],[1.0,\"#f0f921\"]]}],\"heatmap\":[{\"type\":\"heatmap\",\"colorbar\":{\"outlinewidth\":0,\"ticks\":\"\"},\"colorscale\":[[0.0,\"#0d0887\"],[0.1111111111111111,\"#46039f\"],[0.2222222222222222,\"#7201a8\"],[0.3333333333333333,\"#9c179e\"],[0.4444444444444444,\"#bd3786\"],[0.5555555555555556,\"#d8576b\"],[0.6666666666666666,\"#ed7953\"],[0.7777777777777778,\"#fb9f3a\"],[0.8888888888888888,\"#fdca26\"],[1.0,\"#f0f921\"]]}],\"heatmapgl\":[{\"type\":\"heatmapgl\",\"colorbar\":{\"outlinewidth\":0,\"ticks\":\"\"},\"colorscale\":[[0.0,\"#0d0887\"],[0.1111111111111111,\"#46039f\"],[0.2222222222222222,\"#7201a8\"],[0.3333333333333333,\"#9c179e\"],[0.4444444444444444,\"#bd3786\"],[0.5555555555555556,\"#d8576b\"],[0.6666666666666666,\"#ed7953\"],[0.7777777777777778,\"#fb9f3a\"],[0.8888888888888888,\"#fdca26\"],[1.0,\"#f0f921\"]]}],\"contourcarpet\":[{\"type\":\"contourcarpet\",\"colorbar\":{\"outlinewidth\":0,\"ticks\":\"\"}}],\"contour\":[{\"type\":\"contour\",\"colorbar\":{\"outlinewidth\":0,\"ticks\":\"\"},\"colorscale\":[[0.0,\"#0d0887\"],[0.1111111111111111,\"#46039f\"],[0.2222222222222222,\"#7201a8\"],[0.3333333333333333,\"#9c179e\"],[0.4444444444444444,\"#bd3786\"],[0.5555555555555556,\"#d8576b\"],[0.6666666666666666,\"#ed7953\"],[0.7777777777777778,\"#fb9f3a\"],[0.8888888888888888,\"#fdca26\"],[1.0,\"#f0f921\"]]}],\"surface\":[{\"type\":\"surface\",\"colorbar\":{\"outlinewidth\":0,\"ticks\":\"\"},\"colorscale\":[[0.0,\"#0d0887\"],[0.1111111111111111,\"#46039f\"],[0.2222222222222222,\"#7201a8\"],[0.3333333333333333,\"#9c179e\"],[0.4444444444444444,\"#bd3786\"],[0.5555555555555556,\"#d8576b\"],[0.6666666666666666,\"#ed7953\"],[0.7777777777777778,\"#fb9f3a\"],[0.8888888888888888,\"#fdca26\"],[1.0,\"#f0f921\"]]}],\"mesh3d\":[{\"type\":\"mesh3d\",\"colorbar\":{\"outlinewidth\":0,\"ticks\":\"\"}}],\"scatter\":[{\"fillpattern\":{\"fillmode\":\"overlay\",\"size\":10,\"solidity\":0.2},\"type\":\"scatter\"}],\"parcoords\":[{\"type\":\"parcoords\",\"line\":{\"colorbar\":{\"outlinewidth\":0,\"ticks\":\"\"}}}],\"scatterpolargl\":[{\"type\":\"scatterpolargl\",\"marker\":{\"colorbar\":{\"outlinewidth\":0,\"ticks\":\"\"}}}],\"bar\":[{\"error_x\":{\"color\":\"#2a3f5f\"},\"error_y\":{\"color\":\"#2a3f5f\"},\"marker\":{\"line\":{\"color\":\"#E5ECF6\",\"width\":0.5},\"pattern\":{\"fillmode\":\"overlay\",\"size\":10,\"solidity\":0.2}},\"type\":\"bar\"}],\"scattergeo\":[{\"type\":\"scattergeo\",\"marker\":{\"colorbar\":{\"outlinewidth\":0,\"ticks\":\"\"}}}],\"scatterpolar\":[{\"type\":\"scatterpolar\",\"marker\":{\"colorbar\":{\"outlinewidth\":0,\"ticks\":\"\"}}}],\"histogram\":[{\"marker\":{\"pattern\":{\"fillmode\":\"overlay\",\"size\":10,\"solidity\":0.2}},\"type\":\"histogram\"}],\"scattergl\":[{\"type\":\"scattergl\",\"marker\":{\"colorbar\":{\"outlinewidth\":0,\"ticks\":\"\"}}}],\"scatter3d\":[{\"type\":\"scatter3d\",\"line\":{\"colorbar\":{\"outlinewidth\":0,\"ticks\":\"\"}},\"marker\":{\"colorbar\":{\"outlinewidth\":0,\"ticks\":\"\"}}}],\"scattermapbox\":[{\"type\":\"scattermapbox\",\"marker\":{\"colorbar\":{\"outlinewidth\":0,\"ticks\":\"\"}}}],\"scatterternary\":[{\"type\":\"scatterternary\",\"marker\":{\"colorbar\":{\"outlinewidth\":0,\"ticks\":\"\"}}}],\"scattercarpet\":[{\"type\":\"scattercarpet\",\"marker\":{\"colorbar\":{\"outlinewidth\":0,\"ticks\":\"\"}}}],\"carpet\":[{\"aaxis\":{\"endlinecolor\":\"#2a3f5f\",\"gridcolor\":\"white\",\"linecolor\":\"white\",\"minorgridcolor\":\"white\",\"startlinecolor\":\"#2a3f5f\"},\"baxis\":{\"endlinecolor\":\"#2a3f5f\",\"gridcolor\":\"white\",\"linecolor\":\"white\",\"minorgridcolor\":\"white\",\"startlinecolor\":\"#2a3f5f\"},\"type\":\"carpet\"}],\"table\":[{\"cells\":{\"fill\":{\"color\":\"#EBF0F8\"},\"line\":{\"color\":\"white\"}},\"header\":{\"fill\":{\"color\":\"#C8D4E3\"},\"line\":{\"color\":\"white\"}},\"type\":\"table\"}],\"barpolar\":[{\"marker\":{\"line\":{\"color\":\"#E5ECF6\",\"width\":0.5},\"pattern\":{\"fillmode\":\"overlay\",\"size\":10,\"solidity\":0.2}},\"type\":\"barpolar\"}],\"pie\":[{\"automargin\":true,\"type\":\"pie\"}]},\"layout\":{\"autotypenumbers\":\"strict\",\"colorway\":[\"#636efa\",\"#EF553B\",\"#00cc96\",\"#ab63fa\",\"#FFA15A\",\"#19d3f3\",\"#FF6692\",\"#B6E880\",\"#FF97FF\",\"#FECB52\"],\"font\":{\"color\":\"#2a3f5f\"},\"hovermode\":\"closest\",\"hoverlabel\":{\"align\":\"left\"},\"paper_bgcolor\":\"white\",\"plot_bgcolor\":\"#E5ECF6\",\"polar\":{\"bgcolor\":\"#E5ECF6\",\"angularaxis\":{\"gridcolor\":\"white\",\"linecolor\":\"white\",\"ticks\":\"\"},\"radialaxis\":{\"gridcolor\":\"white\",\"linecolor\":\"white\",\"ticks\":\"\"}},\"ternary\":{\"bgcolor\":\"#E5ECF6\",\"aaxis\":{\"gridcolor\":\"white\",\"linecolor\":\"white\",\"ticks\":\"\"},\"baxis\":{\"gridcolor\":\"white\",\"linecolor\":\"white\",\"ticks\":\"\"},\"caxis\":{\"gridcolor\":\"white\",\"linecolor\":\"white\",\"ticks\":\"\"}},\"coloraxis\":{\"colorbar\":{\"outlinewidth\":0,\"ticks\":\"\"}},\"colorscale\":{\"sequential\":[[0.0,\"#0d0887\"],[0.1111111111111111,\"#46039f\"],[0.2222222222222222,\"#7201a8\"],[0.3333333333333333,\"#9c179e\"],[0.4444444444444444,\"#bd3786\"],[0.5555555555555556,\"#d8576b\"],[0.6666666666666666,\"#ed7953\"],[0.7777777777777778,\"#fb9f3a\"],[0.8888888888888888,\"#fdca26\"],[1.0,\"#f0f921\"]],\"sequentialminus\":[[0.0,\"#0d0887\"],[0.1111111111111111,\"#46039f\"],[0.2222222222222222,\"#7201a8\"],[0.3333333333333333,\"#9c179e\"],[0.4444444444444444,\"#bd3786\"],[0.5555555555555556,\"#d8576b\"],[0.6666666666666666,\"#ed7953\"],[0.7777777777777778,\"#fb9f3a\"],[0.8888888888888888,\"#fdca26\"],[1.0,\"#f0f921\"]],\"diverging\":[[0,\"#8e0152\"],[0.1,\"#c51b7d\"],[0.2,\"#de77ae\"],[0.3,\"#f1b6da\"],[0.4,\"#fde0ef\"],[0.5,\"#f7f7f7\"],[0.6,\"#e6f5d0\"],[0.7,\"#b8e186\"],[0.8,\"#7fbc41\"],[0.9,\"#4d9221\"],[1,\"#276419\"]]},\"xaxis\":{\"gridcolor\":\"white\",\"linecolor\":\"white\",\"ticks\":\"\",\"title\":{\"standoff\":15},\"zerolinecolor\":\"white\",\"automargin\":true,\"zerolinewidth\":2},\"yaxis\":{\"gridcolor\":\"white\",\"linecolor\":\"white\",\"ticks\":\"\",\"title\":{\"standoff\":15},\"zerolinecolor\":\"white\",\"automargin\":true,\"zerolinewidth\":2},\"scene\":{\"xaxis\":{\"backgroundcolor\":\"#E5ECF6\",\"gridcolor\":\"white\",\"linecolor\":\"white\",\"showbackground\":true,\"ticks\":\"\",\"zerolinecolor\":\"white\",\"gridwidth\":2},\"yaxis\":{\"backgroundcolor\":\"#E5ECF6\",\"gridcolor\":\"white\",\"linecolor\":\"white\",\"showbackground\":true,\"ticks\":\"\",\"zerolinecolor\":\"white\",\"gridwidth\":2},\"zaxis\":{\"backgroundcolor\":\"#E5ECF6\",\"gridcolor\":\"white\",\"linecolor\":\"white\",\"showbackground\":true,\"ticks\":\"\",\"zerolinecolor\":\"white\",\"gridwidth\":2}},\"shapedefaults\":{\"line\":{\"color\":\"#2a3f5f\"}},\"annotationdefaults\":{\"arrowcolor\":\"#2a3f5f\",\"arrowhead\":0,\"arrowwidth\":1},\"geo\":{\"bgcolor\":\"white\",\"landcolor\":\"#E5ECF6\",\"subunitcolor\":\"white\",\"showland\":true,\"showlakes\":true,\"lakecolor\":\"white\"},\"title\":{\"x\":0.05},\"mapbox\":{\"style\":\"light\"}}},\"xaxis\":{\"anchor\":\"y\",\"domain\":[0.0,1.0],\"title\":{\"text\":\"year\"}},\"yaxis\":{\"anchor\":\"x\",\"domain\":[0.0,1.0],\"title\":{\"text\":\"points\"}},\"legend\":{\"title\":{\"text\":\"constructor_name\"},\"tracegroupgap\":0},\"margin\":{\"t\":60},\"barmode\":\"relative\"},                        {\"responsive\": true}                    ).then(function(){\n",
       "                            \n",
       "var gd = document.getElementById('a9f2edba-290e-4c80-9777-a0740b7c4313');\n",
       "var x = new MutationObserver(function (mutations, observer) {{\n",
       "        var display = window.getComputedStyle(gd).display;\n",
       "        if (!display || display === 'none') {{\n",
       "            console.log([gd, 'removed!']);\n",
       "            Plotly.purge(gd);\n",
       "            observer.disconnect();\n",
       "        }}\n",
       "}});\n",
       "\n",
       "// Listen for the removal of the full notebook cells\n",
       "var notebookContainer = gd.closest('#notebook-container');\n",
       "if (notebookContainer) {{\n",
       "    x.observe(notebookContainer, {childList: true});\n",
       "}}\n",
       "\n",
       "// Listen for the clearing of the current output cell\n",
       "var outputEl = gd.closest('.output');\n",
       "if (outputEl) {{\n",
       "    x.observe(outputEl, {childList: true});\n",
       "}}\n",
       "\n",
       "                        })                };                });            </script>        </div>"
      ]
     },
     "metadata": {},
     "output_type": "display_data"
    }
   ],
   "source": [
    "import plotly.express as px\n",
    "fig = px.bar(constructor_pts_year, x=\"year\", y=\"points\", color=\"constructor_name\")\n",
    "fig.show()"
   ]
  }
 ],
 "metadata": {
  "kernelspec": {
   "display_name": "Python 3 (ipykernel)",
   "language": "python",
   "name": "python3"
  },
  "language_info": {
   "codemirror_mode": {
    "name": "ipython",
    "version": 3
   },
   "file_extension": ".py",
   "mimetype": "text/x-python",
   "name": "python",
   "nbconvert_exporter": "python",
   "pygments_lexer": "ipython3",
   "version": "3.11.3"
  }
 },
 "nbformat": 4,
 "nbformat_minor": 5
}
