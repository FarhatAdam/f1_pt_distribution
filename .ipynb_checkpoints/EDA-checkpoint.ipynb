{
 "cells": [
  {
   "cell_type": "code",
   "execution_count": 1,
   "id": "3d8c3168",
   "metadata": {},
   "outputs": [],
   "source": [
    "import pandas as pd\n",
    "import numpy as np"
   ]
  },
  {
   "cell_type": "markdown",
   "id": "7ba46856",
   "metadata": {},
   "source": [
    "# EDA"
   ]
  },
  {
   "cell_type": "code",
   "execution_count": 2,
   "id": "e1d62316",
   "metadata": {},
   "outputs": [
    {
     "data": {
      "text/html": [
       "<div>\n",
       "<style scoped>\n",
       "    .dataframe tbody tr th:only-of-type {\n",
       "        vertical-align: middle;\n",
       "    }\n",
       "\n",
       "    .dataframe tbody tr th {\n",
       "        vertical-align: top;\n",
       "    }\n",
       "\n",
       "    .dataframe thead th {\n",
       "        text-align: right;\n",
       "    }\n",
       "</style>\n",
       "<table border=\"1\" class=\"dataframe\">\n",
       "  <thead>\n",
       "    <tr style=\"text-align: right;\">\n",
       "      <th></th>\n",
       "      <th>raceId</th>\n",
       "      <th>year</th>\n",
       "      <th>round</th>\n",
       "      <th>circuitId</th>\n",
       "      <th>name</th>\n",
       "      <th>date</th>\n",
       "      <th>time</th>\n",
       "      <th>url</th>\n",
       "      <th>fp1_date</th>\n",
       "      <th>fp1_time</th>\n",
       "      <th>fp2_date</th>\n",
       "      <th>fp2_time</th>\n",
       "      <th>fp3_date</th>\n",
       "      <th>fp3_time</th>\n",
       "      <th>quali_date</th>\n",
       "      <th>quali_time</th>\n",
       "      <th>sprint_date</th>\n",
       "      <th>sprint_time</th>\n",
       "    </tr>\n",
       "  </thead>\n",
       "  <tbody>\n",
       "    <tr>\n",
       "      <th>0</th>\n",
       "      <td>1</td>\n",
       "      <td>2009</td>\n",
       "      <td>1</td>\n",
       "      <td>1</td>\n",
       "      <td>Australian Grand Prix</td>\n",
       "      <td>2009-03-29</td>\n",
       "      <td>06:00:00</td>\n",
       "      <td>http://en.wikipedia.org/wiki/2009_Australian_G...</td>\n",
       "      <td>\\N</td>\n",
       "      <td>\\N</td>\n",
       "      <td>\\N</td>\n",
       "      <td>\\N</td>\n",
       "      <td>\\N</td>\n",
       "      <td>\\N</td>\n",
       "      <td>\\N</td>\n",
       "      <td>\\N</td>\n",
       "      <td>\\N</td>\n",
       "      <td>\\N</td>\n",
       "    </tr>\n",
       "    <tr>\n",
       "      <th>1</th>\n",
       "      <td>2</td>\n",
       "      <td>2009</td>\n",
       "      <td>2</td>\n",
       "      <td>2</td>\n",
       "      <td>Malaysian Grand Prix</td>\n",
       "      <td>2009-04-05</td>\n",
       "      <td>09:00:00</td>\n",
       "      <td>http://en.wikipedia.org/wiki/2009_Malaysian_Gr...</td>\n",
       "      <td>\\N</td>\n",
       "      <td>\\N</td>\n",
       "      <td>\\N</td>\n",
       "      <td>\\N</td>\n",
       "      <td>\\N</td>\n",
       "      <td>\\N</td>\n",
       "      <td>\\N</td>\n",
       "      <td>\\N</td>\n",
       "      <td>\\N</td>\n",
       "      <td>\\N</td>\n",
       "    </tr>\n",
       "    <tr>\n",
       "      <th>2</th>\n",
       "      <td>3</td>\n",
       "      <td>2009</td>\n",
       "      <td>3</td>\n",
       "      <td>17</td>\n",
       "      <td>Chinese Grand Prix</td>\n",
       "      <td>2009-04-19</td>\n",
       "      <td>07:00:00</td>\n",
       "      <td>http://en.wikipedia.org/wiki/2009_Chinese_Gran...</td>\n",
       "      <td>\\N</td>\n",
       "      <td>\\N</td>\n",
       "      <td>\\N</td>\n",
       "      <td>\\N</td>\n",
       "      <td>\\N</td>\n",
       "      <td>\\N</td>\n",
       "      <td>\\N</td>\n",
       "      <td>\\N</td>\n",
       "      <td>\\N</td>\n",
       "      <td>\\N</td>\n",
       "    </tr>\n",
       "    <tr>\n",
       "      <th>3</th>\n",
       "      <td>4</td>\n",
       "      <td>2009</td>\n",
       "      <td>4</td>\n",
       "      <td>3</td>\n",
       "      <td>Bahrain Grand Prix</td>\n",
       "      <td>2009-04-26</td>\n",
       "      <td>12:00:00</td>\n",
       "      <td>http://en.wikipedia.org/wiki/2009_Bahrain_Gran...</td>\n",
       "      <td>\\N</td>\n",
       "      <td>\\N</td>\n",
       "      <td>\\N</td>\n",
       "      <td>\\N</td>\n",
       "      <td>\\N</td>\n",
       "      <td>\\N</td>\n",
       "      <td>\\N</td>\n",
       "      <td>\\N</td>\n",
       "      <td>\\N</td>\n",
       "      <td>\\N</td>\n",
       "    </tr>\n",
       "    <tr>\n",
       "      <th>4</th>\n",
       "      <td>5</td>\n",
       "      <td>2009</td>\n",
       "      <td>5</td>\n",
       "      <td>4</td>\n",
       "      <td>Spanish Grand Prix</td>\n",
       "      <td>2009-05-10</td>\n",
       "      <td>12:00:00</td>\n",
       "      <td>http://en.wikipedia.org/wiki/2009_Spanish_Gran...</td>\n",
       "      <td>\\N</td>\n",
       "      <td>\\N</td>\n",
       "      <td>\\N</td>\n",
       "      <td>\\N</td>\n",
       "      <td>\\N</td>\n",
       "      <td>\\N</td>\n",
       "      <td>\\N</td>\n",
       "      <td>\\N</td>\n",
       "      <td>\\N</td>\n",
       "      <td>\\N</td>\n",
       "    </tr>\n",
       "  </tbody>\n",
       "</table>\n",
       "</div>"
      ],
      "text/plain": [
       "   raceId  year  round  circuitId                   name        date   \n",
       "0       1  2009      1          1  Australian Grand Prix  2009-03-29  \\\n",
       "1       2  2009      2          2   Malaysian Grand Prix  2009-04-05   \n",
       "2       3  2009      3         17     Chinese Grand Prix  2009-04-19   \n",
       "3       4  2009      4          3     Bahrain Grand Prix  2009-04-26   \n",
       "4       5  2009      5          4     Spanish Grand Prix  2009-05-10   \n",
       "\n",
       "       time                                                url fp1_date   \n",
       "0  06:00:00  http://en.wikipedia.org/wiki/2009_Australian_G...       \\N  \\\n",
       "1  09:00:00  http://en.wikipedia.org/wiki/2009_Malaysian_Gr...       \\N   \n",
       "2  07:00:00  http://en.wikipedia.org/wiki/2009_Chinese_Gran...       \\N   \n",
       "3  12:00:00  http://en.wikipedia.org/wiki/2009_Bahrain_Gran...       \\N   \n",
       "4  12:00:00  http://en.wikipedia.org/wiki/2009_Spanish_Gran...       \\N   \n",
       "\n",
       "  fp1_time fp2_date fp2_time fp3_date fp3_time quali_date quali_time   \n",
       "0       \\N       \\N       \\N       \\N       \\N         \\N         \\N  \\\n",
       "1       \\N       \\N       \\N       \\N       \\N         \\N         \\N   \n",
       "2       \\N       \\N       \\N       \\N       \\N         \\N         \\N   \n",
       "3       \\N       \\N       \\N       \\N       \\N         \\N         \\N   \n",
       "4       \\N       \\N       \\N       \\N       \\N         \\N         \\N   \n",
       "\n",
       "  sprint_date sprint_time  \n",
       "0          \\N          \\N  \n",
       "1          \\N          \\N  \n",
       "2          \\N          \\N  \n",
       "3          \\N          \\N  \n",
       "4          \\N          \\N  "
      ]
     },
     "execution_count": 2,
     "metadata": {},
     "output_type": "execute_result"
    }
   ],
   "source": [
    "races_df = pd.read_csv('data/Formula1/races.csv')\n",
    "races_df.head()"
   ]
  },
  {
   "cell_type": "code",
   "execution_count": 3,
   "id": "4c66177d",
   "metadata": {},
   "outputs": [
    {
     "data": {
      "text/plain": [
       "1102"
      ]
     },
     "execution_count": 3,
     "metadata": {},
     "output_type": "execute_result"
    }
   ],
   "source": [
    "len(races_df['raceId'].unique())"
   ]
  },
  {
   "cell_type": "markdown",
   "id": "ebcdce05",
   "metadata": {},
   "source": [
    "## 21st Century Races"
   ]
  },
  {
   "cell_type": "code",
   "execution_count": 4,
   "id": "bb1af3e2",
   "metadata": {},
   "outputs": [
    {
     "data": {
      "text/html": [
       "<div>\n",
       "<style scoped>\n",
       "    .dataframe tbody tr th:only-of-type {\n",
       "        vertical-align: middle;\n",
       "    }\n",
       "\n",
       "    .dataframe tbody tr th {\n",
       "        vertical-align: top;\n",
       "    }\n",
       "\n",
       "    .dataframe thead th {\n",
       "        text-align: right;\n",
       "    }\n",
       "</style>\n",
       "<table border=\"1\" class=\"dataframe\">\n",
       "  <thead>\n",
       "    <tr style=\"text-align: right;\">\n",
       "      <th></th>\n",
       "      <th>year</th>\n",
       "      <th>race_list</th>\n",
       "      <th>num_races</th>\n",
       "    </tr>\n",
       "  </thead>\n",
       "  <tbody>\n",
       "    <tr>\n",
       "      <th>0</th>\n",
       "      <td>1950</td>\n",
       "      <td>[833, 834, 835, 836, 837, 838, 839]</td>\n",
       "      <td>7</td>\n",
       "    </tr>\n",
       "    <tr>\n",
       "      <th>1</th>\n",
       "      <td>1951</td>\n",
       "      <td>[825, 826, 827, 828, 829, 830, 831, 832]</td>\n",
       "      <td>8</td>\n",
       "    </tr>\n",
       "    <tr>\n",
       "      <th>2</th>\n",
       "      <td>1952</td>\n",
       "      <td>[817, 818, 819, 820, 821, 822, 823, 824]</td>\n",
       "      <td>8</td>\n",
       "    </tr>\n",
       "    <tr>\n",
       "      <th>3</th>\n",
       "      <td>1953</td>\n",
       "      <td>[808, 809, 810, 811, 812, 813, 814, 815, 816]</td>\n",
       "      <td>9</td>\n",
       "    </tr>\n",
       "    <tr>\n",
       "      <th>4</th>\n",
       "      <td>1954</td>\n",
       "      <td>[799, 800, 801, 802, 803, 804, 805, 806, 807]</td>\n",
       "      <td>9</td>\n",
       "    </tr>\n",
       "    <tr>\n",
       "      <th>...</th>\n",
       "      <td>...</td>\n",
       "      <td>...</td>\n",
       "      <td>...</td>\n",
       "    </tr>\n",
       "    <tr>\n",
       "      <th>69</th>\n",
       "      <td>2019</td>\n",
       "      <td>[1010, 1011, 1012, 1013, 1014, 1015, 1016, 101...</td>\n",
       "      <td>21</td>\n",
       "    </tr>\n",
       "    <tr>\n",
       "      <th>70</th>\n",
       "      <td>2020</td>\n",
       "      <td>[1031, 1032, 1033, 1034, 1035, 1036, 1037, 103...</td>\n",
       "      <td>17</td>\n",
       "    </tr>\n",
       "    <tr>\n",
       "      <th>71</th>\n",
       "      <td>2021</td>\n",
       "      <td>[1053, 1052, 1051, 1054, 1055, 1056, 1057, 105...</td>\n",
       "      <td>22</td>\n",
       "    </tr>\n",
       "    <tr>\n",
       "      <th>72</th>\n",
       "      <td>2022</td>\n",
       "      <td>[1074, 1075, 1076, 1077, 1078, 1079, 1080, 108...</td>\n",
       "      <td>22</td>\n",
       "    </tr>\n",
       "    <tr>\n",
       "      <th>73</th>\n",
       "      <td>2023</td>\n",
       "      <td>[1098, 1099, 1100, 1101, 1102, 1103, 1104, 110...</td>\n",
       "      <td>23</td>\n",
       "    </tr>\n",
       "  </tbody>\n",
       "</table>\n",
       "<p>74 rows × 3 columns</p>\n",
       "</div>"
      ],
      "text/plain": [
       "    year                                          race_list  num_races\n",
       "0   1950                [833, 834, 835, 836, 837, 838, 839]          7\n",
       "1   1951           [825, 826, 827, 828, 829, 830, 831, 832]          8\n",
       "2   1952           [817, 818, 819, 820, 821, 822, 823, 824]          8\n",
       "3   1953      [808, 809, 810, 811, 812, 813, 814, 815, 816]          9\n",
       "4   1954      [799, 800, 801, 802, 803, 804, 805, 806, 807]          9\n",
       "..   ...                                                ...        ...\n",
       "69  2019  [1010, 1011, 1012, 1013, 1014, 1015, 1016, 101...         21\n",
       "70  2020  [1031, 1032, 1033, 1034, 1035, 1036, 1037, 103...         17\n",
       "71  2021  [1053, 1052, 1051, 1054, 1055, 1056, 1057, 105...         22\n",
       "72  2022  [1074, 1075, 1076, 1077, 1078, 1079, 1080, 108...         22\n",
       "73  2023  [1098, 1099, 1100, 1101, 1102, 1103, 1104, 110...         23\n",
       "\n",
       "[74 rows x 3 columns]"
      ]
     },
     "execution_count": 4,
     "metadata": {},
     "output_type": "execute_result"
    }
   ],
   "source": [
    "races_by_year = races_df.groupby('year')['raceId'].apply(list).reset_index(name='race_list')\n",
    "\n",
    "races_by_year['num_races'] = races_by_year['race_list'].str.len()\n",
    "\n",
    "races_by_year"
   ]
  },
  {
   "cell_type": "code",
   "execution_count": 5,
   "id": "334f4829",
   "metadata": {},
   "outputs": [],
   "source": [
    "unnested_races = races_by_year.explode('race_list')\n",
    "\n",
    "#create dict to reference year of race\n",
    "race_year_dict = dict(zip(unnested_races.race_list, unnested_races.year))"
   ]
  },
  {
   "cell_type": "code",
   "execution_count": 6,
   "id": "680833f5",
   "metadata": {},
   "outputs": [
    {
     "data": {
      "text/html": [
       "<div>\n",
       "<style scoped>\n",
       "    .dataframe tbody tr th:only-of-type {\n",
       "        vertical-align: middle;\n",
       "    }\n",
       "\n",
       "    .dataframe tbody tr th {\n",
       "        vertical-align: top;\n",
       "    }\n",
       "\n",
       "    .dataframe thead th {\n",
       "        text-align: right;\n",
       "    }\n",
       "</style>\n",
       "<table border=\"1\" class=\"dataframe\">\n",
       "  <thead>\n",
       "    <tr style=\"text-align: right;\">\n",
       "      <th></th>\n",
       "      <th>year</th>\n",
       "      <th>race_list</th>\n",
       "      <th>num_races</th>\n",
       "    </tr>\n",
       "  </thead>\n",
       "  <tbody>\n",
       "    <tr>\n",
       "      <th>72</th>\n",
       "      <td>2022</td>\n",
       "      <td>1074</td>\n",
       "      <td>22</td>\n",
       "    </tr>\n",
       "    <tr>\n",
       "      <th>72</th>\n",
       "      <td>2022</td>\n",
       "      <td>1075</td>\n",
       "      <td>22</td>\n",
       "    </tr>\n",
       "    <tr>\n",
       "      <th>72</th>\n",
       "      <td>2022</td>\n",
       "      <td>1076</td>\n",
       "      <td>22</td>\n",
       "    </tr>\n",
       "    <tr>\n",
       "      <th>72</th>\n",
       "      <td>2022</td>\n",
       "      <td>1077</td>\n",
       "      <td>22</td>\n",
       "    </tr>\n",
       "    <tr>\n",
       "      <th>72</th>\n",
       "      <td>2022</td>\n",
       "      <td>1078</td>\n",
       "      <td>22</td>\n",
       "    </tr>\n",
       "    <tr>\n",
       "      <th>72</th>\n",
       "      <td>2022</td>\n",
       "      <td>1079</td>\n",
       "      <td>22</td>\n",
       "    </tr>\n",
       "    <tr>\n",
       "      <th>72</th>\n",
       "      <td>2022</td>\n",
       "      <td>1080</td>\n",
       "      <td>22</td>\n",
       "    </tr>\n",
       "    <tr>\n",
       "      <th>72</th>\n",
       "      <td>2022</td>\n",
       "      <td>1081</td>\n",
       "      <td>22</td>\n",
       "    </tr>\n",
       "    <tr>\n",
       "      <th>72</th>\n",
       "      <td>2022</td>\n",
       "      <td>1082</td>\n",
       "      <td>22</td>\n",
       "    </tr>\n",
       "    <tr>\n",
       "      <th>72</th>\n",
       "      <td>2022</td>\n",
       "      <td>1083</td>\n",
       "      <td>22</td>\n",
       "    </tr>\n",
       "    <tr>\n",
       "      <th>72</th>\n",
       "      <td>2022</td>\n",
       "      <td>1084</td>\n",
       "      <td>22</td>\n",
       "    </tr>\n",
       "    <tr>\n",
       "      <th>72</th>\n",
       "      <td>2022</td>\n",
       "      <td>1085</td>\n",
       "      <td>22</td>\n",
       "    </tr>\n",
       "    <tr>\n",
       "      <th>72</th>\n",
       "      <td>2022</td>\n",
       "      <td>1086</td>\n",
       "      <td>22</td>\n",
       "    </tr>\n",
       "    <tr>\n",
       "      <th>72</th>\n",
       "      <td>2022</td>\n",
       "      <td>1087</td>\n",
       "      <td>22</td>\n",
       "    </tr>\n",
       "    <tr>\n",
       "      <th>72</th>\n",
       "      <td>2022</td>\n",
       "      <td>1088</td>\n",
       "      <td>22</td>\n",
       "    </tr>\n",
       "    <tr>\n",
       "      <th>72</th>\n",
       "      <td>2022</td>\n",
       "      <td>1089</td>\n",
       "      <td>22</td>\n",
       "    </tr>\n",
       "    <tr>\n",
       "      <th>72</th>\n",
       "      <td>2022</td>\n",
       "      <td>1091</td>\n",
       "      <td>22</td>\n",
       "    </tr>\n",
       "    <tr>\n",
       "      <th>72</th>\n",
       "      <td>2022</td>\n",
       "      <td>1092</td>\n",
       "      <td>22</td>\n",
       "    </tr>\n",
       "    <tr>\n",
       "      <th>72</th>\n",
       "      <td>2022</td>\n",
       "      <td>1093</td>\n",
       "      <td>22</td>\n",
       "    </tr>\n",
       "    <tr>\n",
       "      <th>72</th>\n",
       "      <td>2022</td>\n",
       "      <td>1094</td>\n",
       "      <td>22</td>\n",
       "    </tr>\n",
       "    <tr>\n",
       "      <th>72</th>\n",
       "      <td>2022</td>\n",
       "      <td>1095</td>\n",
       "      <td>22</td>\n",
       "    </tr>\n",
       "    <tr>\n",
       "      <th>72</th>\n",
       "      <td>2022</td>\n",
       "      <td>1096</td>\n",
       "      <td>22</td>\n",
       "    </tr>\n",
       "  </tbody>\n",
       "</table>\n",
       "</div>"
      ],
      "text/plain": [
       "    year race_list  num_races\n",
       "72  2022      1074         22\n",
       "72  2022      1075         22\n",
       "72  2022      1076         22\n",
       "72  2022      1077         22\n",
       "72  2022      1078         22\n",
       "72  2022      1079         22\n",
       "72  2022      1080         22\n",
       "72  2022      1081         22\n",
       "72  2022      1082         22\n",
       "72  2022      1083         22\n",
       "72  2022      1084         22\n",
       "72  2022      1085         22\n",
       "72  2022      1086         22\n",
       "72  2022      1087         22\n",
       "72  2022      1088         22\n",
       "72  2022      1089         22\n",
       "72  2022      1091         22\n",
       "72  2022      1092         22\n",
       "72  2022      1093         22\n",
       "72  2022      1094         22\n",
       "72  2022      1095         22\n",
       "72  2022      1096         22"
      ]
     },
     "execution_count": 6,
     "metadata": {},
     "output_type": "execute_result"
    }
   ],
   "source": [
    "unnested_races[unnested_races['year'] == 2022]"
   ]
  },
  {
   "cell_type": "code",
   "execution_count": 7,
   "id": "511848bb",
   "metadata": {},
   "outputs": [
    {
     "data": {
      "text/html": [
       "<div>\n",
       "<style scoped>\n",
       "    .dataframe tbody tr th:only-of-type {\n",
       "        vertical-align: middle;\n",
       "    }\n",
       "\n",
       "    .dataframe tbody tr th {\n",
       "        vertical-align: top;\n",
       "    }\n",
       "\n",
       "    .dataframe thead th {\n",
       "        text-align: right;\n",
       "    }\n",
       "</style>\n",
       "<table border=\"1\" class=\"dataframe\">\n",
       "  <thead>\n",
       "    <tr style=\"text-align: right;\">\n",
       "      <th></th>\n",
       "      <th>year</th>\n",
       "      <th>race_list</th>\n",
       "      <th>num_races</th>\n",
       "    </tr>\n",
       "  </thead>\n",
       "  <tbody>\n",
       "    <tr>\n",
       "      <th>0</th>\n",
       "      <td>1950</td>\n",
       "      <td>833</td>\n",
       "      <td>7</td>\n",
       "    </tr>\n",
       "    <tr>\n",
       "      <th>0</th>\n",
       "      <td>1950</td>\n",
       "      <td>834</td>\n",
       "      <td>7</td>\n",
       "    </tr>\n",
       "    <tr>\n",
       "      <th>0</th>\n",
       "      <td>1950</td>\n",
       "      <td>835</td>\n",
       "      <td>7</td>\n",
       "    </tr>\n",
       "    <tr>\n",
       "      <th>0</th>\n",
       "      <td>1950</td>\n",
       "      <td>836</td>\n",
       "      <td>7</td>\n",
       "    </tr>\n",
       "    <tr>\n",
       "      <th>0</th>\n",
       "      <td>1950</td>\n",
       "      <td>837</td>\n",
       "      <td>7</td>\n",
       "    </tr>\n",
       "    <tr>\n",
       "      <th>...</th>\n",
       "      <td>...</td>\n",
       "      <td>...</td>\n",
       "      <td>...</td>\n",
       "    </tr>\n",
       "    <tr>\n",
       "      <th>73</th>\n",
       "      <td>2023</td>\n",
       "      <td>1116</td>\n",
       "      <td>23</td>\n",
       "    </tr>\n",
       "    <tr>\n",
       "      <th>73</th>\n",
       "      <td>2023</td>\n",
       "      <td>1117</td>\n",
       "      <td>23</td>\n",
       "    </tr>\n",
       "    <tr>\n",
       "      <th>73</th>\n",
       "      <td>2023</td>\n",
       "      <td>1118</td>\n",
       "      <td>23</td>\n",
       "    </tr>\n",
       "    <tr>\n",
       "      <th>73</th>\n",
       "      <td>2023</td>\n",
       "      <td>1119</td>\n",
       "      <td>23</td>\n",
       "    </tr>\n",
       "    <tr>\n",
       "      <th>73</th>\n",
       "      <td>2023</td>\n",
       "      <td>1120</td>\n",
       "      <td>23</td>\n",
       "    </tr>\n",
       "  </tbody>\n",
       "</table>\n",
       "<p>1102 rows × 3 columns</p>\n",
       "</div>"
      ],
      "text/plain": [
       "    year race_list  num_races\n",
       "0   1950       833          7\n",
       "0   1950       834          7\n",
       "0   1950       835          7\n",
       "0   1950       836          7\n",
       "0   1950       837          7\n",
       "..   ...       ...        ...\n",
       "73  2023      1116         23\n",
       "73  2023      1117         23\n",
       "73  2023      1118         23\n",
       "73  2023      1119         23\n",
       "73  2023      1120         23\n",
       "\n",
       "[1102 rows x 3 columns]"
      ]
     },
     "execution_count": 7,
     "metadata": {},
     "output_type": "execute_result"
    }
   ],
   "source": [
    "unnested_races"
   ]
  },
  {
   "cell_type": "code",
   "execution_count": 8,
   "id": "ea3011dc",
   "metadata": {},
   "outputs": [
    {
     "data": {
      "text/plain": [
       "1102"
      ]
     },
     "execution_count": 8,
     "metadata": {},
     "output_type": "execute_result"
    }
   ],
   "source": [
    "len(race_year_dict)"
   ]
  },
  {
   "cell_type": "markdown",
   "id": "1e892c3a",
   "metadata": {},
   "source": [
    "## Adding Year to Constructor Results"
   ]
  },
  {
   "cell_type": "code",
   "execution_count": 9,
   "id": "ae476678",
   "metadata": {
    "scrolled": true
   },
   "outputs": [],
   "source": [
    "#First, narrow down to results after 2000\n",
    "results_df = pd.read_csv('data/Formula1/constructor_results.csv')\n",
    "with_years = results_df.copy()"
   ]
  },
  {
   "cell_type": "code",
   "execution_count": 10,
   "id": "d3b93999",
   "metadata": {
    "scrolled": true
   },
   "outputs": [
    {
     "data": {
      "text/html": [
       "<div>\n",
       "<style scoped>\n",
       "    .dataframe tbody tr th:only-of-type {\n",
       "        vertical-align: middle;\n",
       "    }\n",
       "\n",
       "    .dataframe tbody tr th {\n",
       "        vertical-align: top;\n",
       "    }\n",
       "\n",
       "    .dataframe thead th {\n",
       "        text-align: right;\n",
       "    }\n",
       "</style>\n",
       "<table border=\"1\" class=\"dataframe\">\n",
       "  <thead>\n",
       "    <tr style=\"text-align: right;\">\n",
       "      <th></th>\n",
       "      <th></th>\n",
       "      <th>constructorResultsId</th>\n",
       "      <th>raceId</th>\n",
       "      <th>points</th>\n",
       "      <th>status</th>\n",
       "    </tr>\n",
       "    <tr>\n",
       "      <th>year</th>\n",
       "      <th>constructorId</th>\n",
       "      <th></th>\n",
       "      <th></th>\n",
       "      <th></th>\n",
       "      <th></th>\n",
       "    </tr>\n",
       "  </thead>\n",
       "  <tbody>\n",
       "    <tr>\n",
       "      <th rowspan=\"3\" valign=\"top\">1956</th>\n",
       "      <th>6</th>\n",
       "      <td>2</td>\n",
       "      <td>2</td>\n",
       "      <td>2</td>\n",
       "      <td>2</td>\n",
       "    </tr>\n",
       "    <tr>\n",
       "      <th>105</th>\n",
       "      <td>2</td>\n",
       "      <td>2</td>\n",
       "      <td>2</td>\n",
       "      <td>2</td>\n",
       "    </tr>\n",
       "    <tr>\n",
       "      <th>128</th>\n",
       "      <td>1</td>\n",
       "      <td>1</td>\n",
       "      <td>1</td>\n",
       "      <td>1</td>\n",
       "    </tr>\n",
       "    <tr>\n",
       "      <th rowspan=\"2\" valign=\"top\">1958</th>\n",
       "      <th>6</th>\n",
       "      <td>10</td>\n",
       "      <td>10</td>\n",
       "      <td>10</td>\n",
       "      <td>10</td>\n",
       "    </tr>\n",
       "    <tr>\n",
       "      <th>32</th>\n",
       "      <td>9</td>\n",
       "      <td>9</td>\n",
       "      <td>9</td>\n",
       "      <td>9</td>\n",
       "    </tr>\n",
       "    <tr>\n",
       "      <th>...</th>\n",
       "      <th>...</th>\n",
       "      <td>...</td>\n",
       "      <td>...</td>\n",
       "      <td>...</td>\n",
       "      <td>...</td>\n",
       "    </tr>\n",
       "    <tr>\n",
       "      <th rowspan=\"5\" valign=\"top\">2022</th>\n",
       "      <th>117</th>\n",
       "      <td>22</td>\n",
       "      <td>22</td>\n",
       "      <td>22</td>\n",
       "      <td>22</td>\n",
       "    </tr>\n",
       "    <tr>\n",
       "      <th>131</th>\n",
       "      <td>22</td>\n",
       "      <td>22</td>\n",
       "      <td>22</td>\n",
       "      <td>22</td>\n",
       "    </tr>\n",
       "    <tr>\n",
       "      <th>210</th>\n",
       "      <td>22</td>\n",
       "      <td>22</td>\n",
       "      <td>22</td>\n",
       "      <td>22</td>\n",
       "    </tr>\n",
       "    <tr>\n",
       "      <th>213</th>\n",
       "      <td>22</td>\n",
       "      <td>22</td>\n",
       "      <td>22</td>\n",
       "      <td>22</td>\n",
       "    </tr>\n",
       "    <tr>\n",
       "      <th>214</th>\n",
       "      <td>22</td>\n",
       "      <td>22</td>\n",
       "      <td>22</td>\n",
       "      <td>22</td>\n",
       "    </tr>\n",
       "  </tbody>\n",
       "</table>\n",
       "<p>929 rows × 4 columns</p>\n",
       "</div>"
      ],
      "text/plain": [
       "                    constructorResultsId  raceId  points  status\n",
       "year constructorId                                              \n",
       "1956 6                                 2       2       2       2\n",
       "     105                               2       2       2       2\n",
       "     128                               1       1       1       1\n",
       "1958 6                                10      10      10      10\n",
       "     32                                9       9       9       9\n",
       "...                                  ...     ...     ...     ...\n",
       "2022 117                              22      22      22      22\n",
       "     131                              22      22      22      22\n",
       "     210                              22      22      22      22\n",
       "     213                              22      22      22      22\n",
       "     214                              22      22      22      22\n",
       "\n",
       "[929 rows x 4 columns]"
      ]
     },
     "execution_count": 10,
     "metadata": {},
     "output_type": "execute_result"
    }
   ],
   "source": [
    "with_years['year'] = with_years['raceId'].map(race_year_dict)\n",
    "with_years.groupby(['year','constructorId']).count()"
   ]
  },
  {
   "cell_type": "markdown",
   "id": "2e47b857",
   "metadata": {},
   "source": [
    "## 2000s+ Only"
   ]
  },
  {
   "cell_type": "code",
   "execution_count": 11,
   "id": "9ca0a0ba",
   "metadata": {},
   "outputs": [
    {
     "data": {
      "text/html": [
       "<div>\n",
       "<style scoped>\n",
       "    .dataframe tbody tr th:only-of-type {\n",
       "        vertical-align: middle;\n",
       "    }\n",
       "\n",
       "    .dataframe tbody tr th {\n",
       "        vertical-align: top;\n",
       "    }\n",
       "\n",
       "    .dataframe thead th {\n",
       "        text-align: right;\n",
       "    }\n",
       "</style>\n",
       "<table border=\"1\" class=\"dataframe\">\n",
       "  <thead>\n",
       "    <tr style=\"text-align: right;\">\n",
       "      <th></th>\n",
       "      <th>index</th>\n",
       "      <th>constructorResultsId</th>\n",
       "      <th>raceId</th>\n",
       "      <th>constructorId</th>\n",
       "      <th>points</th>\n",
       "      <th>status</th>\n",
       "      <th>year</th>\n",
       "    </tr>\n",
       "  </thead>\n",
       "  <tbody>\n",
       "    <tr>\n",
       "      <th>4585</th>\n",
       "      <td>12169</td>\n",
       "      <td>16669</td>\n",
       "      <td>1096</td>\n",
       "      <td>210</td>\n",
       "      <td>0.0</td>\n",
       "      <td>\\N</td>\n",
       "      <td>2022</td>\n",
       "    </tr>\n",
       "    <tr>\n",
       "      <th>1474</th>\n",
       "      <td>1474</td>\n",
       "      <td>1475</td>\n",
       "      <td>158</td>\n",
       "      <td>1</td>\n",
       "      <td>0.0</td>\n",
       "      <td>\\N</td>\n",
       "      <td>2000</td>\n",
       "    </tr>\n",
       "    <tr>\n",
       "      <th>1473</th>\n",
       "      <td>1473</td>\n",
       "      <td>1474</td>\n",
       "      <td>158</td>\n",
       "      <td>17</td>\n",
       "      <td>0.0</td>\n",
       "      <td>\\N</td>\n",
       "      <td>2000</td>\n",
       "    </tr>\n",
       "    <tr>\n",
       "      <th>1472</th>\n",
       "      <td>1472</td>\n",
       "      <td>1473</td>\n",
       "      <td>158</td>\n",
       "      <td>15</td>\n",
       "      <td>0.0</td>\n",
       "      <td>\\N</td>\n",
       "      <td>2000</td>\n",
       "    </tr>\n",
       "    <tr>\n",
       "      <th>1471</th>\n",
       "      <td>1471</td>\n",
       "      <td>1472</td>\n",
       "      <td>158</td>\n",
       "      <td>20</td>\n",
       "      <td>0.0</td>\n",
       "      <td>\\N</td>\n",
       "      <td>2000</td>\n",
       "    </tr>\n",
       "    <tr>\n",
       "      <th>...</th>\n",
       "      <td>...</td>\n",
       "      <td>...</td>\n",
       "      <td>...</td>\n",
       "      <td>...</td>\n",
       "      <td>...</td>\n",
       "      <td>...</td>\n",
       "      <td>...</td>\n",
       "    </tr>\n",
       "    <tr>\n",
       "      <th>4276</th>\n",
       "      <td>11860</td>\n",
       "      <td>16360</td>\n",
       "      <td>1065</td>\n",
       "      <td>1</td>\n",
       "      <td>45.0</td>\n",
       "      <td>\\N</td>\n",
       "      <td>2021</td>\n",
       "    </tr>\n",
       "    <tr>\n",
       "      <th>2922</th>\n",
       "      <td>10506</td>\n",
       "      <td>15005</td>\n",
       "      <td>918</td>\n",
       "      <td>131</td>\n",
       "      <td>50.0</td>\n",
       "      <td>\\N</td>\n",
       "      <td>2014</td>\n",
       "    </tr>\n",
       "    <tr>\n",
       "      <th>4396</th>\n",
       "      <td>11980</td>\n",
       "      <td>16480</td>\n",
       "      <td>1077</td>\n",
       "      <td>9</td>\n",
       "      <td>58.0</td>\n",
       "      <td>\\N</td>\n",
       "      <td>2022</td>\n",
       "    </tr>\n",
       "    <tr>\n",
       "      <th>4566</th>\n",
       "      <td>12150</td>\n",
       "      <td>16650</td>\n",
       "      <td>1095</td>\n",
       "      <td>131</td>\n",
       "      <td>58.0</td>\n",
       "      <td>\\N</td>\n",
       "      <td>2022</td>\n",
       "    </tr>\n",
       "    <tr>\n",
       "      <th>2923</th>\n",
       "      <td>10507</td>\n",
       "      <td>15006</td>\n",
       "      <td>918</td>\n",
       "      <td>3</td>\n",
       "      <td>66.0</td>\n",
       "      <td>\\N</td>\n",
       "      <td>2014</td>\n",
       "    </tr>\n",
       "  </tbody>\n",
       "</table>\n",
       "<p>4586 rows × 7 columns</p>\n",
       "</div>"
      ],
      "text/plain": [
       "      index  constructorResultsId  raceId  constructorId  points status  year\n",
       "4585  12169                 16669    1096            210     0.0     \\N  2022\n",
       "1474   1474                  1475     158              1     0.0     \\N  2000\n",
       "1473   1473                  1474     158             17     0.0     \\N  2000\n",
       "1472   1472                  1473     158             15     0.0     \\N  2000\n",
       "1471   1471                  1472     158             20     0.0     \\N  2000\n",
       "...     ...                   ...     ...            ...     ...    ...   ...\n",
       "4276  11860                 16360    1065              1    45.0     \\N  2021\n",
       "2922  10506                 15005     918            131    50.0     \\N  2014\n",
       "4396  11980                 16480    1077              9    58.0     \\N  2022\n",
       "4566  12150                 16650    1095            131    58.0     \\N  2022\n",
       "2923  10507                 15006     918              3    66.0     \\N  2014\n",
       "\n",
       "[4586 rows x 7 columns]"
      ]
     },
     "execution_count": 11,
     "metadata": {},
     "output_type": "execute_result"
    }
   ],
   "source": [
    "twentyfirst = with_years[with_years['year'].between(2000,2022)].copy().reset_index()\n",
    "\n",
    "twentyfirst.sort_values('points')"
   ]
  },
  {
   "cell_type": "markdown",
   "id": "9d441c45",
   "metadata": {},
   "source": [
    "## Extract Constructor Names"
   ]
  },
  {
   "cell_type": "code",
   "execution_count": 12,
   "id": "1e171d76",
   "metadata": {},
   "outputs": [
    {
     "data": {
      "text/html": [
       "<div>\n",
       "<style scoped>\n",
       "    .dataframe tbody tr th:only-of-type {\n",
       "        vertical-align: middle;\n",
       "    }\n",
       "\n",
       "    .dataframe tbody tr th {\n",
       "        vertical-align: top;\n",
       "    }\n",
       "\n",
       "    .dataframe thead th {\n",
       "        text-align: right;\n",
       "    }\n",
       "</style>\n",
       "<table border=\"1\" class=\"dataframe\">\n",
       "  <thead>\n",
       "    <tr style=\"text-align: right;\">\n",
       "      <th></th>\n",
       "      <th>constructorId</th>\n",
       "      <th>constructorRef</th>\n",
       "      <th>name</th>\n",
       "      <th>nationality</th>\n",
       "      <th>url</th>\n",
       "    </tr>\n",
       "  </thead>\n",
       "  <tbody>\n",
       "    <tr>\n",
       "      <th>0</th>\n",
       "      <td>1</td>\n",
       "      <td>mclaren</td>\n",
       "      <td>McLaren</td>\n",
       "      <td>British</td>\n",
       "      <td>http://en.wikipedia.org/wiki/McLaren</td>\n",
       "    </tr>\n",
       "    <tr>\n",
       "      <th>1</th>\n",
       "      <td>2</td>\n",
       "      <td>bmw_sauber</td>\n",
       "      <td>BMW Sauber</td>\n",
       "      <td>German</td>\n",
       "      <td>http://en.wikipedia.org/wiki/BMW_Sauber</td>\n",
       "    </tr>\n",
       "    <tr>\n",
       "      <th>2</th>\n",
       "      <td>3</td>\n",
       "      <td>williams</td>\n",
       "      <td>Williams</td>\n",
       "      <td>British</td>\n",
       "      <td>http://en.wikipedia.org/wiki/Williams_Grand_Pr...</td>\n",
       "    </tr>\n",
       "    <tr>\n",
       "      <th>3</th>\n",
       "      <td>4</td>\n",
       "      <td>renault</td>\n",
       "      <td>Renault</td>\n",
       "      <td>French</td>\n",
       "      <td>http://en.wikipedia.org/wiki/Renault_in_Formul...</td>\n",
       "    </tr>\n",
       "    <tr>\n",
       "      <th>4</th>\n",
       "      <td>5</td>\n",
       "      <td>toro_rosso</td>\n",
       "      <td>Toro Rosso</td>\n",
       "      <td>Italian</td>\n",
       "      <td>http://en.wikipedia.org/wiki/Scuderia_Toro_Rosso</td>\n",
       "    </tr>\n",
       "    <tr>\n",
       "      <th>...</th>\n",
       "      <td>...</td>\n",
       "      <td>...</td>\n",
       "      <td>...</td>\n",
       "      <td>...</td>\n",
       "      <td>...</td>\n",
       "    </tr>\n",
       "    <tr>\n",
       "      <th>206</th>\n",
       "      <td>209</td>\n",
       "      <td>manor</td>\n",
       "      <td>Manor Marussia</td>\n",
       "      <td>British</td>\n",
       "      <td>http://en.wikipedia.org/wiki/Manor_Motorsport</td>\n",
       "    </tr>\n",
       "    <tr>\n",
       "      <th>207</th>\n",
       "      <td>210</td>\n",
       "      <td>haas</td>\n",
       "      <td>Haas F1 Team</td>\n",
       "      <td>American</td>\n",
       "      <td>http://en.wikipedia.org/wiki/Haas_F1_Team</td>\n",
       "    </tr>\n",
       "    <tr>\n",
       "      <th>208</th>\n",
       "      <td>211</td>\n",
       "      <td>racing_point</td>\n",
       "      <td>Racing Point</td>\n",
       "      <td>British</td>\n",
       "      <td>http://en.wikipedia.org/wiki/Racing_Point_F1_Team</td>\n",
       "    </tr>\n",
       "    <tr>\n",
       "      <th>209</th>\n",
       "      <td>213</td>\n",
       "      <td>alphatauri</td>\n",
       "      <td>AlphaTauri</td>\n",
       "      <td>Italian</td>\n",
       "      <td>http://en.wikipedia.org/wiki/Scuderia_AlphaTauri</td>\n",
       "    </tr>\n",
       "    <tr>\n",
       "      <th>210</th>\n",
       "      <td>214</td>\n",
       "      <td>alpine</td>\n",
       "      <td>Alpine F1 Team</td>\n",
       "      <td>French</td>\n",
       "      <td>http://en.wikipedia.org/wiki/Alpine_F1_Team</td>\n",
       "    </tr>\n",
       "  </tbody>\n",
       "</table>\n",
       "<p>211 rows × 5 columns</p>\n",
       "</div>"
      ],
      "text/plain": [
       "     constructorId constructorRef            name nationality   \n",
       "0                1        mclaren         McLaren     British  \\\n",
       "1                2     bmw_sauber      BMW Sauber      German   \n",
       "2                3       williams        Williams     British   \n",
       "3                4        renault         Renault      French   \n",
       "4                5     toro_rosso      Toro Rosso     Italian   \n",
       "..             ...            ...             ...         ...   \n",
       "206            209          manor  Manor Marussia     British   \n",
       "207            210           haas    Haas F1 Team    American   \n",
       "208            211   racing_point    Racing Point     British   \n",
       "209            213     alphatauri      AlphaTauri     Italian   \n",
       "210            214         alpine  Alpine F1 Team      French   \n",
       "\n",
       "                                                   url  \n",
       "0                 http://en.wikipedia.org/wiki/McLaren  \n",
       "1              http://en.wikipedia.org/wiki/BMW_Sauber  \n",
       "2    http://en.wikipedia.org/wiki/Williams_Grand_Pr...  \n",
       "3    http://en.wikipedia.org/wiki/Renault_in_Formul...  \n",
       "4     http://en.wikipedia.org/wiki/Scuderia_Toro_Rosso  \n",
       "..                                                 ...  \n",
       "206      http://en.wikipedia.org/wiki/Manor_Motorsport  \n",
       "207          http://en.wikipedia.org/wiki/Haas_F1_Team  \n",
       "208  http://en.wikipedia.org/wiki/Racing_Point_F1_Team  \n",
       "209   http://en.wikipedia.org/wiki/Scuderia_AlphaTauri  \n",
       "210        http://en.wikipedia.org/wiki/Alpine_F1_Team  \n",
       "\n",
       "[211 rows x 5 columns]"
      ]
     },
     "execution_count": 12,
     "metadata": {},
     "output_type": "execute_result"
    }
   ],
   "source": [
    "constructors = pd.read_csv('data/Formula1/constructors.csv')\n",
    "constructors"
   ]
  },
  {
   "cell_type": "code",
   "execution_count": 13,
   "id": "36da2c6e",
   "metadata": {},
   "outputs": [],
   "source": [
    "constructor_names = dict(zip(constructors.constructorId, constructors.name))"
   ]
  },
  {
   "cell_type": "markdown",
   "id": "30d8b9bc",
   "metadata": {},
   "source": [
    "## Constructor Points Per Year"
   ]
  },
  {
   "cell_type": "code",
   "execution_count": 14,
   "id": "945a6021",
   "metadata": {},
   "outputs": [
    {
     "data": {
      "text/html": [
       "<div>\n",
       "<style scoped>\n",
       "    .dataframe tbody tr th:only-of-type {\n",
       "        vertical-align: middle;\n",
       "    }\n",
       "\n",
       "    .dataframe tbody tr th {\n",
       "        vertical-align: top;\n",
       "    }\n",
       "\n",
       "    .dataframe thead th {\n",
       "        text-align: right;\n",
       "    }\n",
       "</style>\n",
       "<table border=\"1\" class=\"dataframe\">\n",
       "  <thead>\n",
       "    <tr style=\"text-align: right;\">\n",
       "      <th></th>\n",
       "      <th>index</th>\n",
       "      <th>constructorResultsId</th>\n",
       "      <th>raceId</th>\n",
       "      <th>constructorId</th>\n",
       "      <th>points</th>\n",
       "      <th>status</th>\n",
       "      <th>year</th>\n",
       "      <th>constructorName</th>\n",
       "    </tr>\n",
       "  </thead>\n",
       "  <tbody>\n",
       "    <tr>\n",
       "      <th>0</th>\n",
       "      <td>0</td>\n",
       "      <td>1</td>\n",
       "      <td>18</td>\n",
       "      <td>1</td>\n",
       "      <td>14.0</td>\n",
       "      <td>\\N</td>\n",
       "      <td>2008</td>\n",
       "      <td>McLaren</td>\n",
       "    </tr>\n",
       "    <tr>\n",
       "      <th>1</th>\n",
       "      <td>1</td>\n",
       "      <td>2</td>\n",
       "      <td>18</td>\n",
       "      <td>2</td>\n",
       "      <td>8.0</td>\n",
       "      <td>\\N</td>\n",
       "      <td>2008</td>\n",
       "      <td>BMW Sauber</td>\n",
       "    </tr>\n",
       "    <tr>\n",
       "      <th>2</th>\n",
       "      <td>2</td>\n",
       "      <td>3</td>\n",
       "      <td>18</td>\n",
       "      <td>3</td>\n",
       "      <td>9.0</td>\n",
       "      <td>\\N</td>\n",
       "      <td>2008</td>\n",
       "      <td>Williams</td>\n",
       "    </tr>\n",
       "    <tr>\n",
       "      <th>3</th>\n",
       "      <td>3</td>\n",
       "      <td>4</td>\n",
       "      <td>18</td>\n",
       "      <td>4</td>\n",
       "      <td>5.0</td>\n",
       "      <td>\\N</td>\n",
       "      <td>2008</td>\n",
       "      <td>Renault</td>\n",
       "    </tr>\n",
       "    <tr>\n",
       "      <th>4</th>\n",
       "      <td>4</td>\n",
       "      <td>5</td>\n",
       "      <td>18</td>\n",
       "      <td>5</td>\n",
       "      <td>2.0</td>\n",
       "      <td>\\N</td>\n",
       "      <td>2008</td>\n",
       "      <td>Toro Rosso</td>\n",
       "    </tr>\n",
       "    <tr>\n",
       "      <th>...</th>\n",
       "      <td>...</td>\n",
       "      <td>...</td>\n",
       "      <td>...</td>\n",
       "      <td>...</td>\n",
       "      <td>...</td>\n",
       "      <td>...</td>\n",
       "      <td>...</td>\n",
       "      <td>...</td>\n",
       "    </tr>\n",
       "    <tr>\n",
       "      <th>4581</th>\n",
       "      <td>12165</td>\n",
       "      <td>16665</td>\n",
       "      <td>1096</td>\n",
       "      <td>117</td>\n",
       "      <td>5.0</td>\n",
       "      <td>\\N</td>\n",
       "      <td>2022</td>\n",
       "      <td>Aston Martin</td>\n",
       "    </tr>\n",
       "    <tr>\n",
       "      <th>4582</th>\n",
       "      <td>12166</td>\n",
       "      <td>16666</td>\n",
       "      <td>1096</td>\n",
       "      <td>213</td>\n",
       "      <td>0.0</td>\n",
       "      <td>\\N</td>\n",
       "      <td>2022</td>\n",
       "      <td>AlphaTauri</td>\n",
       "    </tr>\n",
       "    <tr>\n",
       "      <th>4583</th>\n",
       "      <td>12167</td>\n",
       "      <td>16667</td>\n",
       "      <td>1096</td>\n",
       "      <td>51</td>\n",
       "      <td>0.0</td>\n",
       "      <td>\\N</td>\n",
       "      <td>2022</td>\n",
       "      <td>Alfa Romeo</td>\n",
       "    </tr>\n",
       "    <tr>\n",
       "      <th>4584</th>\n",
       "      <td>12168</td>\n",
       "      <td>16668</td>\n",
       "      <td>1096</td>\n",
       "      <td>3</td>\n",
       "      <td>0.0</td>\n",
       "      <td>\\N</td>\n",
       "      <td>2022</td>\n",
       "      <td>Williams</td>\n",
       "    </tr>\n",
       "    <tr>\n",
       "      <th>4585</th>\n",
       "      <td>12169</td>\n",
       "      <td>16669</td>\n",
       "      <td>1096</td>\n",
       "      <td>210</td>\n",
       "      <td>0.0</td>\n",
       "      <td>\\N</td>\n",
       "      <td>2022</td>\n",
       "      <td>Haas F1 Team</td>\n",
       "    </tr>\n",
       "  </tbody>\n",
       "</table>\n",
       "<p>4586 rows × 8 columns</p>\n",
       "</div>"
      ],
      "text/plain": [
       "      index  constructorResultsId  raceId  constructorId  points status  year   \n",
       "0         0                     1      18              1    14.0     \\N  2008  \\\n",
       "1         1                     2      18              2     8.0     \\N  2008   \n",
       "2         2                     3      18              3     9.0     \\N  2008   \n",
       "3         3                     4      18              4     5.0     \\N  2008   \n",
       "4         4                     5      18              5     2.0     \\N  2008   \n",
       "...     ...                   ...     ...            ...     ...    ...   ...   \n",
       "4581  12165                 16665    1096            117     5.0     \\N  2022   \n",
       "4582  12166                 16666    1096            213     0.0     \\N  2022   \n",
       "4583  12167                 16667    1096             51     0.0     \\N  2022   \n",
       "4584  12168                 16668    1096              3     0.0     \\N  2022   \n",
       "4585  12169                 16669    1096            210     0.0     \\N  2022   \n",
       "\n",
       "     constructorName  \n",
       "0            McLaren  \n",
       "1         BMW Sauber  \n",
       "2           Williams  \n",
       "3            Renault  \n",
       "4         Toro Rosso  \n",
       "...              ...  \n",
       "4581    Aston Martin  \n",
       "4582      AlphaTauri  \n",
       "4583      Alfa Romeo  \n",
       "4584        Williams  \n",
       "4585    Haas F1 Team  \n",
       "\n",
       "[4586 rows x 8 columns]"
      ]
     },
     "execution_count": 14,
     "metadata": {},
     "output_type": "execute_result"
    }
   ],
   "source": [
    "with_cnames = twentyfirst.copy()\n",
    "with_cnames['constructorName'] = with_cnames['constructorId'].map(constructor_names)\n",
    "with_cnames"
   ]
  },
  {
   "cell_type": "code",
   "execution_count": 15,
   "id": "dae6f345",
   "metadata": {},
   "outputs": [
    {
     "data": {
      "text/html": [
       "<div>\n",
       "<style scoped>\n",
       "    .dataframe tbody tr th:only-of-type {\n",
       "        vertical-align: middle;\n",
       "    }\n",
       "\n",
       "    .dataframe tbody tr th {\n",
       "        vertical-align: top;\n",
       "    }\n",
       "\n",
       "    .dataframe thead th {\n",
       "        text-align: right;\n",
       "    }\n",
       "</style>\n",
       "<table border=\"1\" class=\"dataframe\">\n",
       "  <thead>\n",
       "    <tr style=\"text-align: right;\">\n",
       "      <th></th>\n",
       "      <th>year</th>\n",
       "      <th>constructorId</th>\n",
       "      <th>index</th>\n",
       "      <th>constructorResultsId</th>\n",
       "      <th>raceId</th>\n",
       "      <th>points</th>\n",
       "    </tr>\n",
       "  </thead>\n",
       "  <tbody>\n",
       "    <tr>\n",
       "      <th>0</th>\n",
       "      <td>2000</td>\n",
       "      <td>1</td>\n",
       "      <td>26444</td>\n",
       "      <td>26461</td>\n",
       "      <td>2822</td>\n",
       "      <td>162.0</td>\n",
       "    </tr>\n",
       "    <tr>\n",
       "      <th>1</th>\n",
       "      <td>2000</td>\n",
       "      <td>3</td>\n",
       "      <td>26493</td>\n",
       "      <td>26510</td>\n",
       "      <td>2822</td>\n",
       "      <td>36.0</td>\n",
       "    </tr>\n",
       "    <tr>\n",
       "      <th>2</th>\n",
       "      <td>2000</td>\n",
       "      <td>6</td>\n",
       "      <td>26425</td>\n",
       "      <td>26442</td>\n",
       "      <td>2822</td>\n",
       "      <td>170.0</td>\n",
       "    </tr>\n",
       "    <tr>\n",
       "      <th>3</th>\n",
       "      <td>2000</td>\n",
       "      <td>15</td>\n",
       "      <td>26505</td>\n",
       "      <td>26522</td>\n",
       "      <td>2822</td>\n",
       "      <td>6.0</td>\n",
       "    </tr>\n",
       "    <tr>\n",
       "      <th>4</th>\n",
       "      <td>2000</td>\n",
       "      <td>16</td>\n",
       "      <td>26492</td>\n",
       "      <td>26509</td>\n",
       "      <td>2822</td>\n",
       "      <td>20.0</td>\n",
       "    </tr>\n",
       "    <tr>\n",
       "      <th>...</th>\n",
       "      <td>...</td>\n",
       "      <td>...</td>\n",
       "      <td>...</td>\n",
       "      <td>...</td>\n",
       "      <td>...</td>\n",
       "      <td>...</td>\n",
       "    </tr>\n",
       "    <tr>\n",
       "      <th>243</th>\n",
       "      <td>2022</td>\n",
       "      <td>117</td>\n",
       "      <td>265336</td>\n",
       "      <td>364336</td>\n",
       "      <td>23865</td>\n",
       "      <td>55.0</td>\n",
       "    </tr>\n",
       "    <tr>\n",
       "      <th>244</th>\n",
       "      <td>2022</td>\n",
       "      <td>131</td>\n",
       "      <td>265247</td>\n",
       "      <td>364247</td>\n",
       "      <td>23865</td>\n",
       "      <td>515.0</td>\n",
       "    </tr>\n",
       "    <tr>\n",
       "      <th>245</th>\n",
       "      <td>2022</td>\n",
       "      <td>210</td>\n",
       "      <td>265372</td>\n",
       "      <td>364372</td>\n",
       "      <td>23865</td>\n",
       "      <td>37.0</td>\n",
       "    </tr>\n",
       "    <tr>\n",
       "      <th>246</th>\n",
       "      <td>2022</td>\n",
       "      <td>213</td>\n",
       "      <td>265342</td>\n",
       "      <td>364342</td>\n",
       "      <td>23865</td>\n",
       "      <td>35.0</td>\n",
       "    </tr>\n",
       "    <tr>\n",
       "      <th>247</th>\n",
       "      <td>2022</td>\n",
       "      <td>214</td>\n",
       "      <td>265302</td>\n",
       "      <td>364302</td>\n",
       "      <td>23865</td>\n",
       "      <td>173.0</td>\n",
       "    </tr>\n",
       "  </tbody>\n",
       "</table>\n",
       "<p>248 rows × 6 columns</p>\n",
       "</div>"
      ],
      "text/plain": [
       "     year  constructorId   index  constructorResultsId  raceId  points\n",
       "0    2000              1   26444                 26461    2822   162.0\n",
       "1    2000              3   26493                 26510    2822    36.0\n",
       "2    2000              6   26425                 26442    2822   170.0\n",
       "3    2000             15   26505                 26522    2822     6.0\n",
       "4    2000             16   26492                 26509    2822    20.0\n",
       "..    ...            ...     ...                   ...     ...     ...\n",
       "243  2022            117  265336                364336   23865    55.0\n",
       "244  2022            131  265247                364247   23865   515.0\n",
       "245  2022            210  265372                364372   23865    37.0\n",
       "246  2022            213  265342                364342   23865    35.0\n",
       "247  2022            214  265302                364302   23865   173.0\n",
       "\n",
       "[248 rows x 6 columns]"
      ]
     },
     "execution_count": 15,
     "metadata": {},
     "output_type": "execute_result"
    }
   ],
   "source": [
    "constructor_pts = pd.DataFrame(with_cnames.groupby(['year','constructorId']).sum('points').reset_index())"
   ]
  },
  {
   "cell_type": "code",
   "execution_count": 16,
   "id": "421d158b",
   "metadata": {},
   "outputs": [],
   "source": [
    "constructor_pts_year = with_years[with_years['year'].between(2000,2022)].copy()\n",
    "\n",
    "constructor_pts_year = pd.DataFrame(constructor_pts_year.groupby(['year','constructorId']).sum('points').\n",
    "                                    reset_index())\n",
    "\n",
    "constructor_pts_year['constructorName'] = constructor_pts_year['constructorId'].map(constructor_names)\n",
    "\n",
    "constructor_pts_year = constructor_pts_year.sort_values(['year','points'])"
   ]
  },
  {
   "cell_type": "code",
   "execution_count": 43,
   "id": "ad6ad6b9",
   "metadata": {},
   "outputs": [
    {
     "data": {
      "text/html": [
       "<div>\n",
       "<style scoped>\n",
       "    .dataframe tbody tr th:only-of-type {\n",
       "        vertical-align: middle;\n",
       "    }\n",
       "\n",
       "    .dataframe tbody tr th {\n",
       "        vertical-align: top;\n",
       "    }\n",
       "\n",
       "    .dataframe thead th {\n",
       "        text-align: right;\n",
       "    }\n",
       "</style>\n",
       "<table border=\"1\" class=\"dataframe\">\n",
       "  <thead>\n",
       "    <tr style=\"text-align: right;\">\n",
       "      <th></th>\n",
       "      <th>year</th>\n",
       "      <th>constructorId</th>\n",
       "      <th>constructorResultsId</th>\n",
       "      <th>raceId</th>\n",
       "      <th>points</th>\n",
       "      <th>constructorName</th>\n",
       "      <th>rank</th>\n",
       "    </tr>\n",
       "  </thead>\n",
       "  <tbody>\n",
       "    <tr>\n",
       "      <th>6</th>\n",
       "      <td>2000</td>\n",
       "      <td>18</td>\n",
       "      <td>26563</td>\n",
       "      <td>2822</td>\n",
       "      <td>0.0</td>\n",
       "      <td>Minardi</td>\n",
       "      <td>9.0</td>\n",
       "    </tr>\n",
       "    <tr>\n",
       "      <th>8</th>\n",
       "      <td>2000</td>\n",
       "      <td>20</td>\n",
       "      <td>26571</td>\n",
       "      <td>2822</td>\n",
       "      <td>0.0</td>\n",
       "      <td>Prost</td>\n",
       "      <td>9.0</td>\n",
       "    </tr>\n",
       "    <tr>\n",
       "      <th>7</th>\n",
       "      <td>2000</td>\n",
       "      <td>19</td>\n",
       "      <td>26540</td>\n",
       "      <td>2822</td>\n",
       "      <td>4.0</td>\n",
       "      <td>Jaguar</td>\n",
       "      <td>8.0</td>\n",
       "    </tr>\n",
       "    <tr>\n",
       "      <th>3</th>\n",
       "      <td>2000</td>\n",
       "      <td>15</td>\n",
       "      <td>26522</td>\n",
       "      <td>2822</td>\n",
       "      <td>6.0</td>\n",
       "      <td>Sauber</td>\n",
       "      <td>7.0</td>\n",
       "    </tr>\n",
       "    <tr>\n",
       "      <th>9</th>\n",
       "      <td>2000</td>\n",
       "      <td>21</td>\n",
       "      <td>26554</td>\n",
       "      <td>2822</td>\n",
       "      <td>7.0</td>\n",
       "      <td>Arrows</td>\n",
       "      <td>6.0</td>\n",
       "    </tr>\n",
       "    <tr>\n",
       "      <th>...</th>\n",
       "      <td>...</td>\n",
       "      <td>...</td>\n",
       "      <td>...</td>\n",
       "      <td>...</td>\n",
       "      <td>...</td>\n",
       "      <td>...</td>\n",
       "      <td>...</td>\n",
       "    </tr>\n",
       "    <tr>\n",
       "      <th>238</th>\n",
       "      <td>2022</td>\n",
       "      <td>1</td>\n",
       "      <td>364309</td>\n",
       "      <td>23865</td>\n",
       "      <td>159.0</td>\n",
       "      <td>McLaren</td>\n",
       "      <td>5.0</td>\n",
       "    </tr>\n",
       "    <tr>\n",
       "      <th>247</th>\n",
       "      <td>2022</td>\n",
       "      <td>214</td>\n",
       "      <td>364302</td>\n",
       "      <td>23865</td>\n",
       "      <td>173.0</td>\n",
       "      <td>Alpine F1 Team</td>\n",
       "      <td>4.0</td>\n",
       "    </tr>\n",
       "    <tr>\n",
       "      <th>244</th>\n",
       "      <td>2022</td>\n",
       "      <td>131</td>\n",
       "      <td>364247</td>\n",
       "      <td>23865</td>\n",
       "      <td>515.0</td>\n",
       "      <td>Mercedes</td>\n",
       "      <td>3.0</td>\n",
       "    </tr>\n",
       "    <tr>\n",
       "      <th>240</th>\n",
       "      <td>2022</td>\n",
       "      <td>6</td>\n",
       "      <td>364245</td>\n",
       "      <td>23865</td>\n",
       "      <td>554.0</td>\n",
       "      <td>Ferrari</td>\n",
       "      <td>2.0</td>\n",
       "    </tr>\n",
       "    <tr>\n",
       "      <th>241</th>\n",
       "      <td>2022</td>\n",
       "      <td>9</td>\n",
       "      <td>364225</td>\n",
       "      <td>23865</td>\n",
       "      <td>759.0</td>\n",
       "      <td>Red Bull</td>\n",
       "      <td>1.0</td>\n",
       "    </tr>\n",
       "  </tbody>\n",
       "</table>\n",
       "<p>248 rows × 7 columns</p>\n",
       "</div>"
      ],
      "text/plain": [
       "     year  constructorId  constructorResultsId  raceId  points   \n",
       "6    2000             18                 26563    2822     0.0  \\\n",
       "8    2000             20                 26571    2822     0.0   \n",
       "7    2000             19                 26540    2822     4.0   \n",
       "3    2000             15                 26522    2822     6.0   \n",
       "9    2000             21                 26554    2822     7.0   \n",
       "..    ...            ...                   ...     ...     ...   \n",
       "238  2022              1                364309   23865   159.0   \n",
       "247  2022            214                364302   23865   173.0   \n",
       "244  2022            131                364247   23865   515.0   \n",
       "240  2022              6                364245   23865   554.0   \n",
       "241  2022              9                364225   23865   759.0   \n",
       "\n",
       "    constructorName  rank  \n",
       "6           Minardi   9.0  \n",
       "8             Prost   9.0  \n",
       "7            Jaguar   8.0  \n",
       "3            Sauber   7.0  \n",
       "9            Arrows   6.0  \n",
       "..              ...   ...  \n",
       "238         McLaren   5.0  \n",
       "247  Alpine F1 Team   4.0  \n",
       "244        Mercedes   3.0  \n",
       "240         Ferrari   2.0  \n",
       "241        Red Bull   1.0  \n",
       "\n",
       "[248 rows x 7 columns]"
      ]
     },
     "execution_count": 43,
     "metadata": {},
     "output_type": "execute_result"
    }
   ],
   "source": [
    "constructor_pts_year['year'] = constructor_pts_year['year'].astype('category')\n",
    "constructor_pts_year[\"rank\"] = constructor_pts_year.groupby(['year'])[\"points\"].rank(method=\"dense\", ascending=False)\n",
    "constructor_pts_year\n",
    "#constructor_pts_year.to_csv('const_pts_by_year.csv'"
   ]
  },
  {
   "cell_type": "code",
   "execution_count": 36,
   "id": "345c52a9",
   "metadata": {},
   "outputs": [],
   "source": []
  },
  {
   "cell_type": "code",
   "execution_count": 37,
   "id": "53840b39",
   "metadata": {},
   "outputs": [
    {
     "data": {
      "text/html": [
       "<div>\n",
       "<style scoped>\n",
       "    .dataframe tbody tr th:only-of-type {\n",
       "        vertical-align: middle;\n",
       "    }\n",
       "\n",
       "    .dataframe tbody tr th {\n",
       "        vertical-align: top;\n",
       "    }\n",
       "\n",
       "    .dataframe thead th {\n",
       "        text-align: right;\n",
       "    }\n",
       "</style>\n",
       "<table border=\"1\" class=\"dataframe\">\n",
       "  <thead>\n",
       "    <tr style=\"text-align: right;\">\n",
       "      <th></th>\n",
       "      <th>year</th>\n",
       "      <th>constructorId</th>\n",
       "      <th>index</th>\n",
       "      <th>constructorResultsId</th>\n",
       "      <th>raceId</th>\n",
       "      <th>points</th>\n",
       "    </tr>\n",
       "  </thead>\n",
       "  <tbody>\n",
       "    <tr>\n",
       "      <th>0</th>\n",
       "      <td>2000</td>\n",
       "      <td>1</td>\n",
       "      <td>26444</td>\n",
       "      <td>26461</td>\n",
       "      <td>2822</td>\n",
       "      <td>162.0</td>\n",
       "    </tr>\n",
       "    <tr>\n",
       "      <th>1</th>\n",
       "      <td>2000</td>\n",
       "      <td>3</td>\n",
       "      <td>26493</td>\n",
       "      <td>26510</td>\n",
       "      <td>2822</td>\n",
       "      <td>36.0</td>\n",
       "    </tr>\n",
       "    <tr>\n",
       "      <th>2</th>\n",
       "      <td>2000</td>\n",
       "      <td>6</td>\n",
       "      <td>26425</td>\n",
       "      <td>26442</td>\n",
       "      <td>2822</td>\n",
       "      <td>170.0</td>\n",
       "    </tr>\n",
       "    <tr>\n",
       "      <th>3</th>\n",
       "      <td>2000</td>\n",
       "      <td>15</td>\n",
       "      <td>26505</td>\n",
       "      <td>26522</td>\n",
       "      <td>2822</td>\n",
       "      <td>6.0</td>\n",
       "    </tr>\n",
       "    <tr>\n",
       "      <th>4</th>\n",
       "      <td>2000</td>\n",
       "      <td>16</td>\n",
       "      <td>26492</td>\n",
       "      <td>26509</td>\n",
       "      <td>2822</td>\n",
       "      <td>20.0</td>\n",
       "    </tr>\n",
       "    <tr>\n",
       "      <th>...</th>\n",
       "      <td>...</td>\n",
       "      <td>...</td>\n",
       "      <td>...</td>\n",
       "      <td>...</td>\n",
       "      <td>...</td>\n",
       "      <td>...</td>\n",
       "    </tr>\n",
       "    <tr>\n",
       "      <th>243</th>\n",
       "      <td>2022</td>\n",
       "      <td>117</td>\n",
       "      <td>265336</td>\n",
       "      <td>364336</td>\n",
       "      <td>23865</td>\n",
       "      <td>55.0</td>\n",
       "    </tr>\n",
       "    <tr>\n",
       "      <th>244</th>\n",
       "      <td>2022</td>\n",
       "      <td>131</td>\n",
       "      <td>265247</td>\n",
       "      <td>364247</td>\n",
       "      <td>23865</td>\n",
       "      <td>515.0</td>\n",
       "    </tr>\n",
       "    <tr>\n",
       "      <th>245</th>\n",
       "      <td>2022</td>\n",
       "      <td>210</td>\n",
       "      <td>265372</td>\n",
       "      <td>364372</td>\n",
       "      <td>23865</td>\n",
       "      <td>37.0</td>\n",
       "    </tr>\n",
       "    <tr>\n",
       "      <th>246</th>\n",
       "      <td>2022</td>\n",
       "      <td>213</td>\n",
       "      <td>265342</td>\n",
       "      <td>364342</td>\n",
       "      <td>23865</td>\n",
       "      <td>35.0</td>\n",
       "    </tr>\n",
       "    <tr>\n",
       "      <th>247</th>\n",
       "      <td>2022</td>\n",
       "      <td>214</td>\n",
       "      <td>265302</td>\n",
       "      <td>364302</td>\n",
       "      <td>23865</td>\n",
       "      <td>173.0</td>\n",
       "    </tr>\n",
       "  </tbody>\n",
       "</table>\n",
       "<p>248 rows × 6 columns</p>\n",
       "</div>"
      ],
      "text/plain": [
       "     year  constructorId   index  constructorResultsId  raceId  points\n",
       "0    2000              1   26444                 26461    2822   162.0\n",
       "1    2000              3   26493                 26510    2822    36.0\n",
       "2    2000              6   26425                 26442    2822   170.0\n",
       "3    2000             15   26505                 26522    2822     6.0\n",
       "4    2000             16   26492                 26509    2822    20.0\n",
       "..    ...            ...     ...                   ...     ...     ...\n",
       "243  2022            117  265336                364336   23865    55.0\n",
       "244  2022            131  265247                364247   23865   515.0\n",
       "245  2022            210  265372                364372   23865    37.0\n",
       "246  2022            213  265342                364342   23865    35.0\n",
       "247  2022            214  265302                364302   23865   173.0\n",
       "\n",
       "[248 rows x 6 columns]"
      ]
     },
     "execution_count": 37,
     "metadata": {},
     "output_type": "execute_result"
    }
   ],
   "source": [
    "constructor_pts"
   ]
  },
  {
   "cell_type": "code",
   "execution_count": 18,
   "id": "aaf1dbd3",
   "metadata": {},
   "outputs": [],
   "source": [
    "#constructor_pts_year.to_csv('const_pts_by_year.csv')"
   ]
  },
  {
   "cell_type": "code",
   "execution_count": 33,
   "id": "3d162697",
   "metadata": {},
   "outputs": [
    {
     "data": {
      "application/vnd.plotly.v1+json": {
       "config": {
        "plotlyServerURL": "https://plot.ly"
       },
       "data": [
        {
         "alignmentgroup": "True",
         "bingroup": "x",
         "histfunc": "sum",
         "hovertemplate": "constructorName=Minardi<br>year=%{x}<br>sum of points (normalized as percent)=%{y}<extra></extra>",
         "legendgroup": "Minardi",
         "marker": {
          "color": "#636efa",
          "pattern": {
           "shape": ""
          }
         },
         "name": "Minardi",
         "offsetgroup": "Minardi",
         "orientation": "v",
         "showlegend": true,
         "texttemplate": "%{value:.2f}",
         "type": "histogram",
         "x": [
          2000,
          2001,
          2002,
          2003,
          2004,
          2005
         ],
         "xaxis": "x",
         "y": [
          0,
          0,
          2,
          0,
          1,
          7
         ],
         "yaxis": "y"
        },
        {
         "alignmentgroup": "True",
         "bingroup": "x",
         "histfunc": "sum",
         "hovertemplate": "constructorName=Prost<br>year=%{x}<br>sum of points (normalized as percent)=%{y}<extra></extra>",
         "legendgroup": "Prost",
         "marker": {
          "color": "#EF553B",
          "pattern": {
           "shape": ""
          }
         },
         "name": "Prost",
         "offsetgroup": "Prost",
         "orientation": "v",
         "showlegend": true,
         "texttemplate": "%{value:.2f}",
         "type": "histogram",
         "x": [
          2000,
          2001
         ],
         "xaxis": "x",
         "y": [
          0,
          4
         ],
         "yaxis": "y"
        },
        {
         "alignmentgroup": "True",
         "bingroup": "x",
         "histfunc": "sum",
         "hovertemplate": "constructorName=Jaguar<br>year=%{x}<br>sum of points (normalized as percent)=%{y}<extra></extra>",
         "legendgroup": "Jaguar",
         "marker": {
          "color": "#00cc96",
          "pattern": {
           "shape": ""
          }
         },
         "name": "Jaguar",
         "offsetgroup": "Jaguar",
         "orientation": "v",
         "showlegend": true,
         "texttemplate": "%{value:.2f}",
         "type": "histogram",
         "x": [
          2000,
          2001,
          2002,
          2003,
          2004
         ],
         "xaxis": "x",
         "y": [
          4,
          9,
          8,
          18,
          10
         ],
         "yaxis": "y"
        },
        {
         "alignmentgroup": "True",
         "bingroup": "x",
         "histfunc": "sum",
         "hovertemplate": "constructorName=Sauber<br>year=%{x}<br>sum of points (normalized as percent)=%{y}<extra></extra>",
         "legendgroup": "Sauber",
         "marker": {
          "color": "#ab63fa",
          "pattern": {
           "shape": ""
          }
         },
         "name": "Sauber",
         "offsetgroup": "Sauber",
         "orientation": "v",
         "showlegend": true,
         "texttemplate": "%{value:.2f}",
         "type": "histogram",
         "x": [
          2000,
          2001,
          2002,
          2003,
          2004,
          2005,
          2010,
          2011,
          2012,
          2013,
          2014,
          2015,
          2016,
          2017,
          2018
         ],
         "xaxis": "x",
         "y": [
          6,
          21,
          11,
          19,
          34,
          20,
          44,
          44,
          126,
          57,
          0,
          36,
          2,
          5,
          48
         ],
         "yaxis": "y"
        },
        {
         "alignmentgroup": "True",
         "bingroup": "x",
         "histfunc": "sum",
         "hovertemplate": "constructorName=Arrows<br>year=%{x}<br>sum of points (normalized as percent)=%{y}<extra></extra>",
         "legendgroup": "Arrows",
         "marker": {
          "color": "#FFA15A",
          "pattern": {
           "shape": ""
          }
         },
         "name": "Arrows",
         "offsetgroup": "Arrows",
         "orientation": "v",
         "showlegend": true,
         "texttemplate": "%{value:.2f}",
         "type": "histogram",
         "x": [
          2000,
          2001,
          2002
         ],
         "xaxis": "x",
         "y": [
          7,
          1,
          2
         ],
         "yaxis": "y"
        },
        {
         "alignmentgroup": "True",
         "bingroup": "x",
         "histfunc": "sum",
         "hovertemplate": "constructorName=Jordan<br>year=%{x}<br>sum of points (normalized as percent)=%{y}<extra></extra>",
         "legendgroup": "Jordan",
         "marker": {
          "color": "#19d3f3",
          "pattern": {
           "shape": ""
          }
         },
         "name": "Jordan",
         "offsetgroup": "Jordan",
         "orientation": "v",
         "showlegend": true,
         "texttemplate": "%{value:.2f}",
         "type": "histogram",
         "x": [
          2000,
          2001,
          2002,
          2003,
          2004,
          2005
         ],
         "xaxis": "x",
         "y": [
          17,
          19,
          9,
          13,
          5,
          12
         ],
         "yaxis": "y"
        },
        {
         "alignmentgroup": "True",
         "bingroup": "x",
         "histfunc": "sum",
         "hovertemplate": "constructorName=BAR<br>year=%{x}<br>sum of points (normalized as percent)=%{y}<extra></extra>",
         "legendgroup": "BAR",
         "marker": {
          "color": "#FF6692",
          "pattern": {
           "shape": ""
          }
         },
         "name": "BAR",
         "offsetgroup": "BAR",
         "orientation": "v",
         "showlegend": true,
         "texttemplate": "%{value:.2f}",
         "type": "histogram",
         "x": [
          2000,
          2001,
          2002,
          2003,
          2004,
          2005
         ],
         "xaxis": "x",
         "y": [
          20,
          17,
          7,
          26,
          119,
          38
         ],
         "yaxis": "y"
        },
        {
         "alignmentgroup": "True",
         "bingroup": "x",
         "histfunc": "sum",
         "hovertemplate": "constructorName=Benetton<br>year=%{x}<br>sum of points (normalized as percent)=%{y}<extra></extra>",
         "legendgroup": "Benetton",
         "marker": {
          "color": "#B6E880",
          "pattern": {
           "shape": ""
          }
         },
         "name": "Benetton",
         "offsetgroup": "Benetton",
         "orientation": "v",
         "showlegend": true,
         "texttemplate": "%{value:.2f}",
         "type": "histogram",
         "x": [
          2000,
          2001
         ],
         "xaxis": "x",
         "y": [
          20,
          10
         ],
         "yaxis": "y"
        },
        {
         "alignmentgroup": "True",
         "bingroup": "x",
         "histfunc": "sum",
         "hovertemplate": "constructorName=Williams<br>year=%{x}<br>sum of points (normalized as percent)=%{y}<extra></extra>",
         "legendgroup": "Williams",
         "marker": {
          "color": "#FF97FF",
          "pattern": {
           "shape": ""
          }
         },
         "name": "Williams",
         "offsetgroup": "Williams",
         "orientation": "v",
         "showlegend": true,
         "texttemplate": "%{value:.2f}",
         "type": "histogram",
         "x": [
          2000,
          2001,
          2002,
          2003,
          2004,
          2005,
          2006,
          2007,
          2008,
          2009,
          2010,
          2011,
          2012,
          2013,
          2014,
          2015,
          2016,
          2017,
          2018,
          2019,
          2020,
          2021,
          2022
         ],
         "xaxis": "x",
         "y": [
          36,
          80,
          92,
          144,
          88,
          66,
          11,
          33,
          26,
          34.5,
          69,
          5,
          76,
          5,
          320,
          257,
          138,
          83,
          7,
          1,
          0,
          23,
          8
         ],
         "yaxis": "y"
        },
        {
         "alignmentgroup": "True",
         "bingroup": "x",
         "histfunc": "sum",
         "hovertemplate": "constructorName=McLaren<br>year=%{x}<br>sum of points (normalized as percent)=%{y}<extra></extra>",
         "legendgroup": "McLaren",
         "marker": {
          "color": "#FECB52",
          "pattern": {
           "shape": ""
          }
         },
         "name": "McLaren",
         "offsetgroup": "McLaren",
         "orientation": "v",
         "showlegend": true,
         "texttemplate": "%{value:.2f}",
         "type": "histogram",
         "x": [
          2000,
          2001,
          2002,
          2003,
          2004,
          2005,
          2006,
          2007,
          2008,
          2009,
          2010,
          2011,
          2012,
          2013,
          2014,
          2015,
          2016,
          2017,
          2018,
          2019,
          2020,
          2021,
          2022
         ],
         "xaxis": "x",
         "y": [
          162,
          102,
          65,
          142,
          69,
          182,
          110,
          218,
          151,
          71,
          454,
          497,
          378,
          122,
          181,
          27,
          76,
          30,
          62,
          145,
          202,
          275,
          159
         ],
         "yaxis": "y"
        },
        {
         "alignmentgroup": "True",
         "bingroup": "x",
         "histfunc": "sum",
         "hovertemplate": "constructorName=Ferrari<br>year=%{x}<br>sum of points (normalized as percent)=%{y}<extra></extra>",
         "legendgroup": "Ferrari",
         "marker": {
          "color": "#636efa",
          "pattern": {
           "shape": ""
          }
         },
         "name": "Ferrari",
         "offsetgroup": "Ferrari",
         "orientation": "v",
         "showlegend": true,
         "texttemplate": "%{value:.2f}",
         "type": "histogram",
         "x": [
          2000,
          2001,
          2002,
          2003,
          2004,
          2005,
          2006,
          2007,
          2008,
          2009,
          2010,
          2011,
          2012,
          2013,
          2014,
          2015,
          2016,
          2017,
          2018,
          2019,
          2020,
          2021,
          2022
         ],
         "xaxis": "x",
         "y": [
          170,
          179,
          221,
          158,
          262,
          100,
          201,
          204,
          172,
          70,
          396,
          375,
          400,
          354,
          216,
          428,
          398,
          522,
          571,
          504,
          131,
          323.5,
          554
         ],
         "yaxis": "y"
        },
        {
         "alignmentgroup": "True",
         "bingroup": "x",
         "histfunc": "sum",
         "hovertemplate": "constructorName=BMW Sauber<br>year=%{x}<br>sum of points (normalized as percent)=%{y}<extra></extra>",
         "legendgroup": "BMW Sauber",
         "marker": {
          "color": "#EF553B",
          "pattern": {
           "shape": ""
          }
         },
         "name": "BMW Sauber",
         "offsetgroup": "BMW Sauber",
         "orientation": "v",
         "showlegend": true,
         "texttemplate": "%{value:.2f}",
         "type": "histogram",
         "x": [
          2002,
          2006,
          2007,
          2008,
          2009
         ],
         "xaxis": "x",
         "y": [
          0,
          36,
          101,
          135,
          36
         ],
         "yaxis": "y"
        },
        {
         "alignmentgroup": "True",
         "bingroup": "x",
         "histfunc": "sum",
         "hovertemplate": "constructorName=Toyota<br>year=%{x}<br>sum of points (normalized as percent)=%{y}<extra></extra>",
         "legendgroup": "Toyota",
         "marker": {
          "color": "#00cc96",
          "pattern": {
           "shape": ""
          }
         },
         "name": "Toyota",
         "offsetgroup": "Toyota",
         "orientation": "v",
         "showlegend": true,
         "texttemplate": "%{value:.2f}",
         "type": "histogram",
         "x": [
          2002,
          2003,
          2004,
          2005,
          2006,
          2007,
          2008,
          2009
         ],
         "xaxis": "x",
         "y": [
          2,
          16,
          9,
          88,
          35,
          13,
          56,
          59.5
         ],
         "yaxis": "y"
        },
        {
         "alignmentgroup": "True",
         "bingroup": "x",
         "histfunc": "sum",
         "hovertemplate": "constructorName=Renault<br>year=%{x}<br>sum of points (normalized as percent)=%{y}<extra></extra>",
         "legendgroup": "Renault",
         "marker": {
          "color": "#ab63fa",
          "pattern": {
           "shape": ""
          }
         },
         "name": "Renault",
         "offsetgroup": "Renault",
         "orientation": "v",
         "showlegend": true,
         "texttemplate": "%{value:.2f}",
         "type": "histogram",
         "x": [
          2002,
          2003,
          2004,
          2005,
          2006,
          2007,
          2008,
          2009,
          2010,
          2011,
          2016,
          2017,
          2018,
          2019,
          2020
         ],
         "xaxis": "x",
         "y": [
          23,
          88,
          105,
          191,
          206,
          51,
          80,
          26,
          163,
          73,
          8,
          57,
          122,
          91,
          181
         ],
         "yaxis": "y"
        },
        {
         "alignmentgroup": "True",
         "bingroup": "x",
         "histfunc": "sum",
         "hovertemplate": "constructorName=Red Bull<br>year=%{x}<br>sum of points (normalized as percent)=%{y}<extra></extra>",
         "legendgroup": "Red Bull",
         "marker": {
          "color": "#FFA15A",
          "pattern": {
           "shape": ""
          }
         },
         "name": "Red Bull",
         "offsetgroup": "Red Bull",
         "orientation": "v",
         "showlegend": true,
         "texttemplate": "%{value:.2f}",
         "type": "histogram",
         "x": [
          2005,
          2006,
          2007,
          2008,
          2009,
          2010,
          2011,
          2012,
          2013,
          2014,
          2015,
          2016,
          2017,
          2018,
          2019,
          2020,
          2021,
          2022
         ],
         "xaxis": "x",
         "y": [
          34,
          16,
          24,
          29,
          153.5,
          498,
          650,
          460,
          596,
          405,
          187,
          468,
          368,
          419,
          417,
          319,
          585.5,
          759
         ],
         "yaxis": "y"
        },
        {
         "alignmentgroup": "True",
         "bingroup": "x",
         "histfunc": "sum",
         "hovertemplate": "constructorName=Super Aguri<br>year=%{x}<br>sum of points (normalized as percent)=%{y}<extra></extra>",
         "legendgroup": "Super Aguri",
         "marker": {
          "color": "#19d3f3",
          "pattern": {
           "shape": ""
          }
         },
         "name": "Super Aguri",
         "offsetgroup": "Super Aguri",
         "orientation": "v",
         "showlegend": true,
         "texttemplate": "%{value:.2f}",
         "type": "histogram",
         "x": [
          2006,
          2007,
          2008
         ],
         "xaxis": "x",
         "y": [
          0,
          4,
          0
         ],
         "yaxis": "y"
        },
        {
         "alignmentgroup": "True",
         "bingroup": "x",
         "histfunc": "sum",
         "hovertemplate": "constructorName=MF1<br>year=%{x}<br>sum of points (normalized as percent)=%{y}<extra></extra>",
         "legendgroup": "MF1",
         "marker": {
          "color": "#FF6692",
          "pattern": {
           "shape": ""
          }
         },
         "name": "MF1",
         "offsetgroup": "MF1",
         "orientation": "v",
         "showlegend": true,
         "texttemplate": "%{value:.2f}",
         "type": "histogram",
         "x": [
          2006
         ],
         "xaxis": "x",
         "y": [
          0
         ],
         "yaxis": "y"
        },
        {
         "alignmentgroup": "True",
         "bingroup": "x",
         "histfunc": "sum",
         "hovertemplate": "constructorName=Spyker MF1<br>year=%{x}<br>sum of points (normalized as percent)=%{y}<extra></extra>",
         "legendgroup": "Spyker MF1",
         "marker": {
          "color": "#B6E880",
          "pattern": {
           "shape": ""
          }
         },
         "name": "Spyker MF1",
         "offsetgroup": "Spyker MF1",
         "orientation": "v",
         "showlegend": true,
         "texttemplate": "%{value:.2f}",
         "type": "histogram",
         "x": [
          2006
         ],
         "xaxis": "x",
         "y": [
          0
         ],
         "yaxis": "y"
        },
        {
         "alignmentgroup": "True",
         "bingroup": "x",
         "histfunc": "sum",
         "hovertemplate": "constructorName=Toro Rosso<br>year=%{x}<br>sum of points (normalized as percent)=%{y}<extra></extra>",
         "legendgroup": "Toro Rosso",
         "marker": {
          "color": "#FF97FF",
          "pattern": {
           "shape": ""
          }
         },
         "name": "Toro Rosso",
         "offsetgroup": "Toro Rosso",
         "orientation": "v",
         "showlegend": true,
         "texttemplate": "%{value:.2f}",
         "type": "histogram",
         "x": [
          2006,
          2007,
          2008,
          2009,
          2010,
          2011,
          2012,
          2013,
          2014,
          2015,
          2016,
          2017,
          2018,
          2019
         ],
         "xaxis": "x",
         "y": [
          1,
          8,
          39,
          8,
          13,
          41,
          26,
          33,
          30,
          67,
          63,
          53,
          33,
          85
         ],
         "yaxis": "y"
        },
        {
         "alignmentgroup": "True",
         "bingroup": "x",
         "histfunc": "sum",
         "hovertemplate": "constructorName=Honda<br>year=%{x}<br>sum of points (normalized as percent)=%{y}<extra></extra>",
         "legendgroup": "Honda",
         "marker": {
          "color": "#FECB52",
          "pattern": {
           "shape": ""
          }
         },
         "name": "Honda",
         "offsetgroup": "Honda",
         "orientation": "v",
         "showlegend": true,
         "texttemplate": "%{value:.2f}",
         "type": "histogram",
         "x": [
          2006,
          2007,
          2008
         ],
         "xaxis": "x",
         "y": [
          86,
          6,
          14
         ],
         "yaxis": "y"
        },
        {
         "alignmentgroup": "True",
         "bingroup": "x",
         "histfunc": "sum",
         "hovertemplate": "constructorName=Spyker<br>year=%{x}<br>sum of points (normalized as percent)=%{y}<extra></extra>",
         "legendgroup": "Spyker",
         "marker": {
          "color": "#636efa",
          "pattern": {
           "shape": ""
          }
         },
         "name": "Spyker",
         "offsetgroup": "Spyker",
         "orientation": "v",
         "showlegend": true,
         "texttemplate": "%{value:.2f}",
         "type": "histogram",
         "x": [
          2007
         ],
         "xaxis": "x",
         "y": [
          1
         ],
         "yaxis": "y"
        },
        {
         "alignmentgroup": "True",
         "bingroup": "x",
         "histfunc": "sum",
         "hovertemplate": "constructorName=Force India<br>year=%{x}<br>sum of points (normalized as percent)=%{y}<extra></extra>",
         "legendgroup": "Force India",
         "marker": {
          "color": "#EF553B",
          "pattern": {
           "shape": ""
          }
         },
         "name": "Force India",
         "offsetgroup": "Force India",
         "orientation": "v",
         "showlegend": true,
         "texttemplate": "%{value:.2f}",
         "type": "histogram",
         "x": [
          2008,
          2009,
          2010,
          2011,
          2012,
          2013,
          2014,
          2015,
          2016,
          2017,
          2018
         ],
         "xaxis": "x",
         "y": [
          0,
          13,
          68,
          69,
          109,
          77,
          155,
          136,
          173,
          187,
          111
         ],
         "yaxis": "y"
        },
        {
         "alignmentgroup": "True",
         "bingroup": "x",
         "histfunc": "sum",
         "hovertemplate": "constructorName=Brawn<br>year=%{x}<br>sum of points (normalized as percent)=%{y}<extra></extra>",
         "legendgroup": "Brawn",
         "marker": {
          "color": "#00cc96",
          "pattern": {
           "shape": ""
          }
         },
         "name": "Brawn",
         "offsetgroup": "Brawn",
         "orientation": "v",
         "showlegend": true,
         "texttemplate": "%{value:.2f}",
         "type": "histogram",
         "x": [
          2009
         ],
         "xaxis": "x",
         "y": [
          172
         ],
         "yaxis": "y"
        },
        {
         "alignmentgroup": "True",
         "bingroup": "x",
         "histfunc": "sum",
         "hovertemplate": "constructorName=HRT<br>year=%{x}<br>sum of points (normalized as percent)=%{y}<extra></extra>",
         "legendgroup": "HRT",
         "marker": {
          "color": "#ab63fa",
          "pattern": {
           "shape": ""
          }
         },
         "name": "HRT",
         "offsetgroup": "HRT",
         "orientation": "v",
         "showlegend": true,
         "texttemplate": "%{value:.2f}",
         "type": "histogram",
         "x": [
          2010,
          2011,
          2012
         ],
         "xaxis": "x",
         "y": [
          0,
          0,
          0
         ],
         "yaxis": "y"
        },
        {
         "alignmentgroup": "True",
         "bingroup": "x",
         "histfunc": "sum",
         "hovertemplate": "constructorName=Virgin<br>year=%{x}<br>sum of points (normalized as percent)=%{y}<extra></extra>",
         "legendgroup": "Virgin",
         "marker": {
          "color": "#FFA15A",
          "pattern": {
           "shape": ""
          }
         },
         "name": "Virgin",
         "offsetgroup": "Virgin",
         "orientation": "v",
         "showlegend": true,
         "texttemplate": "%{value:.2f}",
         "type": "histogram",
         "x": [
          2010,
          2011
         ],
         "xaxis": "x",
         "y": [
          0,
          0
         ],
         "yaxis": "y"
        },
        {
         "alignmentgroup": "True",
         "bingroup": "x",
         "histfunc": "sum",
         "hovertemplate": "constructorName=Lotus<br>year=%{x}<br>sum of points (normalized as percent)=%{y}<extra></extra>",
         "legendgroup": "Lotus",
         "marker": {
          "color": "#19d3f3",
          "pattern": {
           "shape": ""
          }
         },
         "name": "Lotus",
         "offsetgroup": "Lotus",
         "orientation": "v",
         "showlegend": true,
         "texttemplate": "%{value:.2f}",
         "type": "histogram",
         "x": [
          2010,
          2011
         ],
         "xaxis": "x",
         "y": [
          0,
          0
         ],
         "yaxis": "y"
        },
        {
         "alignmentgroup": "True",
         "bingroup": "x",
         "histfunc": "sum",
         "hovertemplate": "constructorName=Mercedes<br>year=%{x}<br>sum of points (normalized as percent)=%{y}<extra></extra>",
         "legendgroup": "Mercedes",
         "marker": {
          "color": "#FF6692",
          "pattern": {
           "shape": ""
          }
         },
         "name": "Mercedes",
         "offsetgroup": "Mercedes",
         "orientation": "v",
         "showlegend": true,
         "texttemplate": "%{value:.2f}",
         "type": "histogram",
         "x": [
          2010,
          2011,
          2012,
          2013,
          2014,
          2015,
          2016,
          2017,
          2018,
          2019,
          2020,
          2021,
          2022
         ],
         "xaxis": "x",
         "y": [
          214,
          165,
          142,
          360,
          701,
          703,
          765,
          668,
          655,
          739,
          573,
          613.5,
          515
         ],
         "yaxis": "y"
        },
        {
         "alignmentgroup": "True",
         "bingroup": "x",
         "histfunc": "sum",
         "hovertemplate": "constructorName=Marussia<br>year=%{x}<br>sum of points (normalized as percent)=%{y}<extra></extra>",
         "legendgroup": "Marussia",
         "marker": {
          "color": "#B6E880",
          "pattern": {
           "shape": ""
          }
         },
         "name": "Marussia",
         "offsetgroup": "Marussia",
         "orientation": "v",
         "showlegend": true,
         "texttemplate": "%{value:.2f}",
         "type": "histogram",
         "x": [
          2012,
          2013,
          2014,
          2015
         ],
         "xaxis": "x",
         "y": [
          0,
          0,
          2,
          0
         ],
         "yaxis": "y"
        },
        {
         "alignmentgroup": "True",
         "bingroup": "x",
         "histfunc": "sum",
         "hovertemplate": "constructorName=Caterham<br>year=%{x}<br>sum of points (normalized as percent)=%{y}<extra></extra>",
         "legendgroup": "Caterham",
         "marker": {
          "color": "#FF97FF",
          "pattern": {
           "shape": ""
          }
         },
         "name": "Caterham",
         "offsetgroup": "Caterham",
         "orientation": "v",
         "showlegend": true,
         "texttemplate": "%{value:.2f}",
         "type": "histogram",
         "x": [
          2012,
          2013,
          2014
         ],
         "xaxis": "x",
         "y": [
          0,
          0,
          0
         ],
         "yaxis": "y"
        },
        {
         "alignmentgroup": "True",
         "bingroup": "x",
         "histfunc": "sum",
         "hovertemplate": "constructorName=Lotus F1<br>year=%{x}<br>sum of points (normalized as percent)=%{y}<extra></extra>",
         "legendgroup": "Lotus F1",
         "marker": {
          "color": "#FECB52",
          "pattern": {
           "shape": ""
          }
         },
         "name": "Lotus F1",
         "offsetgroup": "Lotus F1",
         "orientation": "v",
         "showlegend": true,
         "texttemplate": "%{value:.2f}",
         "type": "histogram",
         "x": [
          2012,
          2013,
          2014,
          2015
         ],
         "xaxis": "x",
         "y": [
          303,
          315,
          10,
          78
         ],
         "yaxis": "y"
        },
        {
         "alignmentgroup": "True",
         "bingroup": "x",
         "histfunc": "sum",
         "hovertemplate": "constructorName=Manor Marussia<br>year=%{x}<br>sum of points (normalized as percent)=%{y}<extra></extra>",
         "legendgroup": "Manor Marussia",
         "marker": {
          "color": "#636efa",
          "pattern": {
           "shape": ""
          }
         },
         "name": "Manor Marussia",
         "offsetgroup": "Manor Marussia",
         "orientation": "v",
         "showlegend": true,
         "texttemplate": "%{value:.2f}",
         "type": "histogram",
         "x": [
          2015,
          2016
         ],
         "xaxis": "x",
         "y": [
          0,
          1
         ],
         "yaxis": "y"
        },
        {
         "alignmentgroup": "True",
         "bingroup": "x",
         "histfunc": "sum",
         "hovertemplate": "constructorName=Haas F1 Team<br>year=%{x}<br>sum of points (normalized as percent)=%{y}<extra></extra>",
         "legendgroup": "Haas F1 Team",
         "marker": {
          "color": "#EF553B",
          "pattern": {
           "shape": ""
          }
         },
         "name": "Haas F1 Team",
         "offsetgroup": "Haas F1 Team",
         "orientation": "v",
         "showlegend": true,
         "texttemplate": "%{value:.2f}",
         "type": "histogram",
         "x": [
          2016,
          2017,
          2018,
          2019,
          2020,
          2021,
          2022
         ],
         "xaxis": "x",
         "y": [
          29,
          47,
          93,
          28,
          3,
          0,
          37
         ],
         "yaxis": "y"
        },
        {
         "alignmentgroup": "True",
         "bingroup": "x",
         "histfunc": "sum",
         "hovertemplate": "constructorName=Alfa Romeo<br>year=%{x}<br>sum of points (normalized as percent)=%{y}<extra></extra>",
         "legendgroup": "Alfa Romeo",
         "marker": {
          "color": "#00cc96",
          "pattern": {
           "shape": ""
          }
         },
         "name": "Alfa Romeo",
         "offsetgroup": "Alfa Romeo",
         "orientation": "v",
         "showlegend": true,
         "texttemplate": "%{value:.2f}",
         "type": "histogram",
         "x": [
          2019,
          2020,
          2021,
          2022
         ],
         "xaxis": "x",
         "y": [
          57,
          8,
          13,
          55
         ],
         "yaxis": "y"
        },
        {
         "alignmentgroup": "True",
         "bingroup": "x",
         "histfunc": "sum",
         "hovertemplate": "constructorName=Racing Point<br>year=%{x}<br>sum of points (normalized as percent)=%{y}<extra></extra>",
         "legendgroup": "Racing Point",
         "marker": {
          "color": "#ab63fa",
          "pattern": {
           "shape": ""
          }
         },
         "name": "Racing Point",
         "offsetgroup": "Racing Point",
         "orientation": "v",
         "showlegend": true,
         "texttemplate": "%{value:.2f}",
         "type": "histogram",
         "x": [
          2019,
          2020
         ],
         "xaxis": "x",
         "y": [
          73,
          210
         ],
         "yaxis": "y"
        },
        {
         "alignmentgroup": "True",
         "bingroup": "x",
         "histfunc": "sum",
         "hovertemplate": "constructorName=AlphaTauri<br>year=%{x}<br>sum of points (normalized as percent)=%{y}<extra></extra>",
         "legendgroup": "AlphaTauri",
         "marker": {
          "color": "#FFA15A",
          "pattern": {
           "shape": ""
          }
         },
         "name": "AlphaTauri",
         "offsetgroup": "AlphaTauri",
         "orientation": "v",
         "showlegend": true,
         "texttemplate": "%{value:.2f}",
         "type": "histogram",
         "x": [
          2020,
          2021,
          2022
         ],
         "xaxis": "x",
         "y": [
          107,
          142,
          35
         ],
         "yaxis": "y"
        },
        {
         "alignmentgroup": "True",
         "bingroup": "x",
         "histfunc": "sum",
         "hovertemplate": "constructorName=Aston Martin<br>year=%{x}<br>sum of points (normalized as percent)=%{y}<extra></extra>",
         "legendgroup": "Aston Martin",
         "marker": {
          "color": "#19d3f3",
          "pattern": {
           "shape": ""
          }
         },
         "name": "Aston Martin",
         "offsetgroup": "Aston Martin",
         "orientation": "v",
         "showlegend": true,
         "texttemplate": "%{value:.2f}",
         "type": "histogram",
         "x": [
          2021,
          2022
         ],
         "xaxis": "x",
         "y": [
          77,
          55
         ],
         "yaxis": "y"
        },
        {
         "alignmentgroup": "True",
         "bingroup": "x",
         "histfunc": "sum",
         "hovertemplate": "constructorName=Alpine F1 Team<br>year=%{x}<br>sum of points (normalized as percent)=%{y}<extra></extra>",
         "legendgroup": "Alpine F1 Team",
         "marker": {
          "color": "#FF6692",
          "pattern": {
           "shape": ""
          }
         },
         "name": "Alpine F1 Team",
         "offsetgroup": "Alpine F1 Team",
         "orientation": "v",
         "showlegend": true,
         "texttemplate": "%{value:.2f}",
         "type": "histogram",
         "x": [
          2021,
          2022
         ],
         "xaxis": "x",
         "y": [
          155,
          173
         ],
         "yaxis": "y"
        }
       ],
       "layout": {
        "barmode": "relative",
        "barnorm": "percent",
        "legend": {
         "title": {
          "text": "constructorName"
         },
         "tracegroupgap": 0
        },
        "template": {
         "data": {
          "bar": [
           {
            "error_x": {
             "color": "#2a3f5f"
            },
            "error_y": {
             "color": "#2a3f5f"
            },
            "marker": {
             "line": {
              "color": "#E5ECF6",
              "width": 0.5
             },
             "pattern": {
              "fillmode": "overlay",
              "size": 10,
              "solidity": 0.2
             }
            },
            "type": "bar"
           }
          ],
          "barpolar": [
           {
            "marker": {
             "line": {
              "color": "#E5ECF6",
              "width": 0.5
             },
             "pattern": {
              "fillmode": "overlay",
              "size": 10,
              "solidity": 0.2
             }
            },
            "type": "barpolar"
           }
          ],
          "carpet": [
           {
            "aaxis": {
             "endlinecolor": "#2a3f5f",
             "gridcolor": "white",
             "linecolor": "white",
             "minorgridcolor": "white",
             "startlinecolor": "#2a3f5f"
            },
            "baxis": {
             "endlinecolor": "#2a3f5f",
             "gridcolor": "white",
             "linecolor": "white",
             "minorgridcolor": "white",
             "startlinecolor": "#2a3f5f"
            },
            "type": "carpet"
           }
          ],
          "choropleth": [
           {
            "colorbar": {
             "outlinewidth": 0,
             "ticks": ""
            },
            "type": "choropleth"
           }
          ],
          "contour": [
           {
            "colorbar": {
             "outlinewidth": 0,
             "ticks": ""
            },
            "colorscale": [
             [
              0,
              "#0d0887"
             ],
             [
              0.1111111111111111,
              "#46039f"
             ],
             [
              0.2222222222222222,
              "#7201a8"
             ],
             [
              0.3333333333333333,
              "#9c179e"
             ],
             [
              0.4444444444444444,
              "#bd3786"
             ],
             [
              0.5555555555555556,
              "#d8576b"
             ],
             [
              0.6666666666666666,
              "#ed7953"
             ],
             [
              0.7777777777777778,
              "#fb9f3a"
             ],
             [
              0.8888888888888888,
              "#fdca26"
             ],
             [
              1,
              "#f0f921"
             ]
            ],
            "type": "contour"
           }
          ],
          "contourcarpet": [
           {
            "colorbar": {
             "outlinewidth": 0,
             "ticks": ""
            },
            "type": "contourcarpet"
           }
          ],
          "heatmap": [
           {
            "colorbar": {
             "outlinewidth": 0,
             "ticks": ""
            },
            "colorscale": [
             [
              0,
              "#0d0887"
             ],
             [
              0.1111111111111111,
              "#46039f"
             ],
             [
              0.2222222222222222,
              "#7201a8"
             ],
             [
              0.3333333333333333,
              "#9c179e"
             ],
             [
              0.4444444444444444,
              "#bd3786"
             ],
             [
              0.5555555555555556,
              "#d8576b"
             ],
             [
              0.6666666666666666,
              "#ed7953"
             ],
             [
              0.7777777777777778,
              "#fb9f3a"
             ],
             [
              0.8888888888888888,
              "#fdca26"
             ],
             [
              1,
              "#f0f921"
             ]
            ],
            "type": "heatmap"
           }
          ],
          "heatmapgl": [
           {
            "colorbar": {
             "outlinewidth": 0,
             "ticks": ""
            },
            "colorscale": [
             [
              0,
              "#0d0887"
             ],
             [
              0.1111111111111111,
              "#46039f"
             ],
             [
              0.2222222222222222,
              "#7201a8"
             ],
             [
              0.3333333333333333,
              "#9c179e"
             ],
             [
              0.4444444444444444,
              "#bd3786"
             ],
             [
              0.5555555555555556,
              "#d8576b"
             ],
             [
              0.6666666666666666,
              "#ed7953"
             ],
             [
              0.7777777777777778,
              "#fb9f3a"
             ],
             [
              0.8888888888888888,
              "#fdca26"
             ],
             [
              1,
              "#f0f921"
             ]
            ],
            "type": "heatmapgl"
           }
          ],
          "histogram": [
           {
            "marker": {
             "pattern": {
              "fillmode": "overlay",
              "size": 10,
              "solidity": 0.2
             }
            },
            "type": "histogram"
           }
          ],
          "histogram2d": [
           {
            "colorbar": {
             "outlinewidth": 0,
             "ticks": ""
            },
            "colorscale": [
             [
              0,
              "#0d0887"
             ],
             [
              0.1111111111111111,
              "#46039f"
             ],
             [
              0.2222222222222222,
              "#7201a8"
             ],
             [
              0.3333333333333333,
              "#9c179e"
             ],
             [
              0.4444444444444444,
              "#bd3786"
             ],
             [
              0.5555555555555556,
              "#d8576b"
             ],
             [
              0.6666666666666666,
              "#ed7953"
             ],
             [
              0.7777777777777778,
              "#fb9f3a"
             ],
             [
              0.8888888888888888,
              "#fdca26"
             ],
             [
              1,
              "#f0f921"
             ]
            ],
            "type": "histogram2d"
           }
          ],
          "histogram2dcontour": [
           {
            "colorbar": {
             "outlinewidth": 0,
             "ticks": ""
            },
            "colorscale": [
             [
              0,
              "#0d0887"
             ],
             [
              0.1111111111111111,
              "#46039f"
             ],
             [
              0.2222222222222222,
              "#7201a8"
             ],
             [
              0.3333333333333333,
              "#9c179e"
             ],
             [
              0.4444444444444444,
              "#bd3786"
             ],
             [
              0.5555555555555556,
              "#d8576b"
             ],
             [
              0.6666666666666666,
              "#ed7953"
             ],
             [
              0.7777777777777778,
              "#fb9f3a"
             ],
             [
              0.8888888888888888,
              "#fdca26"
             ],
             [
              1,
              "#f0f921"
             ]
            ],
            "type": "histogram2dcontour"
           }
          ],
          "mesh3d": [
           {
            "colorbar": {
             "outlinewidth": 0,
             "ticks": ""
            },
            "type": "mesh3d"
           }
          ],
          "parcoords": [
           {
            "line": {
             "colorbar": {
              "outlinewidth": 0,
              "ticks": ""
             }
            },
            "type": "parcoords"
           }
          ],
          "pie": [
           {
            "automargin": true,
            "type": "pie"
           }
          ],
          "scatter": [
           {
            "fillpattern": {
             "fillmode": "overlay",
             "size": 10,
             "solidity": 0.2
            },
            "type": "scatter"
           }
          ],
          "scatter3d": [
           {
            "line": {
             "colorbar": {
              "outlinewidth": 0,
              "ticks": ""
             }
            },
            "marker": {
             "colorbar": {
              "outlinewidth": 0,
              "ticks": ""
             }
            },
            "type": "scatter3d"
           }
          ],
          "scattercarpet": [
           {
            "marker": {
             "colorbar": {
              "outlinewidth": 0,
              "ticks": ""
             }
            },
            "type": "scattercarpet"
           }
          ],
          "scattergeo": [
           {
            "marker": {
             "colorbar": {
              "outlinewidth": 0,
              "ticks": ""
             }
            },
            "type": "scattergeo"
           }
          ],
          "scattergl": [
           {
            "marker": {
             "colorbar": {
              "outlinewidth": 0,
              "ticks": ""
             }
            },
            "type": "scattergl"
           }
          ],
          "scattermapbox": [
           {
            "marker": {
             "colorbar": {
              "outlinewidth": 0,
              "ticks": ""
             }
            },
            "type": "scattermapbox"
           }
          ],
          "scatterpolar": [
           {
            "marker": {
             "colorbar": {
              "outlinewidth": 0,
              "ticks": ""
             }
            },
            "type": "scatterpolar"
           }
          ],
          "scatterpolargl": [
           {
            "marker": {
             "colorbar": {
              "outlinewidth": 0,
              "ticks": ""
             }
            },
            "type": "scatterpolargl"
           }
          ],
          "scatterternary": [
           {
            "marker": {
             "colorbar": {
              "outlinewidth": 0,
              "ticks": ""
             }
            },
            "type": "scatterternary"
           }
          ],
          "surface": [
           {
            "colorbar": {
             "outlinewidth": 0,
             "ticks": ""
            },
            "colorscale": [
             [
              0,
              "#0d0887"
             ],
             [
              0.1111111111111111,
              "#46039f"
             ],
             [
              0.2222222222222222,
              "#7201a8"
             ],
             [
              0.3333333333333333,
              "#9c179e"
             ],
             [
              0.4444444444444444,
              "#bd3786"
             ],
             [
              0.5555555555555556,
              "#d8576b"
             ],
             [
              0.6666666666666666,
              "#ed7953"
             ],
             [
              0.7777777777777778,
              "#fb9f3a"
             ],
             [
              0.8888888888888888,
              "#fdca26"
             ],
             [
              1,
              "#f0f921"
             ]
            ],
            "type": "surface"
           }
          ],
          "table": [
           {
            "cells": {
             "fill": {
              "color": "#EBF0F8"
             },
             "line": {
              "color": "white"
             }
            },
            "header": {
             "fill": {
              "color": "#C8D4E3"
             },
             "line": {
              "color": "white"
             }
            },
            "type": "table"
           }
          ]
         },
         "layout": {
          "annotationdefaults": {
           "arrowcolor": "#2a3f5f",
           "arrowhead": 0,
           "arrowwidth": 1
          },
          "autotypenumbers": "strict",
          "coloraxis": {
           "colorbar": {
            "outlinewidth": 0,
            "ticks": ""
           }
          },
          "colorscale": {
           "diverging": [
            [
             0,
             "#8e0152"
            ],
            [
             0.1,
             "#c51b7d"
            ],
            [
             0.2,
             "#de77ae"
            ],
            [
             0.3,
             "#f1b6da"
            ],
            [
             0.4,
             "#fde0ef"
            ],
            [
             0.5,
             "#f7f7f7"
            ],
            [
             0.6,
             "#e6f5d0"
            ],
            [
             0.7,
             "#b8e186"
            ],
            [
             0.8,
             "#7fbc41"
            ],
            [
             0.9,
             "#4d9221"
            ],
            [
             1,
             "#276419"
            ]
           ],
           "sequential": [
            [
             0,
             "#0d0887"
            ],
            [
             0.1111111111111111,
             "#46039f"
            ],
            [
             0.2222222222222222,
             "#7201a8"
            ],
            [
             0.3333333333333333,
             "#9c179e"
            ],
            [
             0.4444444444444444,
             "#bd3786"
            ],
            [
             0.5555555555555556,
             "#d8576b"
            ],
            [
             0.6666666666666666,
             "#ed7953"
            ],
            [
             0.7777777777777778,
             "#fb9f3a"
            ],
            [
             0.8888888888888888,
             "#fdca26"
            ],
            [
             1,
             "#f0f921"
            ]
           ],
           "sequentialminus": [
            [
             0,
             "#0d0887"
            ],
            [
             0.1111111111111111,
             "#46039f"
            ],
            [
             0.2222222222222222,
             "#7201a8"
            ],
            [
             0.3333333333333333,
             "#9c179e"
            ],
            [
             0.4444444444444444,
             "#bd3786"
            ],
            [
             0.5555555555555556,
             "#d8576b"
            ],
            [
             0.6666666666666666,
             "#ed7953"
            ],
            [
             0.7777777777777778,
             "#fb9f3a"
            ],
            [
             0.8888888888888888,
             "#fdca26"
            ],
            [
             1,
             "#f0f921"
            ]
           ]
          },
          "colorway": [
           "#636efa",
           "#EF553B",
           "#00cc96",
           "#ab63fa",
           "#FFA15A",
           "#19d3f3",
           "#FF6692",
           "#B6E880",
           "#FF97FF",
           "#FECB52"
          ],
          "font": {
           "color": "#2a3f5f"
          },
          "geo": {
           "bgcolor": "white",
           "lakecolor": "white",
           "landcolor": "#E5ECF6",
           "showlakes": true,
           "showland": true,
           "subunitcolor": "white"
          },
          "hoverlabel": {
           "align": "left"
          },
          "hovermode": "closest",
          "mapbox": {
           "style": "light"
          },
          "paper_bgcolor": "white",
          "plot_bgcolor": "#E5ECF6",
          "polar": {
           "angularaxis": {
            "gridcolor": "white",
            "linecolor": "white",
            "ticks": ""
           },
           "bgcolor": "#E5ECF6",
           "radialaxis": {
            "gridcolor": "white",
            "linecolor": "white",
            "ticks": ""
           }
          },
          "scene": {
           "xaxis": {
            "backgroundcolor": "#E5ECF6",
            "gridcolor": "white",
            "gridwidth": 2,
            "linecolor": "white",
            "showbackground": true,
            "ticks": "",
            "zerolinecolor": "white"
           },
           "yaxis": {
            "backgroundcolor": "#E5ECF6",
            "gridcolor": "white",
            "gridwidth": 2,
            "linecolor": "white",
            "showbackground": true,
            "ticks": "",
            "zerolinecolor": "white"
           },
           "zaxis": {
            "backgroundcolor": "#E5ECF6",
            "gridcolor": "white",
            "gridwidth": 2,
            "linecolor": "white",
            "showbackground": true,
            "ticks": "",
            "zerolinecolor": "white"
           }
          },
          "shapedefaults": {
           "line": {
            "color": "#2a3f5f"
           }
          },
          "ternary": {
           "aaxis": {
            "gridcolor": "white",
            "linecolor": "white",
            "ticks": ""
           },
           "baxis": {
            "gridcolor": "white",
            "linecolor": "white",
            "ticks": ""
           },
           "bgcolor": "#E5ECF6",
           "caxis": {
            "gridcolor": "white",
            "linecolor": "white",
            "ticks": ""
           }
          },
          "title": {
           "x": 0.05
          },
          "xaxis": {
           "automargin": true,
           "gridcolor": "white",
           "linecolor": "white",
           "ticks": "",
           "title": {
            "standoff": 15
           },
           "zerolinecolor": "white",
           "zerolinewidth": 2
          },
          "yaxis": {
           "automargin": true,
           "gridcolor": "white",
           "linecolor": "white",
           "ticks": "",
           "title": {
            "standoff": 15
           },
           "zerolinecolor": "white",
           "zerolinewidth": 2
          }
         }
        },
        "title": {
         "text": "Percentage of Points won by Constructor, 2000-2022"
        },
        "xaxis": {
         "anchor": "y",
         "domain": [
          0,
          1
         ],
         "title": {
          "text": "year"
         }
        },
        "yaxis": {
         "anchor": "x",
         "domain": [
          0,
          1
         ],
         "title": {
          "text": "sum of points (normalized as percent)"
         }
        }
       }
      },
      "text/html": [
       "<div>                            <div id=\"3358458b-7b1d-4048-a9ba-df961e1e6b82\" class=\"plotly-graph-div\" style=\"height:525px; width:100%;\"></div>            <script type=\"text/javascript\">                require([\"plotly\"], function(Plotly) {                    window.PLOTLYENV=window.PLOTLYENV || {};                                    if (document.getElementById(\"3358458b-7b1d-4048-a9ba-df961e1e6b82\")) {                    Plotly.newPlot(                        \"3358458b-7b1d-4048-a9ba-df961e1e6b82\",                        [{\"alignmentgroup\":\"True\",\"bingroup\":\"x\",\"histfunc\":\"sum\",\"hovertemplate\":\"constructorName=Minardi<br>year=%{x}<br>sum of points (normalized as percent)=%{y}<extra></extra>\",\"legendgroup\":\"Minardi\",\"marker\":{\"color\":\"#636efa\",\"pattern\":{\"shape\":\"\"}},\"name\":\"Minardi\",\"offsetgroup\":\"Minardi\",\"orientation\":\"v\",\"showlegend\":true,\"texttemplate\":\"%{value:.2f}\",\"x\":[2000,2001,2002,2003,2004,2005],\"xaxis\":\"x\",\"y\":[0.0,0.0,2.0,0.0,1.0,7.0],\"yaxis\":\"y\",\"type\":\"histogram\"},{\"alignmentgroup\":\"True\",\"bingroup\":\"x\",\"histfunc\":\"sum\",\"hovertemplate\":\"constructorName=Prost<br>year=%{x}<br>sum of points (normalized as percent)=%{y}<extra></extra>\",\"legendgroup\":\"Prost\",\"marker\":{\"color\":\"#EF553B\",\"pattern\":{\"shape\":\"\"}},\"name\":\"Prost\",\"offsetgroup\":\"Prost\",\"orientation\":\"v\",\"showlegend\":true,\"texttemplate\":\"%{value:.2f}\",\"x\":[2000,2001],\"xaxis\":\"x\",\"y\":[0.0,4.0],\"yaxis\":\"y\",\"type\":\"histogram\"},{\"alignmentgroup\":\"True\",\"bingroup\":\"x\",\"histfunc\":\"sum\",\"hovertemplate\":\"constructorName=Jaguar<br>year=%{x}<br>sum of points (normalized as percent)=%{y}<extra></extra>\",\"legendgroup\":\"Jaguar\",\"marker\":{\"color\":\"#00cc96\",\"pattern\":{\"shape\":\"\"}},\"name\":\"Jaguar\",\"offsetgroup\":\"Jaguar\",\"orientation\":\"v\",\"showlegend\":true,\"texttemplate\":\"%{value:.2f}\",\"x\":[2000,2001,2002,2003,2004],\"xaxis\":\"x\",\"y\":[4.0,9.0,8.0,18.0,10.0],\"yaxis\":\"y\",\"type\":\"histogram\"},{\"alignmentgroup\":\"True\",\"bingroup\":\"x\",\"histfunc\":\"sum\",\"hovertemplate\":\"constructorName=Sauber<br>year=%{x}<br>sum of points (normalized as percent)=%{y}<extra></extra>\",\"legendgroup\":\"Sauber\",\"marker\":{\"color\":\"#ab63fa\",\"pattern\":{\"shape\":\"\"}},\"name\":\"Sauber\",\"offsetgroup\":\"Sauber\",\"orientation\":\"v\",\"showlegend\":true,\"texttemplate\":\"%{value:.2f}\",\"x\":[2000,2001,2002,2003,2004,2005,2010,2011,2012,2013,2014,2015,2016,2017,2018],\"xaxis\":\"x\",\"y\":[6.0,21.0,11.0,19.0,34.0,20.0,44.0,44.0,126.0,57.0,0.0,36.0,2.0,5.0,48.0],\"yaxis\":\"y\",\"type\":\"histogram\"},{\"alignmentgroup\":\"True\",\"bingroup\":\"x\",\"histfunc\":\"sum\",\"hovertemplate\":\"constructorName=Arrows<br>year=%{x}<br>sum of points (normalized as percent)=%{y}<extra></extra>\",\"legendgroup\":\"Arrows\",\"marker\":{\"color\":\"#FFA15A\",\"pattern\":{\"shape\":\"\"}},\"name\":\"Arrows\",\"offsetgroup\":\"Arrows\",\"orientation\":\"v\",\"showlegend\":true,\"texttemplate\":\"%{value:.2f}\",\"x\":[2000,2001,2002],\"xaxis\":\"x\",\"y\":[7.0,1.0,2.0],\"yaxis\":\"y\",\"type\":\"histogram\"},{\"alignmentgroup\":\"True\",\"bingroup\":\"x\",\"histfunc\":\"sum\",\"hovertemplate\":\"constructorName=Jordan<br>year=%{x}<br>sum of points (normalized as percent)=%{y}<extra></extra>\",\"legendgroup\":\"Jordan\",\"marker\":{\"color\":\"#19d3f3\",\"pattern\":{\"shape\":\"\"}},\"name\":\"Jordan\",\"offsetgroup\":\"Jordan\",\"orientation\":\"v\",\"showlegend\":true,\"texttemplate\":\"%{value:.2f}\",\"x\":[2000,2001,2002,2003,2004,2005],\"xaxis\":\"x\",\"y\":[17.0,19.0,9.0,13.0,5.0,12.0],\"yaxis\":\"y\",\"type\":\"histogram\"},{\"alignmentgroup\":\"True\",\"bingroup\":\"x\",\"histfunc\":\"sum\",\"hovertemplate\":\"constructorName=BAR<br>year=%{x}<br>sum of points (normalized as percent)=%{y}<extra></extra>\",\"legendgroup\":\"BAR\",\"marker\":{\"color\":\"#FF6692\",\"pattern\":{\"shape\":\"\"}},\"name\":\"BAR\",\"offsetgroup\":\"BAR\",\"orientation\":\"v\",\"showlegend\":true,\"texttemplate\":\"%{value:.2f}\",\"x\":[2000,2001,2002,2003,2004,2005],\"xaxis\":\"x\",\"y\":[20.0,17.0,7.0,26.0,119.0,38.0],\"yaxis\":\"y\",\"type\":\"histogram\"},{\"alignmentgroup\":\"True\",\"bingroup\":\"x\",\"histfunc\":\"sum\",\"hovertemplate\":\"constructorName=Benetton<br>year=%{x}<br>sum of points (normalized as percent)=%{y}<extra></extra>\",\"legendgroup\":\"Benetton\",\"marker\":{\"color\":\"#B6E880\",\"pattern\":{\"shape\":\"\"}},\"name\":\"Benetton\",\"offsetgroup\":\"Benetton\",\"orientation\":\"v\",\"showlegend\":true,\"texttemplate\":\"%{value:.2f}\",\"x\":[2000,2001],\"xaxis\":\"x\",\"y\":[20.0,10.0],\"yaxis\":\"y\",\"type\":\"histogram\"},{\"alignmentgroup\":\"True\",\"bingroup\":\"x\",\"histfunc\":\"sum\",\"hovertemplate\":\"constructorName=Williams<br>year=%{x}<br>sum of points (normalized as percent)=%{y}<extra></extra>\",\"legendgroup\":\"Williams\",\"marker\":{\"color\":\"#FF97FF\",\"pattern\":{\"shape\":\"\"}},\"name\":\"Williams\",\"offsetgroup\":\"Williams\",\"orientation\":\"v\",\"showlegend\":true,\"texttemplate\":\"%{value:.2f}\",\"x\":[2000,2001,2002,2003,2004,2005,2006,2007,2008,2009,2010,2011,2012,2013,2014,2015,2016,2017,2018,2019,2020,2021,2022],\"xaxis\":\"x\",\"y\":[36.0,80.0,92.0,144.0,88.0,66.0,11.0,33.0,26.0,34.5,69.0,5.0,76.0,5.0,320.0,257.0,138.0,83.0,7.0,1.0,0.0,23.0,8.0],\"yaxis\":\"y\",\"type\":\"histogram\"},{\"alignmentgroup\":\"True\",\"bingroup\":\"x\",\"histfunc\":\"sum\",\"hovertemplate\":\"constructorName=McLaren<br>year=%{x}<br>sum of points (normalized as percent)=%{y}<extra></extra>\",\"legendgroup\":\"McLaren\",\"marker\":{\"color\":\"#FECB52\",\"pattern\":{\"shape\":\"\"}},\"name\":\"McLaren\",\"offsetgroup\":\"McLaren\",\"orientation\":\"v\",\"showlegend\":true,\"texttemplate\":\"%{value:.2f}\",\"x\":[2000,2001,2002,2003,2004,2005,2006,2007,2008,2009,2010,2011,2012,2013,2014,2015,2016,2017,2018,2019,2020,2021,2022],\"xaxis\":\"x\",\"y\":[162.0,102.0,65.0,142.0,69.0,182.0,110.0,218.0,151.0,71.0,454.0,497.0,378.0,122.0,181.0,27.0,76.0,30.0,62.0,145.0,202.0,275.0,159.0],\"yaxis\":\"y\",\"type\":\"histogram\"},{\"alignmentgroup\":\"True\",\"bingroup\":\"x\",\"histfunc\":\"sum\",\"hovertemplate\":\"constructorName=Ferrari<br>year=%{x}<br>sum of points (normalized as percent)=%{y}<extra></extra>\",\"legendgroup\":\"Ferrari\",\"marker\":{\"color\":\"#636efa\",\"pattern\":{\"shape\":\"\"}},\"name\":\"Ferrari\",\"offsetgroup\":\"Ferrari\",\"orientation\":\"v\",\"showlegend\":true,\"texttemplate\":\"%{value:.2f}\",\"x\":[2000,2001,2002,2003,2004,2005,2006,2007,2008,2009,2010,2011,2012,2013,2014,2015,2016,2017,2018,2019,2020,2021,2022],\"xaxis\":\"x\",\"y\":[170.0,179.0,221.0,158.0,262.0,100.0,201.0,204.0,172.0,70.0,396.0,375.0,400.0,354.0,216.0,428.0,398.0,522.0,571.0,504.0,131.0,323.5,554.0],\"yaxis\":\"y\",\"type\":\"histogram\"},{\"alignmentgroup\":\"True\",\"bingroup\":\"x\",\"histfunc\":\"sum\",\"hovertemplate\":\"constructorName=BMW Sauber<br>year=%{x}<br>sum of points (normalized as percent)=%{y}<extra></extra>\",\"legendgroup\":\"BMW Sauber\",\"marker\":{\"color\":\"#EF553B\",\"pattern\":{\"shape\":\"\"}},\"name\":\"BMW Sauber\",\"offsetgroup\":\"BMW Sauber\",\"orientation\":\"v\",\"showlegend\":true,\"texttemplate\":\"%{value:.2f}\",\"x\":[2002,2006,2007,2008,2009],\"xaxis\":\"x\",\"y\":[0.0,36.0,101.0,135.0,36.0],\"yaxis\":\"y\",\"type\":\"histogram\"},{\"alignmentgroup\":\"True\",\"bingroup\":\"x\",\"histfunc\":\"sum\",\"hovertemplate\":\"constructorName=Toyota<br>year=%{x}<br>sum of points (normalized as percent)=%{y}<extra></extra>\",\"legendgroup\":\"Toyota\",\"marker\":{\"color\":\"#00cc96\",\"pattern\":{\"shape\":\"\"}},\"name\":\"Toyota\",\"offsetgroup\":\"Toyota\",\"orientation\":\"v\",\"showlegend\":true,\"texttemplate\":\"%{value:.2f}\",\"x\":[2002,2003,2004,2005,2006,2007,2008,2009],\"xaxis\":\"x\",\"y\":[2.0,16.0,9.0,88.0,35.0,13.0,56.0,59.5],\"yaxis\":\"y\",\"type\":\"histogram\"},{\"alignmentgroup\":\"True\",\"bingroup\":\"x\",\"histfunc\":\"sum\",\"hovertemplate\":\"constructorName=Renault<br>year=%{x}<br>sum of points (normalized as percent)=%{y}<extra></extra>\",\"legendgroup\":\"Renault\",\"marker\":{\"color\":\"#ab63fa\",\"pattern\":{\"shape\":\"\"}},\"name\":\"Renault\",\"offsetgroup\":\"Renault\",\"orientation\":\"v\",\"showlegend\":true,\"texttemplate\":\"%{value:.2f}\",\"x\":[2002,2003,2004,2005,2006,2007,2008,2009,2010,2011,2016,2017,2018,2019,2020],\"xaxis\":\"x\",\"y\":[23.0,88.0,105.0,191.0,206.0,51.0,80.0,26.0,163.0,73.0,8.0,57.0,122.0,91.0,181.0],\"yaxis\":\"y\",\"type\":\"histogram\"},{\"alignmentgroup\":\"True\",\"bingroup\":\"x\",\"histfunc\":\"sum\",\"hovertemplate\":\"constructorName=Red Bull<br>year=%{x}<br>sum of points (normalized as percent)=%{y}<extra></extra>\",\"legendgroup\":\"Red Bull\",\"marker\":{\"color\":\"#FFA15A\",\"pattern\":{\"shape\":\"\"}},\"name\":\"Red Bull\",\"offsetgroup\":\"Red Bull\",\"orientation\":\"v\",\"showlegend\":true,\"texttemplate\":\"%{value:.2f}\",\"x\":[2005,2006,2007,2008,2009,2010,2011,2012,2013,2014,2015,2016,2017,2018,2019,2020,2021,2022],\"xaxis\":\"x\",\"y\":[34.0,16.0,24.0,29.0,153.5,498.0,650.0,460.0,596.0,405.0,187.0,468.0,368.0,419.0,417.0,319.0,585.5,759.0],\"yaxis\":\"y\",\"type\":\"histogram\"},{\"alignmentgroup\":\"True\",\"bingroup\":\"x\",\"histfunc\":\"sum\",\"hovertemplate\":\"constructorName=Super Aguri<br>year=%{x}<br>sum of points (normalized as percent)=%{y}<extra></extra>\",\"legendgroup\":\"Super Aguri\",\"marker\":{\"color\":\"#19d3f3\",\"pattern\":{\"shape\":\"\"}},\"name\":\"Super Aguri\",\"offsetgroup\":\"Super Aguri\",\"orientation\":\"v\",\"showlegend\":true,\"texttemplate\":\"%{value:.2f}\",\"x\":[2006,2007,2008],\"xaxis\":\"x\",\"y\":[0.0,4.0,0.0],\"yaxis\":\"y\",\"type\":\"histogram\"},{\"alignmentgroup\":\"True\",\"bingroup\":\"x\",\"histfunc\":\"sum\",\"hovertemplate\":\"constructorName=MF1<br>year=%{x}<br>sum of points (normalized as percent)=%{y}<extra></extra>\",\"legendgroup\":\"MF1\",\"marker\":{\"color\":\"#FF6692\",\"pattern\":{\"shape\":\"\"}},\"name\":\"MF1\",\"offsetgroup\":\"MF1\",\"orientation\":\"v\",\"showlegend\":true,\"texttemplate\":\"%{value:.2f}\",\"x\":[2006],\"xaxis\":\"x\",\"y\":[0.0],\"yaxis\":\"y\",\"type\":\"histogram\"},{\"alignmentgroup\":\"True\",\"bingroup\":\"x\",\"histfunc\":\"sum\",\"hovertemplate\":\"constructorName=Spyker MF1<br>year=%{x}<br>sum of points (normalized as percent)=%{y}<extra></extra>\",\"legendgroup\":\"Spyker MF1\",\"marker\":{\"color\":\"#B6E880\",\"pattern\":{\"shape\":\"\"}},\"name\":\"Spyker MF1\",\"offsetgroup\":\"Spyker MF1\",\"orientation\":\"v\",\"showlegend\":true,\"texttemplate\":\"%{value:.2f}\",\"x\":[2006],\"xaxis\":\"x\",\"y\":[0.0],\"yaxis\":\"y\",\"type\":\"histogram\"},{\"alignmentgroup\":\"True\",\"bingroup\":\"x\",\"histfunc\":\"sum\",\"hovertemplate\":\"constructorName=Toro Rosso<br>year=%{x}<br>sum of points (normalized as percent)=%{y}<extra></extra>\",\"legendgroup\":\"Toro Rosso\",\"marker\":{\"color\":\"#FF97FF\",\"pattern\":{\"shape\":\"\"}},\"name\":\"Toro Rosso\",\"offsetgroup\":\"Toro Rosso\",\"orientation\":\"v\",\"showlegend\":true,\"texttemplate\":\"%{value:.2f}\",\"x\":[2006,2007,2008,2009,2010,2011,2012,2013,2014,2015,2016,2017,2018,2019],\"xaxis\":\"x\",\"y\":[1.0,8.0,39.0,8.0,13.0,41.0,26.0,33.0,30.0,67.0,63.0,53.0,33.0,85.0],\"yaxis\":\"y\",\"type\":\"histogram\"},{\"alignmentgroup\":\"True\",\"bingroup\":\"x\",\"histfunc\":\"sum\",\"hovertemplate\":\"constructorName=Honda<br>year=%{x}<br>sum of points (normalized as percent)=%{y}<extra></extra>\",\"legendgroup\":\"Honda\",\"marker\":{\"color\":\"#FECB52\",\"pattern\":{\"shape\":\"\"}},\"name\":\"Honda\",\"offsetgroup\":\"Honda\",\"orientation\":\"v\",\"showlegend\":true,\"texttemplate\":\"%{value:.2f}\",\"x\":[2006,2007,2008],\"xaxis\":\"x\",\"y\":[86.0,6.0,14.0],\"yaxis\":\"y\",\"type\":\"histogram\"},{\"alignmentgroup\":\"True\",\"bingroup\":\"x\",\"histfunc\":\"sum\",\"hovertemplate\":\"constructorName=Spyker<br>year=%{x}<br>sum of points (normalized as percent)=%{y}<extra></extra>\",\"legendgroup\":\"Spyker\",\"marker\":{\"color\":\"#636efa\",\"pattern\":{\"shape\":\"\"}},\"name\":\"Spyker\",\"offsetgroup\":\"Spyker\",\"orientation\":\"v\",\"showlegend\":true,\"texttemplate\":\"%{value:.2f}\",\"x\":[2007],\"xaxis\":\"x\",\"y\":[1.0],\"yaxis\":\"y\",\"type\":\"histogram\"},{\"alignmentgroup\":\"True\",\"bingroup\":\"x\",\"histfunc\":\"sum\",\"hovertemplate\":\"constructorName=Force India<br>year=%{x}<br>sum of points (normalized as percent)=%{y}<extra></extra>\",\"legendgroup\":\"Force India\",\"marker\":{\"color\":\"#EF553B\",\"pattern\":{\"shape\":\"\"}},\"name\":\"Force India\",\"offsetgroup\":\"Force India\",\"orientation\":\"v\",\"showlegend\":true,\"texttemplate\":\"%{value:.2f}\",\"x\":[2008,2009,2010,2011,2012,2013,2014,2015,2016,2017,2018],\"xaxis\":\"x\",\"y\":[0.0,13.0,68.0,69.0,109.0,77.0,155.0,136.0,173.0,187.0,111.0],\"yaxis\":\"y\",\"type\":\"histogram\"},{\"alignmentgroup\":\"True\",\"bingroup\":\"x\",\"histfunc\":\"sum\",\"hovertemplate\":\"constructorName=Brawn<br>year=%{x}<br>sum of points (normalized as percent)=%{y}<extra></extra>\",\"legendgroup\":\"Brawn\",\"marker\":{\"color\":\"#00cc96\",\"pattern\":{\"shape\":\"\"}},\"name\":\"Brawn\",\"offsetgroup\":\"Brawn\",\"orientation\":\"v\",\"showlegend\":true,\"texttemplate\":\"%{value:.2f}\",\"x\":[2009],\"xaxis\":\"x\",\"y\":[172.0],\"yaxis\":\"y\",\"type\":\"histogram\"},{\"alignmentgroup\":\"True\",\"bingroup\":\"x\",\"histfunc\":\"sum\",\"hovertemplate\":\"constructorName=HRT<br>year=%{x}<br>sum of points (normalized as percent)=%{y}<extra></extra>\",\"legendgroup\":\"HRT\",\"marker\":{\"color\":\"#ab63fa\",\"pattern\":{\"shape\":\"\"}},\"name\":\"HRT\",\"offsetgroup\":\"HRT\",\"orientation\":\"v\",\"showlegend\":true,\"texttemplate\":\"%{value:.2f}\",\"x\":[2010,2011,2012],\"xaxis\":\"x\",\"y\":[0.0,0.0,0.0],\"yaxis\":\"y\",\"type\":\"histogram\"},{\"alignmentgroup\":\"True\",\"bingroup\":\"x\",\"histfunc\":\"sum\",\"hovertemplate\":\"constructorName=Virgin<br>year=%{x}<br>sum of points (normalized as percent)=%{y}<extra></extra>\",\"legendgroup\":\"Virgin\",\"marker\":{\"color\":\"#FFA15A\",\"pattern\":{\"shape\":\"\"}},\"name\":\"Virgin\",\"offsetgroup\":\"Virgin\",\"orientation\":\"v\",\"showlegend\":true,\"texttemplate\":\"%{value:.2f}\",\"x\":[2010,2011],\"xaxis\":\"x\",\"y\":[0.0,0.0],\"yaxis\":\"y\",\"type\":\"histogram\"},{\"alignmentgroup\":\"True\",\"bingroup\":\"x\",\"histfunc\":\"sum\",\"hovertemplate\":\"constructorName=Lotus<br>year=%{x}<br>sum of points (normalized as percent)=%{y}<extra></extra>\",\"legendgroup\":\"Lotus\",\"marker\":{\"color\":\"#19d3f3\",\"pattern\":{\"shape\":\"\"}},\"name\":\"Lotus\",\"offsetgroup\":\"Lotus\",\"orientation\":\"v\",\"showlegend\":true,\"texttemplate\":\"%{value:.2f}\",\"x\":[2010,2011],\"xaxis\":\"x\",\"y\":[0.0,0.0],\"yaxis\":\"y\",\"type\":\"histogram\"},{\"alignmentgroup\":\"True\",\"bingroup\":\"x\",\"histfunc\":\"sum\",\"hovertemplate\":\"constructorName=Mercedes<br>year=%{x}<br>sum of points (normalized as percent)=%{y}<extra></extra>\",\"legendgroup\":\"Mercedes\",\"marker\":{\"color\":\"#FF6692\",\"pattern\":{\"shape\":\"\"}},\"name\":\"Mercedes\",\"offsetgroup\":\"Mercedes\",\"orientation\":\"v\",\"showlegend\":true,\"texttemplate\":\"%{value:.2f}\",\"x\":[2010,2011,2012,2013,2014,2015,2016,2017,2018,2019,2020,2021,2022],\"xaxis\":\"x\",\"y\":[214.0,165.0,142.0,360.0,701.0,703.0,765.0,668.0,655.0,739.0,573.0,613.5,515.0],\"yaxis\":\"y\",\"type\":\"histogram\"},{\"alignmentgroup\":\"True\",\"bingroup\":\"x\",\"histfunc\":\"sum\",\"hovertemplate\":\"constructorName=Marussia<br>year=%{x}<br>sum of points (normalized as percent)=%{y}<extra></extra>\",\"legendgroup\":\"Marussia\",\"marker\":{\"color\":\"#B6E880\",\"pattern\":{\"shape\":\"\"}},\"name\":\"Marussia\",\"offsetgroup\":\"Marussia\",\"orientation\":\"v\",\"showlegend\":true,\"texttemplate\":\"%{value:.2f}\",\"x\":[2012,2013,2014,2015],\"xaxis\":\"x\",\"y\":[0.0,0.0,2.0,0.0],\"yaxis\":\"y\",\"type\":\"histogram\"},{\"alignmentgroup\":\"True\",\"bingroup\":\"x\",\"histfunc\":\"sum\",\"hovertemplate\":\"constructorName=Caterham<br>year=%{x}<br>sum of points (normalized as percent)=%{y}<extra></extra>\",\"legendgroup\":\"Caterham\",\"marker\":{\"color\":\"#FF97FF\",\"pattern\":{\"shape\":\"\"}},\"name\":\"Caterham\",\"offsetgroup\":\"Caterham\",\"orientation\":\"v\",\"showlegend\":true,\"texttemplate\":\"%{value:.2f}\",\"x\":[2012,2013,2014],\"xaxis\":\"x\",\"y\":[0.0,0.0,0.0],\"yaxis\":\"y\",\"type\":\"histogram\"},{\"alignmentgroup\":\"True\",\"bingroup\":\"x\",\"histfunc\":\"sum\",\"hovertemplate\":\"constructorName=Lotus F1<br>year=%{x}<br>sum of points (normalized as percent)=%{y}<extra></extra>\",\"legendgroup\":\"Lotus F1\",\"marker\":{\"color\":\"#FECB52\",\"pattern\":{\"shape\":\"\"}},\"name\":\"Lotus F1\",\"offsetgroup\":\"Lotus F1\",\"orientation\":\"v\",\"showlegend\":true,\"texttemplate\":\"%{value:.2f}\",\"x\":[2012,2013,2014,2015],\"xaxis\":\"x\",\"y\":[303.0,315.0,10.0,78.0],\"yaxis\":\"y\",\"type\":\"histogram\"},{\"alignmentgroup\":\"True\",\"bingroup\":\"x\",\"histfunc\":\"sum\",\"hovertemplate\":\"constructorName=Manor Marussia<br>year=%{x}<br>sum of points (normalized as percent)=%{y}<extra></extra>\",\"legendgroup\":\"Manor Marussia\",\"marker\":{\"color\":\"#636efa\",\"pattern\":{\"shape\":\"\"}},\"name\":\"Manor Marussia\",\"offsetgroup\":\"Manor Marussia\",\"orientation\":\"v\",\"showlegend\":true,\"texttemplate\":\"%{value:.2f}\",\"x\":[2015,2016],\"xaxis\":\"x\",\"y\":[0.0,1.0],\"yaxis\":\"y\",\"type\":\"histogram\"},{\"alignmentgroup\":\"True\",\"bingroup\":\"x\",\"histfunc\":\"sum\",\"hovertemplate\":\"constructorName=Haas F1 Team<br>year=%{x}<br>sum of points (normalized as percent)=%{y}<extra></extra>\",\"legendgroup\":\"Haas F1 Team\",\"marker\":{\"color\":\"#EF553B\",\"pattern\":{\"shape\":\"\"}},\"name\":\"Haas F1 Team\",\"offsetgroup\":\"Haas F1 Team\",\"orientation\":\"v\",\"showlegend\":true,\"texttemplate\":\"%{value:.2f}\",\"x\":[2016,2017,2018,2019,2020,2021,2022],\"xaxis\":\"x\",\"y\":[29.0,47.0,93.0,28.0,3.0,0.0,37.0],\"yaxis\":\"y\",\"type\":\"histogram\"},{\"alignmentgroup\":\"True\",\"bingroup\":\"x\",\"histfunc\":\"sum\",\"hovertemplate\":\"constructorName=Alfa Romeo<br>year=%{x}<br>sum of points (normalized as percent)=%{y}<extra></extra>\",\"legendgroup\":\"Alfa Romeo\",\"marker\":{\"color\":\"#00cc96\",\"pattern\":{\"shape\":\"\"}},\"name\":\"Alfa Romeo\",\"offsetgroup\":\"Alfa Romeo\",\"orientation\":\"v\",\"showlegend\":true,\"texttemplate\":\"%{value:.2f}\",\"x\":[2019,2020,2021,2022],\"xaxis\":\"x\",\"y\":[57.0,8.0,13.0,55.0],\"yaxis\":\"y\",\"type\":\"histogram\"},{\"alignmentgroup\":\"True\",\"bingroup\":\"x\",\"histfunc\":\"sum\",\"hovertemplate\":\"constructorName=Racing Point<br>year=%{x}<br>sum of points (normalized as percent)=%{y}<extra></extra>\",\"legendgroup\":\"Racing Point\",\"marker\":{\"color\":\"#ab63fa\",\"pattern\":{\"shape\":\"\"}},\"name\":\"Racing Point\",\"offsetgroup\":\"Racing Point\",\"orientation\":\"v\",\"showlegend\":true,\"texttemplate\":\"%{value:.2f}\",\"x\":[2019,2020],\"xaxis\":\"x\",\"y\":[73.0,210.0],\"yaxis\":\"y\",\"type\":\"histogram\"},{\"alignmentgroup\":\"True\",\"bingroup\":\"x\",\"histfunc\":\"sum\",\"hovertemplate\":\"constructorName=AlphaTauri<br>year=%{x}<br>sum of points (normalized as percent)=%{y}<extra></extra>\",\"legendgroup\":\"AlphaTauri\",\"marker\":{\"color\":\"#FFA15A\",\"pattern\":{\"shape\":\"\"}},\"name\":\"AlphaTauri\",\"offsetgroup\":\"AlphaTauri\",\"orientation\":\"v\",\"showlegend\":true,\"texttemplate\":\"%{value:.2f}\",\"x\":[2020,2021,2022],\"xaxis\":\"x\",\"y\":[107.0,142.0,35.0],\"yaxis\":\"y\",\"type\":\"histogram\"},{\"alignmentgroup\":\"True\",\"bingroup\":\"x\",\"histfunc\":\"sum\",\"hovertemplate\":\"constructorName=Aston Martin<br>year=%{x}<br>sum of points (normalized as percent)=%{y}<extra></extra>\",\"legendgroup\":\"Aston Martin\",\"marker\":{\"color\":\"#19d3f3\",\"pattern\":{\"shape\":\"\"}},\"name\":\"Aston Martin\",\"offsetgroup\":\"Aston Martin\",\"orientation\":\"v\",\"showlegend\":true,\"texttemplate\":\"%{value:.2f}\",\"x\":[2021,2022],\"xaxis\":\"x\",\"y\":[77.0,55.0],\"yaxis\":\"y\",\"type\":\"histogram\"},{\"alignmentgroup\":\"True\",\"bingroup\":\"x\",\"histfunc\":\"sum\",\"hovertemplate\":\"constructorName=Alpine F1 Team<br>year=%{x}<br>sum of points (normalized as percent)=%{y}<extra></extra>\",\"legendgroup\":\"Alpine F1 Team\",\"marker\":{\"color\":\"#FF6692\",\"pattern\":{\"shape\":\"\"}},\"name\":\"Alpine F1 Team\",\"offsetgroup\":\"Alpine F1 Team\",\"orientation\":\"v\",\"showlegend\":true,\"texttemplate\":\"%{value:.2f}\",\"x\":[2021,2022],\"xaxis\":\"x\",\"y\":[155.0,173.0],\"yaxis\":\"y\",\"type\":\"histogram\"}],                        {\"template\":{\"data\":{\"histogram2dcontour\":[{\"type\":\"histogram2dcontour\",\"colorbar\":{\"outlinewidth\":0,\"ticks\":\"\"},\"colorscale\":[[0.0,\"#0d0887\"],[0.1111111111111111,\"#46039f\"],[0.2222222222222222,\"#7201a8\"],[0.3333333333333333,\"#9c179e\"],[0.4444444444444444,\"#bd3786\"],[0.5555555555555556,\"#d8576b\"],[0.6666666666666666,\"#ed7953\"],[0.7777777777777778,\"#fb9f3a\"],[0.8888888888888888,\"#fdca26\"],[1.0,\"#f0f921\"]]}],\"choropleth\":[{\"type\":\"choropleth\",\"colorbar\":{\"outlinewidth\":0,\"ticks\":\"\"}}],\"histogram2d\":[{\"type\":\"histogram2d\",\"colorbar\":{\"outlinewidth\":0,\"ticks\":\"\"},\"colorscale\":[[0.0,\"#0d0887\"],[0.1111111111111111,\"#46039f\"],[0.2222222222222222,\"#7201a8\"],[0.3333333333333333,\"#9c179e\"],[0.4444444444444444,\"#bd3786\"],[0.5555555555555556,\"#d8576b\"],[0.6666666666666666,\"#ed7953\"],[0.7777777777777778,\"#fb9f3a\"],[0.8888888888888888,\"#fdca26\"],[1.0,\"#f0f921\"]]}],\"heatmap\":[{\"type\":\"heatmap\",\"colorbar\":{\"outlinewidth\":0,\"ticks\":\"\"},\"colorscale\":[[0.0,\"#0d0887\"],[0.1111111111111111,\"#46039f\"],[0.2222222222222222,\"#7201a8\"],[0.3333333333333333,\"#9c179e\"],[0.4444444444444444,\"#bd3786\"],[0.5555555555555556,\"#d8576b\"],[0.6666666666666666,\"#ed7953\"],[0.7777777777777778,\"#fb9f3a\"],[0.8888888888888888,\"#fdca26\"],[1.0,\"#f0f921\"]]}],\"heatmapgl\":[{\"type\":\"heatmapgl\",\"colorbar\":{\"outlinewidth\":0,\"ticks\":\"\"},\"colorscale\":[[0.0,\"#0d0887\"],[0.1111111111111111,\"#46039f\"],[0.2222222222222222,\"#7201a8\"],[0.3333333333333333,\"#9c179e\"],[0.4444444444444444,\"#bd3786\"],[0.5555555555555556,\"#d8576b\"],[0.6666666666666666,\"#ed7953\"],[0.7777777777777778,\"#fb9f3a\"],[0.8888888888888888,\"#fdca26\"],[1.0,\"#f0f921\"]]}],\"contourcarpet\":[{\"type\":\"contourcarpet\",\"colorbar\":{\"outlinewidth\":0,\"ticks\":\"\"}}],\"contour\":[{\"type\":\"contour\",\"colorbar\":{\"outlinewidth\":0,\"ticks\":\"\"},\"colorscale\":[[0.0,\"#0d0887\"],[0.1111111111111111,\"#46039f\"],[0.2222222222222222,\"#7201a8\"],[0.3333333333333333,\"#9c179e\"],[0.4444444444444444,\"#bd3786\"],[0.5555555555555556,\"#d8576b\"],[0.6666666666666666,\"#ed7953\"],[0.7777777777777778,\"#fb9f3a\"],[0.8888888888888888,\"#fdca26\"],[1.0,\"#f0f921\"]]}],\"surface\":[{\"type\":\"surface\",\"colorbar\":{\"outlinewidth\":0,\"ticks\":\"\"},\"colorscale\":[[0.0,\"#0d0887\"],[0.1111111111111111,\"#46039f\"],[0.2222222222222222,\"#7201a8\"],[0.3333333333333333,\"#9c179e\"],[0.4444444444444444,\"#bd3786\"],[0.5555555555555556,\"#d8576b\"],[0.6666666666666666,\"#ed7953\"],[0.7777777777777778,\"#fb9f3a\"],[0.8888888888888888,\"#fdca26\"],[1.0,\"#f0f921\"]]}],\"mesh3d\":[{\"type\":\"mesh3d\",\"colorbar\":{\"outlinewidth\":0,\"ticks\":\"\"}}],\"scatter\":[{\"fillpattern\":{\"fillmode\":\"overlay\",\"size\":10,\"solidity\":0.2},\"type\":\"scatter\"}],\"parcoords\":[{\"type\":\"parcoords\",\"line\":{\"colorbar\":{\"outlinewidth\":0,\"ticks\":\"\"}}}],\"scatterpolargl\":[{\"type\":\"scatterpolargl\",\"marker\":{\"colorbar\":{\"outlinewidth\":0,\"ticks\":\"\"}}}],\"bar\":[{\"error_x\":{\"color\":\"#2a3f5f\"},\"error_y\":{\"color\":\"#2a3f5f\"},\"marker\":{\"line\":{\"color\":\"#E5ECF6\",\"width\":0.5},\"pattern\":{\"fillmode\":\"overlay\",\"size\":10,\"solidity\":0.2}},\"type\":\"bar\"}],\"scattergeo\":[{\"type\":\"scattergeo\",\"marker\":{\"colorbar\":{\"outlinewidth\":0,\"ticks\":\"\"}}}],\"scatterpolar\":[{\"type\":\"scatterpolar\",\"marker\":{\"colorbar\":{\"outlinewidth\":0,\"ticks\":\"\"}}}],\"histogram\":[{\"marker\":{\"pattern\":{\"fillmode\":\"overlay\",\"size\":10,\"solidity\":0.2}},\"type\":\"histogram\"}],\"scattergl\":[{\"type\":\"scattergl\",\"marker\":{\"colorbar\":{\"outlinewidth\":0,\"ticks\":\"\"}}}],\"scatter3d\":[{\"type\":\"scatter3d\",\"line\":{\"colorbar\":{\"outlinewidth\":0,\"ticks\":\"\"}},\"marker\":{\"colorbar\":{\"outlinewidth\":0,\"ticks\":\"\"}}}],\"scattermapbox\":[{\"type\":\"scattermapbox\",\"marker\":{\"colorbar\":{\"outlinewidth\":0,\"ticks\":\"\"}}}],\"scatterternary\":[{\"type\":\"scatterternary\",\"marker\":{\"colorbar\":{\"outlinewidth\":0,\"ticks\":\"\"}}}],\"scattercarpet\":[{\"type\":\"scattercarpet\",\"marker\":{\"colorbar\":{\"outlinewidth\":0,\"ticks\":\"\"}}}],\"carpet\":[{\"aaxis\":{\"endlinecolor\":\"#2a3f5f\",\"gridcolor\":\"white\",\"linecolor\":\"white\",\"minorgridcolor\":\"white\",\"startlinecolor\":\"#2a3f5f\"},\"baxis\":{\"endlinecolor\":\"#2a3f5f\",\"gridcolor\":\"white\",\"linecolor\":\"white\",\"minorgridcolor\":\"white\",\"startlinecolor\":\"#2a3f5f\"},\"type\":\"carpet\"}],\"table\":[{\"cells\":{\"fill\":{\"color\":\"#EBF0F8\"},\"line\":{\"color\":\"white\"}},\"header\":{\"fill\":{\"color\":\"#C8D4E3\"},\"line\":{\"color\":\"white\"}},\"type\":\"table\"}],\"barpolar\":[{\"marker\":{\"line\":{\"color\":\"#E5ECF6\",\"width\":0.5},\"pattern\":{\"fillmode\":\"overlay\",\"size\":10,\"solidity\":0.2}},\"type\":\"barpolar\"}],\"pie\":[{\"automargin\":true,\"type\":\"pie\"}]},\"layout\":{\"autotypenumbers\":\"strict\",\"colorway\":[\"#636efa\",\"#EF553B\",\"#00cc96\",\"#ab63fa\",\"#FFA15A\",\"#19d3f3\",\"#FF6692\",\"#B6E880\",\"#FF97FF\",\"#FECB52\"],\"font\":{\"color\":\"#2a3f5f\"},\"hovermode\":\"closest\",\"hoverlabel\":{\"align\":\"left\"},\"paper_bgcolor\":\"white\",\"plot_bgcolor\":\"#E5ECF6\",\"polar\":{\"bgcolor\":\"#E5ECF6\",\"angularaxis\":{\"gridcolor\":\"white\",\"linecolor\":\"white\",\"ticks\":\"\"},\"radialaxis\":{\"gridcolor\":\"white\",\"linecolor\":\"white\",\"ticks\":\"\"}},\"ternary\":{\"bgcolor\":\"#E5ECF6\",\"aaxis\":{\"gridcolor\":\"white\",\"linecolor\":\"white\",\"ticks\":\"\"},\"baxis\":{\"gridcolor\":\"white\",\"linecolor\":\"white\",\"ticks\":\"\"},\"caxis\":{\"gridcolor\":\"white\",\"linecolor\":\"white\",\"ticks\":\"\"}},\"coloraxis\":{\"colorbar\":{\"outlinewidth\":0,\"ticks\":\"\"}},\"colorscale\":{\"sequential\":[[0.0,\"#0d0887\"],[0.1111111111111111,\"#46039f\"],[0.2222222222222222,\"#7201a8\"],[0.3333333333333333,\"#9c179e\"],[0.4444444444444444,\"#bd3786\"],[0.5555555555555556,\"#d8576b\"],[0.6666666666666666,\"#ed7953\"],[0.7777777777777778,\"#fb9f3a\"],[0.8888888888888888,\"#fdca26\"],[1.0,\"#f0f921\"]],\"sequentialminus\":[[0.0,\"#0d0887\"],[0.1111111111111111,\"#46039f\"],[0.2222222222222222,\"#7201a8\"],[0.3333333333333333,\"#9c179e\"],[0.4444444444444444,\"#bd3786\"],[0.5555555555555556,\"#d8576b\"],[0.6666666666666666,\"#ed7953\"],[0.7777777777777778,\"#fb9f3a\"],[0.8888888888888888,\"#fdca26\"],[1.0,\"#f0f921\"]],\"diverging\":[[0,\"#8e0152\"],[0.1,\"#c51b7d\"],[0.2,\"#de77ae\"],[0.3,\"#f1b6da\"],[0.4,\"#fde0ef\"],[0.5,\"#f7f7f7\"],[0.6,\"#e6f5d0\"],[0.7,\"#b8e186\"],[0.8,\"#7fbc41\"],[0.9,\"#4d9221\"],[1,\"#276419\"]]},\"xaxis\":{\"gridcolor\":\"white\",\"linecolor\":\"white\",\"ticks\":\"\",\"title\":{\"standoff\":15},\"zerolinecolor\":\"white\",\"automargin\":true,\"zerolinewidth\":2},\"yaxis\":{\"gridcolor\":\"white\",\"linecolor\":\"white\",\"ticks\":\"\",\"title\":{\"standoff\":15},\"zerolinecolor\":\"white\",\"automargin\":true,\"zerolinewidth\":2},\"scene\":{\"xaxis\":{\"backgroundcolor\":\"#E5ECF6\",\"gridcolor\":\"white\",\"linecolor\":\"white\",\"showbackground\":true,\"ticks\":\"\",\"zerolinecolor\":\"white\",\"gridwidth\":2},\"yaxis\":{\"backgroundcolor\":\"#E5ECF6\",\"gridcolor\":\"white\",\"linecolor\":\"white\",\"showbackground\":true,\"ticks\":\"\",\"zerolinecolor\":\"white\",\"gridwidth\":2},\"zaxis\":{\"backgroundcolor\":\"#E5ECF6\",\"gridcolor\":\"white\",\"linecolor\":\"white\",\"showbackground\":true,\"ticks\":\"\",\"zerolinecolor\":\"white\",\"gridwidth\":2}},\"shapedefaults\":{\"line\":{\"color\":\"#2a3f5f\"}},\"annotationdefaults\":{\"arrowcolor\":\"#2a3f5f\",\"arrowhead\":0,\"arrowwidth\":1},\"geo\":{\"bgcolor\":\"white\",\"landcolor\":\"#E5ECF6\",\"subunitcolor\":\"white\",\"showland\":true,\"showlakes\":true,\"lakecolor\":\"white\"},\"title\":{\"x\":0.05},\"mapbox\":{\"style\":\"light\"}}},\"xaxis\":{\"anchor\":\"y\",\"domain\":[0.0,1.0],\"title\":{\"text\":\"year\"}},\"yaxis\":{\"anchor\":\"x\",\"domain\":[0.0,1.0],\"title\":{\"text\":\"sum of points (normalized as percent)\"}},\"legend\":{\"title\":{\"text\":\"constructorName\"},\"tracegroupgap\":0},\"title\":{\"text\":\"Percentage of Points won by Constructor, 2000-2022\"},\"barmode\":\"relative\",\"barnorm\":\"percent\"},                        {\"responsive\": true}                    ).then(function(){\n",
       "                            \n",
       "var gd = document.getElementById('3358458b-7b1d-4048-a9ba-df961e1e6b82');\n",
       "var x = new MutationObserver(function (mutations, observer) {{\n",
       "        var display = window.getComputedStyle(gd).display;\n",
       "        if (!display || display === 'none') {{\n",
       "            console.log([gd, 'removed!']);\n",
       "            Plotly.purge(gd);\n",
       "            observer.disconnect();\n",
       "        }}\n",
       "}});\n",
       "\n",
       "// Listen for the removal of the full notebook cells\n",
       "var notebookContainer = gd.closest('#notebook-container');\n",
       "if (notebookContainer) {{\n",
       "    x.observe(notebookContainer, {childList: true});\n",
       "}}\n",
       "\n",
       "// Listen for the clearing of the current output cell\n",
       "var outputEl = gd.closest('.output');\n",
       "if (outputEl) {{\n",
       "    x.observe(outputEl, {childList: true});\n",
       "}}\n",
       "\n",
       "                        })                };                });            </script>        </div>"
      ]
     },
     "metadata": {},
     "output_type": "display_data"
    }
   ],
   "source": [
    "import plotly.express as px\n",
    "fig = px.histogram(constructor_pts_year, x=\"year\",\n",
    "                   y=\"points\", color=\"constructorName\",\n",
    "                   barnorm='percent', text_auto='.2f',\n",
    "                   title=\"Percentage of Points won by Constructor, 2000-2022\")\n",
    "fig.show()"
   ]
  },
  {
   "cell_type": "code",
   "execution_count": null,
   "id": "841d6f0e",
   "metadata": {},
   "outputs": [],
   "source": []
  }
 ],
 "metadata": {
  "kernelspec": {
   "display_name": "Python 3 (ipykernel)",
   "language": "python",
   "name": "python3"
  },
  "language_info": {
   "codemirror_mode": {
    "name": "ipython",
    "version": 3
   },
   "file_extension": ".py",
   "mimetype": "text/x-python",
   "name": "python",
   "nbconvert_exporter": "python",
   "pygments_lexer": "ipython3",
   "version": "3.11.3"
  }
 },
 "nbformat": 4,
 "nbformat_minor": 5
}
